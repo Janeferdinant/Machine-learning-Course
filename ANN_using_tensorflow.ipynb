{
  "nbformat": 4,
  "nbformat_minor": 0,
  "metadata": {
    "colab": {
      "name": "ANN using tensorflow.ipynb",
      "provenance": []
    },
    "kernelspec": {
      "name": "python3",
      "display_name": "Python 3"
    },
    "language_info": {
      "name": "python"
    },
    "accelerator": "GPU"
  },
  "cells": [
    {
      "cell_type": "code",
      "metadata": {
        "id": "AqxHzXe-SA-L"
      },
      "source": [
        "import pandas as pd\n",
        "import numpy as np\n"
      ],
      "execution_count": null,
      "outputs": []
    },
    {
      "cell_type": "code",
      "metadata": {
        "id": "PBsc7SzASXPq"
      },
      "source": [
        "df = pd.read_csv(\"/content/BankNote_Authentication.csv\")"
      ],
      "execution_count": null,
      "outputs": []
    },
    {
      "cell_type": "code",
      "metadata": {
        "colab": {
          "base_uri": "https://localhost:8080/",
          "height": 202
        },
        "id": "kCFa7XZTSfMK",
        "outputId": "2e56b142-3253-47e7-bcee-fa0edb4ba97e"
      },
      "source": [
        "df.head()"
      ],
      "execution_count": null,
      "outputs": [
        {
          "output_type": "execute_result",
          "data": {
            "text/html": [
              "<div>\n",
              "<style scoped>\n",
              "    .dataframe tbody tr th:only-of-type {\n",
              "        vertical-align: middle;\n",
              "    }\n",
              "\n",
              "    .dataframe tbody tr th {\n",
              "        vertical-align: top;\n",
              "    }\n",
              "\n",
              "    .dataframe thead th {\n",
              "        text-align: right;\n",
              "    }\n",
              "</style>\n",
              "<table border=\"1\" class=\"dataframe\">\n",
              "  <thead>\n",
              "    <tr style=\"text-align: right;\">\n",
              "      <th></th>\n",
              "      <th>variance</th>\n",
              "      <th>skewness</th>\n",
              "      <th>curtosis</th>\n",
              "      <th>entropy</th>\n",
              "      <th>class</th>\n",
              "    </tr>\n",
              "  </thead>\n",
              "  <tbody>\n",
              "    <tr>\n",
              "      <th>0</th>\n",
              "      <td>3.62160</td>\n",
              "      <td>8.6661</td>\n",
              "      <td>-2.8073</td>\n",
              "      <td>-0.44699</td>\n",
              "      <td>0</td>\n",
              "    </tr>\n",
              "    <tr>\n",
              "      <th>1</th>\n",
              "      <td>4.54590</td>\n",
              "      <td>8.1674</td>\n",
              "      <td>-2.4586</td>\n",
              "      <td>-1.46210</td>\n",
              "      <td>0</td>\n",
              "    </tr>\n",
              "    <tr>\n",
              "      <th>2</th>\n",
              "      <td>3.86600</td>\n",
              "      <td>-2.6383</td>\n",
              "      <td>1.9242</td>\n",
              "      <td>0.10645</td>\n",
              "      <td>0</td>\n",
              "    </tr>\n",
              "    <tr>\n",
              "      <th>3</th>\n",
              "      <td>3.45660</td>\n",
              "      <td>9.5228</td>\n",
              "      <td>-4.0112</td>\n",
              "      <td>-3.59440</td>\n",
              "      <td>0</td>\n",
              "    </tr>\n",
              "    <tr>\n",
              "      <th>4</th>\n",
              "      <td>0.32924</td>\n",
              "      <td>-4.4552</td>\n",
              "      <td>4.5718</td>\n",
              "      <td>-0.98880</td>\n",
              "      <td>0</td>\n",
              "    </tr>\n",
              "  </tbody>\n",
              "</table>\n",
              "</div>"
            ],
            "text/plain": [
              "   variance  skewness  curtosis  entropy  class\n",
              "0   3.62160    8.6661   -2.8073 -0.44699      0\n",
              "1   4.54590    8.1674   -2.4586 -1.46210      0\n",
              "2   3.86600   -2.6383    1.9242  0.10645      0\n",
              "3   3.45660    9.5228   -4.0112 -3.59440      0\n",
              "4   0.32924   -4.4552    4.5718 -0.98880      0"
            ]
          },
          "metadata": {},
          "execution_count": 3
        }
      ]
    },
    {
      "cell_type": "code",
      "metadata": {
        "colab": {
          "base_uri": "https://localhost:8080/",
          "height": 202
        },
        "id": "moojpB-6SlLs",
        "outputId": "d5de36b8-eaf1-4775-8837-ffe98a9469d5"
      },
      "source": [
        "df.tail()"
      ],
      "execution_count": null,
      "outputs": [
        {
          "output_type": "execute_result",
          "data": {
            "text/html": [
              "<div>\n",
              "<style scoped>\n",
              "    .dataframe tbody tr th:only-of-type {\n",
              "        vertical-align: middle;\n",
              "    }\n",
              "\n",
              "    .dataframe tbody tr th {\n",
              "        vertical-align: top;\n",
              "    }\n",
              "\n",
              "    .dataframe thead th {\n",
              "        text-align: right;\n",
              "    }\n",
              "</style>\n",
              "<table border=\"1\" class=\"dataframe\">\n",
              "  <thead>\n",
              "    <tr style=\"text-align: right;\">\n",
              "      <th></th>\n",
              "      <th>variance</th>\n",
              "      <th>skewness</th>\n",
              "      <th>curtosis</th>\n",
              "      <th>entropy</th>\n",
              "      <th>class</th>\n",
              "    </tr>\n",
              "  </thead>\n",
              "  <tbody>\n",
              "    <tr>\n",
              "      <th>1367</th>\n",
              "      <td>0.40614</td>\n",
              "      <td>1.34920</td>\n",
              "      <td>-1.4501</td>\n",
              "      <td>-0.55949</td>\n",
              "      <td>1</td>\n",
              "    </tr>\n",
              "    <tr>\n",
              "      <th>1368</th>\n",
              "      <td>-1.38870</td>\n",
              "      <td>-4.87730</td>\n",
              "      <td>6.4774</td>\n",
              "      <td>0.34179</td>\n",
              "      <td>1</td>\n",
              "    </tr>\n",
              "    <tr>\n",
              "      <th>1369</th>\n",
              "      <td>-3.75030</td>\n",
              "      <td>-13.45860</td>\n",
              "      <td>17.5932</td>\n",
              "      <td>-2.77710</td>\n",
              "      <td>1</td>\n",
              "    </tr>\n",
              "    <tr>\n",
              "      <th>1370</th>\n",
              "      <td>-3.56370</td>\n",
              "      <td>-8.38270</td>\n",
              "      <td>12.3930</td>\n",
              "      <td>-1.28230</td>\n",
              "      <td>1</td>\n",
              "    </tr>\n",
              "    <tr>\n",
              "      <th>1371</th>\n",
              "      <td>-2.54190</td>\n",
              "      <td>-0.65804</td>\n",
              "      <td>2.6842</td>\n",
              "      <td>1.19520</td>\n",
              "      <td>1</td>\n",
              "    </tr>\n",
              "  </tbody>\n",
              "</table>\n",
              "</div>"
            ],
            "text/plain": [
              "      variance  skewness  curtosis  entropy  class\n",
              "1367   0.40614   1.34920   -1.4501 -0.55949      1\n",
              "1368  -1.38870  -4.87730    6.4774  0.34179      1\n",
              "1369  -3.75030 -13.45860   17.5932 -2.77710      1\n",
              "1370  -3.56370  -8.38270   12.3930 -1.28230      1\n",
              "1371  -2.54190  -0.65804    2.6842  1.19520      1"
            ]
          },
          "metadata": {},
          "execution_count": 4
        }
      ]
    },
    {
      "cell_type": "code",
      "metadata": {
        "colab": {
          "base_uri": "https://localhost:8080/"
        },
        "id": "FBi05hltT5Q5",
        "outputId": "a508a88d-9222-48f4-c8c2-923b320d1b45"
      },
      "source": [
        "df.isnull().sum()"
      ],
      "execution_count": null,
      "outputs": [
        {
          "output_type": "execute_result",
          "data": {
            "text/plain": [
              "variance    0\n",
              "skewness    0\n",
              "curtosis    0\n",
              "entropy     0\n",
              "class       0\n",
              "dtype: int64"
            ]
          },
          "metadata": {},
          "execution_count": 5
        }
      ]
    },
    {
      "cell_type": "code",
      "metadata": {
        "colab": {
          "base_uri": "https://localhost:8080/"
        },
        "id": "0I9d9fLUT-gg",
        "outputId": "63bbf239-54ad-4058-fa3b-6a709d136291"
      },
      "source": [
        "df.info()"
      ],
      "execution_count": null,
      "outputs": [
        {
          "output_type": "stream",
          "name": "stdout",
          "text": [
            "<class 'pandas.core.frame.DataFrame'>\n",
            "RangeIndex: 1372 entries, 0 to 1371\n",
            "Data columns (total 5 columns):\n",
            " #   Column    Non-Null Count  Dtype  \n",
            "---  ------    --------------  -----  \n",
            " 0   variance  1372 non-null   float64\n",
            " 1   skewness  1372 non-null   float64\n",
            " 2   curtosis  1372 non-null   float64\n",
            " 3   entropy   1372 non-null   float64\n",
            " 4   class     1372 non-null   int64  \n",
            "dtypes: float64(4), int64(1)\n",
            "memory usage: 53.7 KB\n"
          ]
        }
      ]
    },
    {
      "cell_type": "code",
      "metadata": {
        "colab": {
          "base_uri": "https://localhost:8080/"
        },
        "id": "wfx5JVc0UII4",
        "outputId": "882f38f8-95fa-4e87-d17a-ae04efdb3638"
      },
      "source": [
        "df['class'].unique"
      ],
      "execution_count": null,
      "outputs": [
        {
          "output_type": "execute_result",
          "data": {
            "text/plain": [
              "<bound method Series.unique of 0       0\n",
              "1       0\n",
              "2       0\n",
              "3       0\n",
              "4       0\n",
              "       ..\n",
              "1367    1\n",
              "1368    1\n",
              "1369    1\n",
              "1370    1\n",
              "1371    1\n",
              "Name: class, Length: 1372, dtype: int64>"
            ]
          },
          "metadata": {},
          "execution_count": 7
        }
      ]
    },
    {
      "cell_type": "code",
      "metadata": {
        "colab": {
          "base_uri": "https://localhost:8080/"
        },
        "id": "8i8eUB3FUNyo",
        "outputId": "0dd50a86-520b-4b5b-f4b8-61deb036bf62"
      },
      "source": [
        "df['class'].value_counts()"
      ],
      "execution_count": null,
      "outputs": [
        {
          "output_type": "execute_result",
          "data": {
            "text/plain": [
              "0    762\n",
              "1    610\n",
              "Name: class, dtype: int64"
            ]
          },
          "metadata": {},
          "execution_count": 8
        }
      ]
    },
    {
      "cell_type": "code",
      "metadata": {
        "colab": {
          "base_uri": "https://localhost:8080/"
        },
        "id": "VP7m0R5SU1pZ",
        "outputId": "33e8617d-9059-4168-8807-dec1ae5df289"
      },
      "source": [
        "df.shape\n"
      ],
      "execution_count": null,
      "outputs": [
        {
          "output_type": "execute_result",
          "data": {
            "text/plain": [
              "(1372, 5)"
            ]
          },
          "metadata": {},
          "execution_count": 9
        }
      ]
    },
    {
      "cell_type": "code",
      "metadata": {
        "colab": {
          "base_uri": "https://localhost:8080/"
        },
        "id": "KMMpLKRAU5A9",
        "outputId": "73c37214-064a-46e3-a7e8-c22c5ef290c1"
      },
      "source": [
        "df.columns"
      ],
      "execution_count": null,
      "outputs": [
        {
          "output_type": "execute_result",
          "data": {
            "text/plain": [
              "Index(['variance', 'skewness', 'curtosis', 'entropy', 'class'], dtype='object')"
            ]
          },
          "metadata": {},
          "execution_count": 10
        }
      ]
    },
    {
      "cell_type": "code",
      "metadata": {
        "colab": {
          "base_uri": "https://localhost:8080/"
        },
        "id": "pygUlIVgUcu5",
        "outputId": "4a094931-43cc-43fa-a74a-55e25c0b499b"
      },
      "source": [
        "df['class'].value_counts(normalize= True)*100"
      ],
      "execution_count": null,
      "outputs": [
        {
          "output_type": "execute_result",
          "data": {
            "text/plain": [
              "0    55.539359\n",
              "1    44.460641\n",
              "Name: class, dtype: float64"
            ]
          },
          "metadata": {},
          "execution_count": 11
        }
      ]
    },
    {
      "cell_type": "code",
      "metadata": {
        "id": "z2dvvWvBUv4A"
      },
      "source": [
        "x = df.drop('class', axis = 1)\n",
        "y = df['class']"
      ],
      "execution_count": null,
      "outputs": []
    },
    {
      "cell_type": "code",
      "metadata": {
        "colab": {
          "base_uri": "https://localhost:8080/"
        },
        "id": "UiuyruIaZbkj",
        "outputId": "a6a28308-6c2b-492b-b1ce-0fcbfafef776"
      },
      "source": [
        "x.shape"
      ],
      "execution_count": null,
      "outputs": [
        {
          "output_type": "execute_result",
          "data": {
            "text/plain": [
              "(1372, 4)"
            ]
          },
          "metadata": {},
          "execution_count": 13
        }
      ]
    },
    {
      "cell_type": "code",
      "metadata": {
        "colab": {
          "base_uri": "https://localhost:8080/"
        },
        "id": "IVxTREL5Zewa",
        "outputId": "1ddbdc86-12d9-4335-9efa-f55c619b4224"
      },
      "source": [
        "y.shape"
      ],
      "execution_count": null,
      "outputs": [
        {
          "output_type": "execute_result",
          "data": {
            "text/plain": [
              "(1372,)"
            ]
          },
          "metadata": {},
          "execution_count": 14
        }
      ]
    },
    {
      "cell_type": "code",
      "metadata": {
        "id": "xVVAVAtwVSCL"
      },
      "source": [
        "from sklearn.model_selection import train_test_split\n",
        "\n",
        "x_train,x_test,y_train,y_test = train_test_split(x,y,test_size = 0.25, random_state =42)"
      ],
      "execution_count": null,
      "outputs": []
    },
    {
      "cell_type": "code",
      "metadata": {
        "id": "xgZ8w1I0VvPh"
      },
      "source": [
        "import tensorflow as tf\n"
      ],
      "execution_count": null,
      "outputs": []
    },
    {
      "cell_type": "code",
      "metadata": {
        "colab": {
          "base_uri": "https://localhost:8080/"
        },
        "id": "nTLP1V5bXE5-",
        "outputId": "d9478c2a-f87e-424a-b6f9-f29855d2d214"
      },
      "source": [
        "print(tf.__version__)"
      ],
      "execution_count": null,
      "outputs": [
        {
          "output_type": "stream",
          "name": "stdout",
          "text": [
            "2.6.0\n"
          ]
        }
      ]
    },
    {
      "cell_type": "code",
      "metadata": {
        "id": "HfI8j1gXXJLR"
      },
      "source": [
        "from tensorflow.keras.models import Sequential"
      ],
      "execution_count": null,
      "outputs": []
    },
    {
      "cell_type": "code",
      "metadata": {
        "id": "cXH5uSaGXUfy"
      },
      "source": [
        "from tensorflow.keras.layers import Dense , InputLayer , Dropout"
      ],
      "execution_count": null,
      "outputs": []
    },
    {
      "cell_type": "code",
      "metadata": {
        "id": "WFqcroFLXZKQ"
      },
      "source": [
        "model1 = Sequential()\n",
        "model1.add(Dense())\n",
        "model1.add(Dense(6, input_shape = (4,),kernel_initializer='he_uniform',activation='relu'))\n",
        "model1.add(Dense(1, activation='sigmoid'))\n"
      ],
      "execution_count": null,
      "outputs": []
    },
    {
      "cell_type": "code",
      "metadata": {
        "colab": {
          "base_uri": "https://localhost:8080/"
        },
        "id": "FDT_vFagZ6Iz",
        "outputId": "56c8d373-e05f-4f1b-bea7-119d2d4bb4db"
      },
      "source": [
        "model1.summary()"
      ],
      "execution_count": null,
      "outputs": [
        {
          "output_type": "stream",
          "name": "stdout",
          "text": [
            "Model: \"sequential\"\n",
            "_________________________________________________________________\n",
            "Layer (type)                 Output Shape              Param #   \n",
            "=================================================================\n",
            "dense (Dense)                (None, 6)                 30        \n",
            "_________________________________________________________________\n",
            "dense_1 (Dense)              (None, 1)                 7         \n",
            "=================================================================\n",
            "Total params: 37\n",
            "Trainable params: 37\n",
            "Non-trainable params: 0\n",
            "_________________________________________________________________\n"
          ]
        }
      ]
    },
    {
      "cell_type": "code",
      "metadata": {
        "id": "lMqrv4BOaXOK"
      },
      "source": [
        "model1.compile(optimizer=\"sgd\",\n",
        "              loss= \"binary_crossentropy\",\n",
        "              metrics=[\"accuracy\"])\n"
      ],
      "execution_count": null,
      "outputs": []
    },
    {
      "cell_type": "code",
      "metadata": {
        "colab": {
          "base_uri": "https://localhost:8080/"
        },
        "id": "vv3bqsvyEZ6g",
        "outputId": "85fb4a8d-5c43-47db-aba4-3b581b005177"
      },
      "source": [
        "model1.get_weights()"
      ],
      "execution_count": null,
      "outputs": [
        {
          "output_type": "execute_result",
          "data": {
            "text/plain": [
              "[array([[ 0.11376858,  0.2844447 , -0.9285253 , -0.39202577,  1.0377752 ,\n",
              "          0.9558414 ],\n",
              "        [-0.21048868, -0.26349175, -0.3765    ,  0.26417708,  0.7142726 ,\n",
              "          0.77768505],\n",
              "        [-0.38974786,  0.04257214,  0.35262597, -0.76116556, -0.66913295,\n",
              "         -0.5590701 ],\n",
              "        [-1.222844  , -0.7915571 , -0.5834882 , -0.43480462, -0.9056198 ,\n",
              "          1.1190592 ]], dtype=float32),\n",
              " array([0., 0., 0., 0., 0., 0.], dtype=float32),\n",
              " array([[0.12637019],\n",
              "        [0.8033501 ],\n",
              "        [0.69473994],\n",
              "        [0.68849623],\n",
              "        [0.09505522],\n",
              "        [0.70011854]], dtype=float32),\n",
              " array([0.], dtype=float32)]"
            ]
          },
          "metadata": {},
          "execution_count": 24
        }
      ]
    },
    {
      "cell_type": "code",
      "metadata": {
        "id": "3iAJORRCbgED",
        "colab": {
          "base_uri": "https://localhost:8080/"
        },
        "outputId": "0f75b52f-2e5f-44f4-d40a-0e2d8418218d"
      },
      "source": [
        "model1.fit(x_train, y_train, epochs= 10)"
      ],
      "execution_count": null,
      "outputs": [
        {
          "output_type": "stream",
          "name": "stdout",
          "text": [
            "Epoch 1/10\n",
            "33/33 [==============================] - 0s 3ms/step - loss: 0.0156 - accuracy: 0.9971\n",
            "Epoch 2/10\n",
            "33/33 [==============================] - 0s 3ms/step - loss: 0.0154 - accuracy: 0.9971\n",
            "Epoch 3/10\n",
            "33/33 [==============================] - 0s 4ms/step - loss: 0.0153 - accuracy: 0.9971\n",
            "Epoch 4/10\n",
            "33/33 [==============================] - 0s 3ms/step - loss: 0.0151 - accuracy: 0.9971\n",
            "Epoch 5/10\n",
            "33/33 [==============================] - 0s 3ms/step - loss: 0.0150 - accuracy: 0.9971\n",
            "Epoch 6/10\n",
            "33/33 [==============================] - 0s 3ms/step - loss: 0.0148 - accuracy: 0.9971\n",
            "Epoch 7/10\n",
            "33/33 [==============================] - 0s 4ms/step - loss: 0.0147 - accuracy: 0.9971\n",
            "Epoch 8/10\n",
            "33/33 [==============================] - 0s 4ms/step - loss: 0.0146 - accuracy: 0.9971\n",
            "Epoch 9/10\n",
            "33/33 [==============================] - 0s 4ms/step - loss: 0.0144 - accuracy: 0.9971\n",
            "Epoch 10/10\n",
            "33/33 [==============================] - 0s 4ms/step - loss: 0.0143 - accuracy: 0.9971\n"
          ]
        },
        {
          "output_type": "execute_result",
          "data": {
            "text/plain": [
              "<keras.callbacks.History at 0x7fd672763d50>"
            ]
          },
          "metadata": {},
          "execution_count": 68
        }
      ]
    },
    {
      "cell_type": "code",
      "metadata": {
        "colab": {
          "base_uri": "https://localhost:8080/"
        },
        "id": "fWUfv2zydK3O",
        "outputId": "941af632-fc7a-451f-945b-c8854a889888"
      },
      "source": [
        "model1.evaluate(x_test,y_test)"
      ],
      "execution_count": null,
      "outputs": [
        {
          "output_type": "stream",
          "name": "stdout",
          "text": [
            "11/11 [==============================] - 0s 3ms/step - loss: 0.0204 - accuracy: 0.9942\n"
          ]
        },
        {
          "output_type": "execute_result",
          "data": {
            "text/plain": [
              "[0.020405635237693787, 0.9941691160202026]"
            ]
          },
          "metadata": {},
          "execution_count": 69
        }
      ]
    },
    {
      "cell_type": "code",
      "metadata": {
        "id": "cJqkyWXdANV2",
        "colab": {
          "base_uri": "https://localhost:8080/"
        },
        "outputId": "17799478-8b31-4aa9-fbfa-fc3e489bbb21"
      },
      "source": [
        "model1.get_weights()"
      ],
      "execution_count": null,
      "outputs": [
        {
          "output_type": "execute_result",
          "data": {
            "text/plain": [
              "[array([[ 0.08979251,  0.10492481, -1.3343153 , -0.42051968,  1.5247808 ,\n",
              "          0.759129  ],\n",
              "        [-0.2007038 , -0.23969066, -0.48715898, -0.1245167 ,  0.6970256 ,\n",
              "          0.5678226 ],\n",
              "        [-0.4971286 , -0.5994728 , -0.2678762 , -1.0898618 ,  0.50855476,\n",
              "         -0.7352004 ],\n",
              "        [-1.1873101 , -0.6379416 , -0.2094193 , -0.25290692, -0.95970243,\n",
              "          1.125224  ]], dtype=float32),\n",
              " array([ 0.0026236 ,  0.07434568,  0.1477498 ,  0.23147283,  0.1169635 ,\n",
              "        -0.00820508], dtype=float32),\n",
              " array([[ 0.13280682],\n",
              "        [ 0.838293  ],\n",
              "        [ 1.0795842 ],\n",
              "        [ 0.98826057],\n",
              "        [-1.0832465 ],\n",
              "        [ 0.34086657]], dtype=float32),\n",
              " array([-0.26196373], dtype=float32)]"
            ]
          },
          "metadata": {},
          "execution_count": 26
        }
      ]
    },
    {
      "cell_type": "code",
      "metadata": {
        "id": "-GMLvrHwBmry"
      },
      "source": [
        "y_predict1 = model1.predict(x_test)"
      ],
      "execution_count": null,
      "outputs": []
    },
    {
      "cell_type": "code",
      "metadata": {
        "colab": {
          "base_uri": "https://localhost:8080/"
        },
        "id": "yZRCD8EvjoQd",
        "outputId": "4f7900f2-4e15-46e3-ea97-01ae467e2d15"
      },
      "source": [
        "y_predict1.shape"
      ],
      "execution_count": null,
      "outputs": [
        {
          "output_type": "execute_result",
          "data": {
            "text/plain": [
              "(343, 1)"
            ]
          },
          "metadata": {},
          "execution_count": 29
        }
      ]
    },
    {
      "cell_type": "code",
      "metadata": {
        "id": "SrjLk59Ij0Mj"
      },
      "source": [
        "y_pred1 = y_predict1.flatten()"
      ],
      "execution_count": null,
      "outputs": []
    },
    {
      "cell_type": "code",
      "metadata": {
        "colab": {
          "base_uri": "https://localhost:8080/"
        },
        "id": "LBwzypsIj2Al",
        "outputId": "58faad14-1d12-4e1c-d056-326f7b32e0ca"
      },
      "source": [
        "y_pred1.shape"
      ],
      "execution_count": null,
      "outputs": [
        {
          "output_type": "execute_result",
          "data": {
            "text/plain": [
              "(343,)"
            ]
          },
          "metadata": {},
          "execution_count": 32
        }
      ]
    },
    {
      "cell_type": "code",
      "metadata": {
        "id": "1BOErqHJkL7P"
      },
      "source": [
        "a= np.arange(1,10).reshape(3,3)"
      ],
      "execution_count": null,
      "outputs": []
    },
    {
      "cell_type": "code",
      "metadata": {
        "colab": {
          "base_uri": "https://localhost:8080/"
        },
        "id": "3utcx1wikU-v",
        "outputId": "0b094899-893b-45a1-febe-9012ae158fbb"
      },
      "source": [
        "a"
      ],
      "execution_count": null,
      "outputs": [
        {
          "output_type": "execute_result",
          "data": {
            "text/plain": [
              "array([[1, 2, 3],\n",
              "       [4, 5, 6],\n",
              "       [7, 8, 9]])"
            ]
          },
          "metadata": {},
          "execution_count": 40
        }
      ]
    },
    {
      "cell_type": "code",
      "metadata": {
        "colab": {
          "base_uri": "https://localhost:8080/"
        },
        "id": "tcmhTAdGkobU",
        "outputId": "d4cab0f3-5d72-404a-a6b1-41f3b4d1ad7d"
      },
      "source": [
        "a=a.flatten()\n",
        "a"
      ],
      "execution_count": null,
      "outputs": [
        {
          "output_type": "execute_result",
          "data": {
            "text/plain": [
              "array([1, 2, 3, 4, 5, 6, 7, 8, 9])"
            ]
          },
          "metadata": {},
          "execution_count": 42
        }
      ]
    },
    {
      "cell_type": "code",
      "metadata": {
        "colab": {
          "base_uri": "https://localhost:8080/"
        },
        "id": "tmsZsnuHkyFy",
        "outputId": "86e4f7f4-b760-448d-e7e3-f5fa00e776e7"
      },
      "source": [
        "y_pred1"
      ],
      "execution_count": null,
      "outputs": [
        {
          "output_type": "execute_result",
          "data": {
            "text/plain": [
              "array([1.39669632e-04, 3.45240057e-01, 4.27193493e-02, 2.09551854e-06,\n",
              "       3.83685553e-03, 3.75958346e-03, 8.53649923e-04, 8.01300572e-04,\n",
              "       6.58289855e-03, 1.13324460e-03, 9.50818837e-01, 9.97490287e-01,\n",
              "       1.24449460e-02, 9.51131642e-01, 8.70028064e-02, 9.80852902e-01,\n",
              "       8.77918780e-01, 8.82227957e-01, 9.98931587e-01, 8.28618824e-01,\n",
              "       1.18598517e-03, 2.40610377e-03, 7.59212852e-01, 1.67643302e-03,\n",
              "       9.97324824e-01, 6.06169633e-04, 2.84458802e-05, 9.53129053e-01,\n",
              "       8.07027027e-05, 9.57410230e-05, 9.98763204e-01, 1.96513091e-03,\n",
              "       1.18959947e-02, 9.99625921e-01, 9.98396456e-01, 1.97230722e-04,\n",
              "       9.39304292e-01, 9.07768786e-01, 9.97972071e-01, 1.23613235e-03,\n",
              "       1.27752975e-03, 9.97633100e-01, 9.75582540e-01, 1.68462738e-03,\n",
              "       9.76010263e-01, 9.90783811e-01, 9.27261889e-01, 4.21754178e-03,\n",
              "       1.41928801e-02, 9.85794306e-01, 3.82410572e-03, 6.94270071e-04,\n",
              "       2.97336464e-05, 3.39907536e-04, 3.09721357e-03, 9.80491757e-01,\n",
              "       2.94608508e-05, 1.22196609e-04, 2.92519317e-03, 4.20643977e-04,\n",
              "       9.84634459e-01, 1.13881286e-03, 9.85581577e-01, 6.46161425e-06,\n",
              "       3.26559370e-06, 2.35022861e-04, 6.66733424e-04, 2.09299661e-03,\n",
              "       1.36373162e-01, 9.90870059e-01, 9.64638114e-01, 2.15643877e-03,\n",
              "       9.87090826e-01, 1.56737966e-04, 4.96672988e-01, 2.67536581e-01,\n",
              "       5.34177618e-03, 9.98209715e-01, 9.11228299e-01, 7.90981352e-01,\n",
              "       8.20815504e-01, 2.58201621e-02, 9.94092762e-01, 1.21938559e-04,\n",
              "       2.16741003e-02, 1.48181978e-04, 9.77938180e-04, 9.56065774e-01,\n",
              "       9.60074723e-01, 1.87110156e-03, 1.17278344e-03, 8.24971357e-04,\n",
              "       4.94138867e-01, 9.95810032e-01, 7.97200482e-05, 9.96001661e-01,\n",
              "       9.95614529e-01, 3.67964804e-02, 1.45081466e-03, 7.64116552e-03,\n",
              "       9.99215722e-01, 5.48899313e-03, 1.33191992e-03, 2.43537351e-02,\n",
              "       9.99885082e-01, 7.72884290e-04, 1.08245844e-02, 9.87487555e-01,\n",
              "       9.99334157e-01, 9.94359672e-01, 9.91532147e-01, 9.79261994e-01,\n",
              "       6.07225138e-06, 9.73589063e-01, 9.15665746e-01, 9.99293923e-01,\n",
              "       6.20676001e-05, 9.93923008e-01, 9.99869704e-01, 2.84248404e-03,\n",
              "       9.89410281e-01, 1.80812448e-03, 9.21592951e-01, 3.15641009e-05,\n",
              "       9.68283415e-01, 8.46201961e-04, 9.99769509e-01, 8.83835196e-01,\n",
              "       1.94581691e-03, 9.98400986e-01, 9.99562919e-01, 4.63599827e-06,\n",
              "       4.46563681e-05, 5.83353080e-03, 4.43886063e-04, 1.87598392e-02,\n",
              "       9.95360196e-01, 1.25988532e-04, 1.52670848e-03, 2.83154935e-01,\n",
              "       6.72468357e-03, 6.64992351e-03, 9.98796225e-01, 1.81884936e-03,\n",
              "       9.89695668e-01, 9.46181118e-01, 9.73595381e-01, 9.91148472e-01,\n",
              "       9.97838080e-01, 1.20559940e-03, 9.81263995e-01, 7.89174974e-01,\n",
              "       9.99820530e-01, 1.23735197e-04, 9.64631796e-01, 5.59897395e-04,\n",
              "       9.93328929e-01, 2.02914394e-04, 2.31529889e-03, 4.61537810e-03,\n",
              "       9.92407680e-01, 9.99864459e-01, 9.96759355e-01, 7.72599280e-01,\n",
              "       9.56179202e-01, 4.67517413e-04, 9.99773085e-01, 4.40694239e-05,\n",
              "       8.10502897e-05, 1.13875009e-02, 1.90380272e-02, 1.22493785e-03,\n",
              "       4.30620695e-03, 9.41820085e-01, 1.01893721e-03, 1.99195114e-03,\n",
              "       9.87603366e-01, 9.96292531e-01, 2.35403795e-03, 2.98159634e-04,\n",
              "       8.57106298e-02, 3.86144893e-06, 9.98901486e-01, 7.70461920e-05,\n",
              "       9.84957457e-01, 8.45852133e-04, 9.99613345e-01, 9.97785211e-01,\n",
              "       1.93251864e-04, 1.20296387e-03, 9.65818763e-01, 6.16499528e-05,\n",
              "       2.16124696e-03, 9.99981880e-01, 9.98311043e-01, 6.25003397e-01,\n",
              "       9.68434095e-01, 4.54183817e-02, 8.62305537e-02, 9.66449618e-01,\n",
              "       9.97238636e-01, 9.58731830e-01, 5.64891892e-03, 3.33829416e-06,\n",
              "       9.79802907e-01, 9.99963760e-01, 9.99713242e-01, 9.90741372e-01,\n",
              "       5.66723272e-02, 6.97734440e-03, 7.13236630e-02, 1.04881161e-04,\n",
              "       3.52967856e-03, 6.51443657e-03, 3.39931808e-04, 8.63486028e-04,\n",
              "       2.67536581e-01, 2.84466613e-03, 9.99677300e-01, 9.78771031e-01,\n",
              "       9.83699083e-01, 9.99511719e-01, 9.01184380e-01, 8.11923482e-03,\n",
              "       7.62888134e-01, 1.49008969e-03, 1.04811625e-05, 9.97608066e-01,\n",
              "       9.99353230e-01, 9.99448478e-01, 9.30848122e-01, 1.56760146e-03,\n",
              "       4.40835714e-01, 1.34315214e-03, 9.62402165e-01, 9.93800104e-01,\n",
              "       8.31036270e-01, 9.93779957e-01, 1.55975414e-03, 6.80108042e-03,\n",
              "       5.84464706e-03, 9.95639205e-01, 3.03244172e-03, 9.63083446e-01,\n",
              "       7.40736365e-01, 9.99893188e-01, 1.21710327e-05, 2.66467477e-03,\n",
              "       3.15726036e-04, 1.63317770e-02, 6.84023180e-05, 3.16387136e-03,\n",
              "       9.91478264e-01, 5.53524494e-02, 9.22146678e-01, 5.97245758e-03,\n",
              "       1.30845362e-03, 1.06241216e-03, 9.98596847e-01, 9.80356336e-01,\n",
              "       3.57250986e-03, 4.66175824e-02, 3.30074318e-03, 9.72787559e-01,\n",
              "       5.99638164e-01, 8.45339615e-04, 9.86845613e-01, 9.97080188e-03,\n",
              "       9.92762625e-01, 8.34946513e-01, 9.07668591e-01, 9.10147488e-01,\n",
              "       1.05616599e-02, 3.45232278e-01, 2.52701080e-04, 1.45376293e-06,\n",
              "       7.88967125e-04, 9.99266088e-01, 9.43245366e-04, 3.75145557e-03,\n",
              "       9.99684811e-01, 4.64500772e-05, 9.96216595e-01, 4.47381928e-04,\n",
              "       3.07241062e-05, 9.96393263e-01, 1.56674301e-04, 1.68815721e-03,\n",
              "       1.44654617e-03, 1.91851686e-05, 2.31657387e-03, 9.85851824e-01,\n",
              "       9.95252967e-01, 3.96418618e-03, 8.19171667e-01, 8.54017155e-04,\n",
              "       5.50493836e-01, 9.83926713e-01, 4.00356184e-05, 7.13204071e-02,\n",
              "       1.95785778e-05, 1.18763500e-03, 7.58995127e-04, 3.49195994e-04,\n",
              "       3.25051788e-03, 9.99785364e-01, 8.92132521e-01, 9.69515324e-01,\n",
              "       1.22044992e-03, 1.55627742e-04, 8.24833214e-01, 9.75677609e-01,\n",
              "       1.66696717e-03, 5.93914324e-03, 9.40165762e-03, 9.48193701e-05,\n",
              "       1.19972005e-02, 1.49544445e-03, 9.44882572e-01, 5.04321797e-05,\n",
              "       9.99852657e-01, 4.03095454e-01, 9.51824903e-01, 4.92471596e-03,\n",
              "       1.52416946e-03, 4.50072484e-03, 2.05652304e-05, 9.70022380e-01,\n",
              "       5.82501106e-03, 2.58762884e-05, 3.38443829e-06, 2.14762334e-03,\n",
              "       1.70073621e-02, 6.37778174e-03, 4.98411153e-03, 9.97779906e-01,\n",
              "       3.26595455e-02, 9.99809682e-01, 9.98522818e-01, 5.48076451e-01,\n",
              "       9.98580694e-01, 6.52702991e-04, 7.64376998e-01], dtype=float32)"
            ]
          },
          "metadata": {},
          "execution_count": 43
        }
      ]
    },
    {
      "cell_type": "code",
      "metadata": {
        "colab": {
          "base_uri": "https://localhost:8080/"
        },
        "id": "qXe3dvw4Bpo5",
        "outputId": "4b01685d-8848-4b43-ab13-c207e275a648"
      },
      "source": [
        "y_class1 = (y_pred1>0.5).astype(int)\n",
        "from sklearn.metrics import confusion_matrix, accuracy_score\n",
        "confusion_matrix (y_test, y_class1)\n"
      ],
      "execution_count": null,
      "outputs": [
        {
          "output_type": "execute_result",
          "data": {
            "text/plain": [
              "array([[191,   0],\n",
              "       [  2, 150]])"
            ]
          },
          "metadata": {},
          "execution_count": 74
        }
      ]
    },
    {
      "cell_type": "code",
      "metadata": {
        "colab": {
          "base_uri": "https://localhost:8080/"
        },
        "id": "r8ofss38lPnZ",
        "outputId": "25fefe12-167b-4c39-b812-c9927f19afd4"
      },
      "source": [
        "accuracy_score (y_test, y_class1)"
      ],
      "execution_count": null,
      "outputs": [
        {
          "output_type": "execute_result",
          "data": {
            "text/plain": [
              "0.9883381924198251"
            ]
          },
          "metadata": {},
          "execution_count": 47
        }
      ]
    },
    {
      "cell_type": "code",
      "metadata": {
        "colab": {
          "base_uri": "https://localhost:8080/"
        },
        "id": "e8B7jfZflfWB",
        "outputId": "9825d8b4-bc6b-45fd-8156-0c17e7b1d5b5"
      },
      "source": [
        "model21 = Sequential()\n",
        "model21.add(Dense(6, input_shape = (4,),kernel_initializer='he_uniform',activation='relu'))\n",
        "model21.add(Dropout(rate = 0.2))\n",
        "model21.add(Dense(1, activation='sigmoid'))\n",
        "model21.summary()"
      ],
      "execution_count": null,
      "outputs": [
        {
          "output_type": "stream",
          "name": "stdout",
          "text": [
            "Model: \"sequential_4\"\n",
            "_________________________________________________________________\n",
            "Layer (type)                 Output Shape              Param #   \n",
            "=================================================================\n",
            "dense_7 (Dense)              (None, 6)                 30        \n",
            "_________________________________________________________________\n",
            "dropout_2 (Dropout)          (None, 6)                 0         \n",
            "_________________________________________________________________\n",
            "dense_8 (Dense)              (None, 1)                 7         \n",
            "=================================================================\n",
            "Total params: 37\n",
            "Trainable params: 37\n",
            "Non-trainable params: 0\n",
            "_________________________________________________________________\n"
          ]
        }
      ]
    },
    {
      "cell_type": "code",
      "metadata": {
        "colab": {
          "base_uri": "https://localhost:8080/"
        },
        "id": "zYb9-N8elqke",
        "outputId": "31c7c576-203a-4e0f-8b7b-592a24fbb1de"
      },
      "source": [
        "model21.get_weights()"
      ],
      "execution_count": null,
      "outputs": [
        {
          "output_type": "execute_result",
          "data": {
            "text/plain": [
              "[array([[-0.86713624, -0.24375945, -0.14258838,  0.8127171 , -0.93280053,\n",
              "         -0.27860284],\n",
              "        [ 0.49973273,  0.45998275, -0.27298063, -0.9291843 ,  0.60820735,\n",
              "         -1.1582721 ],\n",
              "        [ 0.96883094,  1.1939746 , -0.50221616,  1.0621568 ,  1.1499516 ,\n",
              "          0.2808988 ],\n",
              "        [ 0.66136277, -0.36405867, -0.24424851,  0.48675966, -0.34779328,\n",
              "         -0.8131472 ]], dtype=float32),\n",
              " array([0., 0., 0., 0., 0., 0.], dtype=float32),\n",
              " array([[-0.65807223],\n",
              "        [ 0.59981596],\n",
              "        [-0.8125039 ],\n",
              "        [ 0.5673747 ],\n",
              "        [-0.15682638],\n",
              "        [-0.3001082 ]], dtype=float32),\n",
              " array([0.], dtype=float32)]"
            ]
          },
          "metadata": {},
          "execution_count": 59
        }
      ]
    },
    {
      "cell_type": "code",
      "metadata": {
        "colab": {
          "base_uri": "https://localhost:8080/"
        },
        "id": "Pv96YxANllK3",
        "outputId": "5da93244-c580-4e7b-efc6-0d1ff2a1161f"
      },
      "source": [
        "model21.compile(optimizer=\"sgd\",\n",
        "              loss= \"binary_crossentropy\",\n",
        "              metrics=[\"accuracy\"])\n",
        "model21.fit(x_train, y_train, epochs= 10)"
      ],
      "execution_count": null,
      "outputs": [
        {
          "output_type": "stream",
          "name": "stdout",
          "text": [
            "Epoch 1/10\n",
            "33/33 [==============================] - 1s 3ms/step - loss: 0.2491 - accuracy: 0.8902\n",
            "Epoch 2/10\n",
            "33/33 [==============================] - 0s 3ms/step - loss: 0.2302 - accuracy: 0.9067\n",
            "Epoch 3/10\n",
            "33/33 [==============================] - 0s 4ms/step - loss: 0.2238 - accuracy: 0.9077\n",
            "Epoch 4/10\n",
            "33/33 [==============================] - 0s 3ms/step - loss: 0.2308 - accuracy: 0.9086\n",
            "Epoch 5/10\n",
            "33/33 [==============================] - 0s 4ms/step - loss: 0.2253 - accuracy: 0.9125\n",
            "Epoch 6/10\n",
            "33/33 [==============================] - 0s 4ms/step - loss: 0.2230 - accuracy: 0.9096\n",
            "Epoch 7/10\n",
            "33/33 [==============================] - 0s 3ms/step - loss: 0.2223 - accuracy: 0.9155\n",
            "Epoch 8/10\n",
            "33/33 [==============================] - 0s 3ms/step - loss: 0.2232 - accuracy: 0.9086\n",
            "Epoch 9/10\n",
            "33/33 [==============================] - 0s 4ms/step - loss: 0.2230 - accuracy: 0.9145\n",
            "Epoch 10/10\n",
            "33/33 [==============================] - 0s 3ms/step - loss: 0.2284 - accuracy: 0.9116\n"
          ]
        },
        {
          "output_type": "execute_result",
          "data": {
            "text/plain": [
              "<keras.callbacks.History at 0x7fd672725050>"
            ]
          },
          "metadata": {},
          "execution_count": 75
        }
      ]
    },
    {
      "cell_type": "code",
      "metadata": {
        "colab": {
          "base_uri": "https://localhost:8080/"
        },
        "id": "4-SvvZDdmbGZ",
        "outputId": "4fe08058-8a75-45e6-98af-1f329fa372ce"
      },
      "source": [
        "model21.evaluate(x_test,y_test)"
      ],
      "execution_count": null,
      "outputs": [
        {
          "output_type": "stream",
          "name": "stdout",
          "text": [
            "11/11 [==============================] - 0s 3ms/step - loss: 0.1216 - accuracy: 0.9854\n"
          ]
        },
        {
          "output_type": "execute_result",
          "data": {
            "text/plain": [
              "[0.12158098816871643, 0.9854227304458618]"
            ]
          },
          "metadata": {},
          "execution_count": 76
        }
      ]
    },
    {
      "cell_type": "code",
      "metadata": {
        "id": "XxwLttzbDJCR"
      },
      "source": [
        "y_predict21 = model21.predict(x_test)\n",
        "y_pred21 = y_predict21.flatten()\n",
        "y_class21 = (y_pred2>0.5).astype(int)\n",
        "\n"
      ],
      "execution_count": null,
      "outputs": []
    },
    {
      "cell_type": "code",
      "metadata": {
        "colab": {
          "base_uri": "https://localhost:8080/"
        },
        "id": "0ycT7hwpoBiU",
        "outputId": "80ffe176-a22d-440a-fcec-bde1dc82a80b"
      },
      "source": [
        "accuracy_score (y_test, y_class21)"
      ],
      "execution_count": null,
      "outputs": [
        {
          "output_type": "execute_result",
          "data": {
            "text/plain": [
              "0.9941690962099126"
            ]
          },
          "metadata": {},
          "execution_count": 78
        }
      ]
    },
    {
      "cell_type": "code",
      "metadata": {
        "colab": {
          "base_uri": "https://localhost:8080/"
        },
        "id": "QxSkIBlYn9Ec",
        "outputId": "fb183845-cb5c-4ef3-a7cd-d31b0b365074"
      },
      "source": [
        "\n",
        "\n",
        "confusion_matrix (y_test, y_class21)\n"
      ],
      "execution_count": null,
      "outputs": [
        {
          "output_type": "execute_result",
          "data": {
            "text/plain": [
              "array([[191,   0],\n",
              "       [  2, 150]])"
            ]
          },
          "metadata": {},
          "execution_count": 79
        }
      ]
    },
    {
      "cell_type": "code",
      "metadata": {
        "colab": {
          "base_uri": "https://localhost:8080/"
        },
        "id": "755M7-M1DhCU",
        "outputId": "52c57f3b-a2c9-434a-91d5-d567846043b1"
      },
      "source": [
        "y_class2.shape"
      ],
      "execution_count": null,
      "outputs": [
        {
          "output_type": "execute_result",
          "data": {
            "text/plain": [
              "(343, 1)"
            ]
          },
          "metadata": {},
          "execution_count": 41
        }
      ]
    },
    {
      "cell_type": "code",
      "metadata": {
        "colab": {
          "base_uri": "https://localhost:8080/"
        },
        "id": "_J4_B6peDX9-",
        "outputId": "ec33b4e1-cdf9-4aa7-8894-5905509ce0b7"
      },
      "source": [
        "confusion_matrix (y_test, y_class2)"
      ],
      "execution_count": null,
      "outputs": [
        {
          "output_type": "execute_result",
          "data": {
            "text/plain": [
              "array([[191,   0],\n",
              "       [  0, 152]])"
            ]
          },
          "metadata": {},
          "execution_count": 40
        }
      ]
    },
    {
      "cell_type": "code",
      "metadata": {
        "colab": {
          "base_uri": "https://localhost:8080/"
        },
        "id": "DznAzNQ9_n5e",
        "outputId": "ec140036-6743-40ca-a8bf-5fc226532475"
      },
      "source": [
        "!pip3 install ann_visualizer"
      ],
      "execution_count": null,
      "outputs": [
        {
          "output_type": "stream",
          "text": [
            "Requirement already satisfied: ann_visualizer in /usr/local/lib/python3.7/dist-packages (2.5)\n"
          ],
          "name": "stdout"
        }
      ]
    },
    {
      "cell_type": "code",
      "metadata": {
        "id": "LsPkPh4qdi7O"
      },
      "source": [
        "from ann_visualizer.visualize import ann_viz\n",
        "ann_viz(model1, title = \"ANN\")"
      ],
      "execution_count": null,
      "outputs": []
    },
    {
      "cell_type": "code",
      "metadata": {
        "id": "oi_9Ub8oEzNX"
      },
      "source": [
        "model2 = Sequential()\n",
        "model2.add(Dense(64, input_shape = (4,), activation='relu'))\n",
        "model2.add(Dense(32,  activation='relu'))\n",
        "model2.add(Dense(16,  activation='relu'))\n",
        "model2.add(Dense(8,  activation='relu'))\n",
        "model2.add(Dense(1,activation='sigmoid'))"
      ],
      "execution_count": null,
      "outputs": []
    },
    {
      "cell_type": "code",
      "metadata": {
        "id": "V1u5rA--NYxp"
      },
      "source": [
        "ann_viz(model2, title = \"ANN\")"
      ],
      "execution_count": null,
      "outputs": []
    },
    {
      "cell_type": "code",
      "metadata": {
        "colab": {
          "base_uri": "https://localhost:8080/"
        },
        "id": "GgvFLNXcLJZi",
        "outputId": "aec37b4f-28e5-41e0-d283-4dadcfd2db2c"
      },
      "source": [
        "model2.summary()"
      ],
      "execution_count": null,
      "outputs": [
        {
          "output_type": "stream",
          "text": [
            "Model: \"sequential_2\"\n",
            "_________________________________________________________________\n",
            "Layer (type)                 Output Shape              Param #   \n",
            "=================================================================\n",
            "dense_5 (Dense)              (None, 64)                320       \n",
            "_________________________________________________________________\n",
            "dense_6 (Dense)              (None, 32)                2080      \n",
            "_________________________________________________________________\n",
            "dense_7 (Dense)              (None, 16)                528       \n",
            "_________________________________________________________________\n",
            "dense_8 (Dense)              (None, 8)                 136       \n",
            "_________________________________________________________________\n",
            "dense_9 (Dense)              (None, 1)                 9         \n",
            "=================================================================\n",
            "Total params: 3,073\n",
            "Trainable params: 3,073\n",
            "Non-trainable params: 0\n",
            "_________________________________________________________________\n"
          ],
          "name": "stdout"
        }
      ]
    },
    {
      "cell_type": "code",
      "metadata": {
        "colab": {
          "base_uri": "https://localhost:8080/"
        },
        "id": "pZE6J6TTLmFw",
        "outputId": "30596b12-07ce-45e7-fcdc-9faf70e68c37"
      },
      "source": [
        "model2.get_weights()"
      ],
      "execution_count": null,
      "outputs": [
        {
          "output_type": "execute_result",
          "data": {
            "text/plain": [
              "[array([[-0.2308492 , -0.05377564,  0.13472632, -0.18052042, -0.25732887,\n",
              "         -0.11518696,  0.23327076, -0.22173351, -0.20207873, -0.10831267,\n",
              "         -0.21794423, -0.29592156, -0.12812977, -0.27063695,  0.12859988,\n",
              "          0.15952352, -0.1422761 , -0.2646229 ,  0.15380466,  0.20298117,\n",
              "          0.0183135 ,  0.18738836, -0.04274735, -0.22925298,  0.28236097,\n",
              "          0.095422  , -0.14795409, -0.17604908,  0.25827032,  0.15207663,\n",
              "          0.14467523,  0.27026492, -0.25016576, -0.25891587, -0.25649777,\n",
              "         -0.20651466, -0.291832  ,  0.0580079 , -0.22294638, -0.23759156,\n",
              "         -0.03989303, -0.24904126,  0.03250316, -0.15513596, -0.00801849,\n",
              "          0.07405946,  0.05469701,  0.12991977,  0.0295102 ,  0.2656818 ,\n",
              "         -0.2960778 , -0.18493667, -0.10564215,  0.21090692,  0.1789839 ,\n",
              "          0.17390576,  0.16718599,  0.25770795, -0.1572853 , -0.04793802,\n",
              "         -0.16638733, -0.06178994,  0.26316196, -0.27505645],\n",
              "        [-0.26643983, -0.04817505, -0.0496686 , -0.21951512,  0.17900223,\n",
              "          0.23235375, -0.12266919, -0.0994636 ,  0.16358957,  0.00734037,\n",
              "          0.20346308,  0.17345512,  0.06654704, -0.07723187, -0.14576063,\n",
              "         -0.07304932,  0.08836874,  0.15556747, -0.09238513,  0.252127  ,\n",
              "          0.11531878, -0.23404917, -0.19325042,  0.22234619,  0.15844104,\n",
              "         -0.11362551,  0.1373828 , -0.08361389,  0.13962492, -0.03393772,\n",
              "         -0.24592464,  0.12037897, -0.23920047, -0.01157108,  0.20064962,\n",
              "          0.28134233,  0.16395897, -0.01695374, -0.2838954 , -0.05627696,\n",
              "          0.27176684, -0.12196304, -0.2763024 ,  0.14908373,  0.12521803,\n",
              "          0.0721319 ,  0.02699068,  0.19352633,  0.28576434, -0.17426404,\n",
              "          0.1975044 , -0.2744622 ,  0.18609416,  0.06095532, -0.14265676,\n",
              "          0.22319078, -0.11973013, -0.06470485,  0.02621767, -0.23173992,\n",
              "          0.09763139,  0.21130985,  0.27571148,  0.12967917],\n",
              "        [ 0.27785146, -0.23027557, -0.15371762, -0.28270355, -0.06912585,\n",
              "         -0.18261233, -0.22114626, -0.03642255, -0.06383801, -0.13326357,\n",
              "          0.01423612, -0.1004456 , -0.21319611, -0.14965208, -0.12768182,\n",
              "         -0.14566374,  0.23756516,  0.2739483 ,  0.17046896,  0.2497127 ,\n",
              "          0.2463044 ,  0.14894933, -0.11389534,  0.14420292, -0.06833534,\n",
              "         -0.15461953,  0.2644084 , -0.07289132,  0.11938912, -0.27353337,\n",
              "          0.00222945, -0.27630162,  0.08544675,  0.16890645, -0.2803751 ,\n",
              "         -0.00667387, -0.12096326,  0.25524086, -0.04553789, -0.24087794,\n",
              "          0.19987619, -0.09501527, -0.07607117, -0.1929912 ,  0.1541883 ,\n",
              "         -0.05292366, -0.03651214,  0.17270195, -0.25638857, -0.24506968,\n",
              "          0.2941302 ,  0.22419709,  0.07831931, -0.00228348,  0.25895077,\n",
              "          0.28866923,  0.24090391,  0.08315894,  0.09825251, -0.15703644,\n",
              "          0.04517245, -0.23319465, -0.11641705, -0.2856519 ],\n",
              "        [-0.21178097,  0.10359159,  0.22542286,  0.06785008,  0.29584736,\n",
              "         -0.063024  ,  0.01675552,  0.08252665, -0.28603467,  0.0495919 ,\n",
              "          0.24468511, -0.00210181,  0.29360074, -0.06332612, -0.08928119,\n",
              "         -0.28105074, -0.17641056,  0.09577361, -0.12731454, -0.2068301 ,\n",
              "         -0.20476702, -0.03256798,  0.0181137 , -0.1320599 , -0.23855849,\n",
              "         -0.2509969 , -0.28460565,  0.16751489, -0.09935446,  0.28338617,\n",
              "          0.05044854,  0.11890465,  0.28971303,  0.25797468, -0.16090071,\n",
              "         -0.0120613 ,  0.01336312,  0.21365625, -0.25990447,  0.0955897 ,\n",
              "          0.05062091, -0.19133648, -0.22388582,  0.17957297, -0.134097  ,\n",
              "         -0.19979596,  0.20682621,  0.19839853, -0.2922266 ,  0.13997966,\n",
              "         -0.15097517,  0.15902707,  0.28276503,  0.2909454 , -0.03232414,\n",
              "          0.2806731 , -0.05678807,  0.07909283, -0.2608954 , -0.11991206,\n",
              "          0.1990903 , -0.18584828,  0.27900624, -0.01801422]],\n",
              "       dtype=float32),\n",
              " array([0., 0., 0., 0., 0., 0., 0., 0., 0., 0., 0., 0., 0., 0., 0., 0., 0.,\n",
              "        0., 0., 0., 0., 0., 0., 0., 0., 0., 0., 0., 0., 0., 0., 0., 0., 0.,\n",
              "        0., 0., 0., 0., 0., 0., 0., 0., 0., 0., 0., 0., 0., 0., 0., 0., 0.,\n",
              "        0., 0., 0., 0., 0., 0., 0., 0., 0., 0., 0., 0., 0.], dtype=float32),\n",
              " array([[ 1.74259067e-01,  1.12035155e-01, -4.37644124e-02, ...,\n",
              "          2.26564288e-01,  7.39448667e-02, -7.29712844e-02],\n",
              "        [ 2.27281749e-01, -2.13574111e-01, -1.17395163e-01, ...,\n",
              "         -1.41124010e-01, -9.65110064e-02,  2.15860724e-01],\n",
              "        [ 2.11004853e-01, -4.84636426e-02,  8.47687721e-02, ...,\n",
              "         -2.06611395e-01,  1.01219356e-01,  1.25503778e-01],\n",
              "        ...,\n",
              "        [ 3.14234495e-02,  1.17308438e-01, -3.48659158e-02, ...,\n",
              "         -7.83368945e-02, -4.60109711e-02, -2.78966427e-02],\n",
              "        [-1.71601772e-04, -2.45822072e-02, -7.24923611e-03, ...,\n",
              "          1.47583783e-01,  2.18653917e-01, -2.10759044e-01],\n",
              "        [-2.12046564e-01, -1.39954627e-01,  4.64684367e-02, ...,\n",
              "          1.68158710e-01,  7.81800151e-02, -8.26783180e-02]], dtype=float32),\n",
              " array([0., 0., 0., 0., 0., 0., 0., 0., 0., 0., 0., 0., 0., 0., 0., 0., 0.,\n",
              "        0., 0., 0., 0., 0., 0., 0., 0., 0., 0., 0., 0., 0., 0., 0.],\n",
              "       dtype=float32),\n",
              " array([[ 0.2561542 , -0.23459288,  0.21807101, -0.00279248,  0.16221097,\n",
              "          0.28636482, -0.15446752,  0.17952695,  0.24701813, -0.23768672,\n",
              "          0.2100186 ,  0.02547112,  0.13862276,  0.13300684,  0.08407563,\n",
              "         -0.15351112],\n",
              "        [-0.18192847,  0.22208396,  0.3246326 , -0.2743109 ,  0.26610002,\n",
              "         -0.29499733, -0.32347596, -0.1573744 , -0.19549942, -0.33133778,\n",
              "         -0.03534409,  0.06524459,  0.10786954, -0.11680855,  0.15031531,\n",
              "          0.228744  ],\n",
              "        [-0.13348463,  0.26373962,  0.15274516, -0.1568779 , -0.22805895,\n",
              "          0.0391379 ,  0.02570301,  0.24012896, -0.06402501,  0.16151783,\n",
              "         -0.10910757,  0.03235167, -0.01691842, -0.19935821,  0.2858213 ,\n",
              "          0.23478094],\n",
              "        [ 0.08419701,  0.16449246, -0.04657033, -0.00784883, -0.04633641,\n",
              "          0.06005454,  0.11540776,  0.04723221, -0.21827945,  0.16590402,\n",
              "         -0.00606823,  0.0190267 ,  0.28118524, -0.22278723, -0.28193906,\n",
              "         -0.23230904],\n",
              "        [ 0.05040425,  0.11317104,  0.16819862, -0.12671155, -0.35059038,\n",
              "          0.24734434,  0.04546362,  0.04948705, -0.3353377 , -0.14758453,\n",
              "          0.05652213,  0.02318507, -0.14318591, -0.33866838, -0.29499903,\n",
              "          0.00217587],\n",
              "        [-0.20222749, -0.12505426,  0.05727857,  0.26174203, -0.3326912 ,\n",
              "          0.1972318 , -0.05695978,  0.06886154,  0.15281275,  0.23442271,\n",
              "         -0.19042477,  0.30457178, -0.22828461,  0.23473129, -0.19943602,\n",
              "         -0.03255144],\n",
              "        [ 0.1924282 , -0.07779017,  0.00383317, -0.16992193,  0.14430803,\n",
              "          0.20264885,  0.21640053, -0.33840495, -0.08132857, -0.28421658,\n",
              "         -0.32992014, -0.03777725,  0.00313598,  0.1396631 , -0.06808999,\n",
              "          0.26623884],\n",
              "        [ 0.22385362,  0.33091494, -0.25348303, -0.19852674, -0.04456887,\n",
              "         -0.21607408,  0.33782175, -0.0308021 , -0.21590759, -0.04693928,\n",
              "          0.10366699,  0.27228186, -0.28393775, -0.25157797,  0.34168813,\n",
              "         -0.3181727 ],\n",
              "        [ 0.22313383, -0.35042506, -0.1056302 ,  0.16906753,  0.0640386 ,\n",
              "          0.25990108, -0.3411677 ,  0.16362342,  0.2746779 ,  0.262323  ,\n",
              "          0.09544355, -0.30578896, -0.28633827,  0.3320832 ,  0.0925431 ,\n",
              "         -0.02670398],\n",
              "        [ 0.22063377, -0.14918205, -0.3220718 , -0.04790941, -0.13920724,\n",
              "          0.01331478, -0.34488454, -0.2122844 ,  0.1765025 ,  0.15006337,\n",
              "          0.17256102, -0.21069758, -0.02714357, -0.09779948,  0.15612617,\n",
              "         -0.13049102],\n",
              "        [ 0.3467743 , -0.1637405 , -0.02133211, -0.12121931, -0.01608002,\n",
              "          0.12107205,  0.0064466 , -0.00095513,  0.11726069, -0.1745306 ,\n",
              "         -0.16799042, -0.23968422, -0.11822502, -0.14313912, -0.14021733,\n",
              "         -0.16911103],\n",
              "        [-0.05860192,  0.20426032,  0.06064174,  0.34463957, -0.30888212,\n",
              "          0.15681592,  0.19712612,  0.05137455,  0.32230797,  0.34880814,\n",
              "          0.27811852, -0.07217681, -0.05288425,  0.3187562 ,  0.26416996,\n",
              "         -0.3309808 ],\n",
              "        [-0.05643505,  0.07566524, -0.19598983, -0.10806839, -0.01752001,\n",
              "         -0.17537834, -0.16954589, -0.20111565, -0.3368371 , -0.19254248,\n",
              "          0.13554493, -0.3303588 ,  0.0427869 ,  0.30652013, -0.33242232,\n",
              "          0.21132836],\n",
              "        [ 0.24801943, -0.14353868,  0.03265563, -0.03862336,  0.01999858,\n",
              "          0.08855861,  0.17183837, -0.27908444, -0.3151717 ,  0.3381789 ,\n",
              "         -0.2828769 , -0.24731812,  0.15962872,  0.00725457,  0.29321352,\n",
              "         -0.2584475 ],\n",
              "        [ 0.22892615, -0.3061128 ,  0.01269379, -0.1474252 ,  0.17634109,\n",
              "          0.01222453, -0.12410308, -0.26443195,  0.26023725, -0.20002683,\n",
              "          0.3060005 , -0.33640745, -0.00284627, -0.13662794,  0.18041351,\n",
              "         -0.2867105 ],\n",
              "        [ 0.15278807,  0.2822846 , -0.17261723,  0.1637573 ,  0.02132994,\n",
              "          0.02585238,  0.16602066,  0.27824667,  0.23091146,  0.08193541,\n",
              "         -0.06424293,  0.17227188, -0.15351416,  0.05266973,  0.35118118,\n",
              "          0.30695388],\n",
              "        [ 0.32423022,  0.17333272,  0.07595167,  0.28188995,  0.22897473,\n",
              "          0.3245733 , -0.06718165, -0.04930794, -0.29642385, -0.25518078,\n",
              "         -0.07006752,  0.10199597, -0.17657574,  0.25735608, -0.07485583,\n",
              "          0.2234712 ],\n",
              "        [-0.07842365,  0.03210697, -0.31510305, -0.3262542 , -0.30078763,\n",
              "          0.10165626,  0.21876314, -0.07519361,  0.20963022, -0.06648892,\n",
              "          0.0594252 ,  0.15371445,  0.31314304,  0.04263416, -0.35152015,\n",
              "         -0.05062646],\n",
              "        [ 0.29745695, -0.14289804, -0.26771086,  0.28815874, -0.20475073,\n",
              "         -0.30450255, -0.23464718,  0.0940184 ,  0.0658043 , -0.20141591,\n",
              "         -0.15488882,  0.10537285, -0.11211753,  0.03648147,  0.18991414,\n",
              "          0.27081642],\n",
              "        [ 0.00597709, -0.18150717, -0.29360262, -0.05682752, -0.02640805,\n",
              "          0.13013944, -0.00641534, -0.01776946, -0.19339266, -0.15563887,\n",
              "          0.16824135,  0.23144159, -0.05083162, -0.09039444, -0.22122148,\n",
              "          0.01006845],\n",
              "        [-0.06948128, -0.08767083, -0.03168365,  0.1050351 , -0.12123777,\n",
              "         -0.13194695, -0.15771781, -0.20949487, -0.14458957, -0.00089341,\n",
              "         -0.05447808, -0.3124523 ,  0.29233453, -0.18202482, -0.00334579,\n",
              "         -0.09855983],\n",
              "        [-0.13762319, -0.33332735,  0.02032253,  0.19186333, -0.23815018,\n",
              "          0.15410778,  0.2942058 ,  0.14659151, -0.17674871, -0.31890404,\n",
              "         -0.25375402, -0.20318785,  0.21694508, -0.12419285,  0.05747634,\n",
              "         -0.30277082],\n",
              "        [-0.30839598, -0.23775846,  0.35281304,  0.02055332, -0.18075114,\n",
              "         -0.09570917,  0.25153962,  0.30746284,  0.3095964 ,  0.2834582 ,\n",
              "         -0.03160903,  0.25305483,  0.04511923,  0.16541788,  0.09313062,\n",
              "         -0.03056169],\n",
              "        [ 0.05465141, -0.25976872,  0.28107837,  0.16889665,  0.24253032,\n",
              "          0.18155065,  0.08217892,  0.24254617,  0.28838333,  0.03340003,\n",
              "         -0.34857863, -0.18625307, -0.25935897,  0.20831922,  0.28396824,\n",
              "         -0.19607143],\n",
              "        [-0.1917121 ,  0.2626504 , -0.04654741,  0.0756579 , -0.26365542,\n",
              "          0.13748899, -0.12682931, -0.06858549,  0.06770822,  0.20096317,\n",
              "          0.09103188, -0.2768848 , -0.20609699,  0.1139285 , -0.27366328,\n",
              "         -0.18047087],\n",
              "        [-0.05102584,  0.01126626,  0.33124724,  0.10298008,  0.03474256,\n",
              "          0.25456503,  0.02315724, -0.26215273,  0.31125286, -0.01899263,\n",
              "          0.1350852 , -0.15138179, -0.21960884, -0.02939567, -0.23318629,\n",
              "         -0.16757822],\n",
              "        [-0.08286053,  0.05538458, -0.18860546, -0.06604487, -0.30583987,\n",
              "          0.30556086,  0.0900476 , -0.2188336 ,  0.02270627, -0.33470532,\n",
              "          0.04872286, -0.2953619 , -0.10340011, -0.05875203,  0.17680529,\n",
              "         -0.2988004 ],\n",
              "        [-0.17398648, -0.31703433, -0.00253496,  0.17197517,  0.15544954,\n",
              "         -0.16336776,  0.10530585, -0.34144703, -0.12076513,  0.334048  ,\n",
              "          0.12902659, -0.20988776, -0.09123823, -0.19621499, -0.00843889,\n",
              "          0.29162195],\n",
              "        [ 0.2618089 , -0.06057227, -0.0472461 , -0.06895122, -0.34556225,\n",
              "          0.17884591,  0.15959832,  0.13763079, -0.3286447 ,  0.1801438 ,\n",
              "         -0.20310515,  0.19310638,  0.08757195,  0.17734542,  0.04187205,\n",
              "          0.17580006],\n",
              "        [ 0.07318082, -0.0056116 ,  0.19388226, -0.0923886 ,  0.2709293 ,\n",
              "          0.2966495 , -0.18579334, -0.18465537, -0.26706207,  0.17583933,\n",
              "          0.24560073,  0.22292969, -0.2371754 , -0.30575752,  0.30495355,\n",
              "          0.25698057],\n",
              "        [ 0.23472306, -0.3421803 ,  0.14952949, -0.06840518,  0.26173106,\n",
              "         -0.27376932,  0.06283167, -0.18275927, -0.31378943, -0.1578939 ,\n",
              "         -0.21711898,  0.32904306, -0.17760023,  0.17634198, -0.01616535,\n",
              "         -0.10839748],\n",
              "        [ 0.05277821, -0.28460318, -0.3186966 ,  0.15375963,  0.16642115,\n",
              "          0.28798655,  0.15925631, -0.07952622,  0.17430863, -0.18703659,\n",
              "          0.0215984 ,  0.08943796,  0.28438327, -0.1405669 ,  0.14448461,\n",
              "          0.11957398]], dtype=float32),\n",
              " array([0., 0., 0., 0., 0., 0., 0., 0., 0., 0., 0., 0., 0., 0., 0., 0.],\n",
              "       dtype=float32),\n",
              " array([[ 0.10290992, -0.44861758,  0.20731854,  0.28104913,  0.22783208,\n",
              "         -0.45103312,  0.06189811,  0.30541933],\n",
              "        [ 0.2849394 ,  0.38996053,  0.30180383, -0.40121162, -0.00071716,\n",
              "         -0.16358817, -0.39747965,  0.29183948],\n",
              "        [ 0.12082016,  0.06468904, -0.2829777 ,  0.17624283, -0.14000082,\n",
              "         -0.10953593,  0.07117581,  0.05754876],\n",
              "        [-0.2290529 , -0.19125617, -0.13986647,  0.47203636,  0.2867142 ,\n",
              "          0.10894656, -0.48825324,  0.34568512],\n",
              "        [ 0.33601117, -0.07951522,  0.19671226,  0.07841218,  0.3581469 ,\n",
              "          0.13283885,  0.18574429,  0.15312922],\n",
              "        [ 0.01496732, -0.21626091, -0.22946024, -0.07118857,  0.02858007,\n",
              "         -0.2943033 , -0.20724678,  0.4661206 ],\n",
              "        [-0.49479103,  0.31614864, -0.1771363 ,  0.36695635, -0.00365865,\n",
              "         -0.07753372,  0.380404  , -0.38071787],\n",
              "        [-0.12095463,  0.38697696, -0.2476443 , -0.23044431, -0.00064337,\n",
              "         -0.3147261 ,  0.04990661,  0.11103141],\n",
              "        [ 0.2961868 , -0.09976411,  0.05538881,  0.35831785,  0.00584662,\n",
              "          0.25671494, -0.05886734, -0.25551653],\n",
              "        [ 0.1834842 ,  0.05931985,  0.33050382,  0.2493639 , -0.20556307,\n",
              "          0.22366023, -0.40124643, -0.4479828 ],\n",
              "        [ 0.35703003,  0.03186226, -0.40241194, -0.30654716,  0.13411796,\n",
              "         -0.2775482 ,  0.2205981 ,  0.41018546],\n",
              "        [ 0.49442267, -0.45252585,  0.30269337,  0.44413936,  0.33359563,\n",
              "          0.04212201,  0.22276771, -0.13901949],\n",
              "        [ 0.07595181,  0.12301409,  0.09895897, -0.34462643,  0.17737639,\n",
              "          0.39933705,  0.19582176, -0.47413683],\n",
              "        [-0.20918489,  0.32909632, -0.44420874,  0.037907  ,  0.14127016,\n",
              "         -0.18911338,  0.4636525 , -0.30561793],\n",
              "        [-0.09427583, -0.4994458 ,  0.21428514,  0.3318032 ,  0.4425099 ,\n",
              "         -0.21042097, -0.30138075,  0.04388559],\n",
              "        [ 0.29447353,  0.08136153,  0.31300056,  0.4074962 , -0.27472305,\n",
              "         -0.14283931,  0.10911798, -0.2287376 ]], dtype=float32),\n",
              " array([0., 0., 0., 0., 0., 0., 0., 0.], dtype=float32),\n",
              " array([[-0.3747625 ],\n",
              "        [-0.3058076 ],\n",
              "        [ 0.04238605],\n",
              "        [ 0.6589812 ],\n",
              "        [-0.44159317],\n",
              "        [ 0.0595032 ],\n",
              "        [-0.13569212],\n",
              "        [-0.25524336]], dtype=float32),\n",
              " array([0.], dtype=float32)]"
            ]
          },
          "metadata": {},
          "execution_count": 40
        }
      ]
    },
    {
      "cell_type": "code",
      "metadata": {
        "id": "uv1uy6DjMB5Z"
      },
      "source": [
        "model2.compile(optimizer=\"adam\",\n",
        "              loss= \"binary_crossentropy\",\n",
        "              metrics=[\"accuracy\"])\n"
      ],
      "execution_count": null,
      "outputs": []
    },
    {
      "cell_type": "code",
      "metadata": {
        "colab": {
          "base_uri": "https://localhost:8080/"
        },
        "id": "EZOY_CPUMMD4",
        "outputId": "52e999bf-362b-443d-c54b-291c7b59d095"
      },
      "source": [
        "model2.fit(x_train, y_train, epochs= 5 )"
      ],
      "execution_count": null,
      "outputs": [
        {
          "output_type": "stream",
          "text": [
            "Epoch 1/5\n",
            "33/33 [==============================] - 1s 4ms/step - loss: 0.5102 - accuracy: 0.8805\n",
            "Epoch 2/5\n",
            "33/33 [==============================] - 0s 3ms/step - loss: 0.1655 - accuracy: 0.9728\n",
            "Epoch 3/5\n",
            "33/33 [==============================] - 0s 4ms/step - loss: 0.0518 - accuracy: 0.9922\n",
            "Epoch 4/5\n",
            "33/33 [==============================] - 0s 4ms/step - loss: 0.0220 - accuracy: 0.9990\n",
            "Epoch 5/5\n",
            "33/33 [==============================] - 0s 4ms/step - loss: 0.0110 - accuracy: 1.0000\n"
          ],
          "name": "stdout"
        },
        {
          "output_type": "execute_result",
          "data": {
            "text/plain": [
              "<keras.callbacks.History at 0x7f77de8b71d0>"
            ]
          },
          "metadata": {},
          "execution_count": 44
        }
      ]
    },
    {
      "cell_type": "code",
      "metadata": {
        "colab": {
          "base_uri": "https://localhost:8080/"
        },
        "id": "xSo9clJkM5vg",
        "outputId": "44597631-ab35-456d-968a-459d34b65fbc"
      },
      "source": [
        "model2.get_weights()"
      ],
      "execution_count": null,
      "outputs": [
        {
          "output_type": "execute_result",
          "data": {
            "text/plain": [
              "[array([[-0.15452233, -0.09858037,  0.12358098, -0.15179051, -0.32168397,\n",
              "         -0.1495254 ,  0.2725117 , -0.31812468, -0.15853754, -0.08749018,\n",
              "         -0.18867722, -0.343042  , -0.10224966, -0.22035961,  0.1725807 ,\n",
              "          0.1258597 , -0.08170858, -0.34493455,  0.21275052,  0.27647457,\n",
              "          0.09257778,  0.27520946, -0.01243842, -0.26509252,  0.32431316,\n",
              "          0.06032959, -0.2146415 , -0.26030418,  0.25280228,  0.14442846,\n",
              "          0.05959453,  0.30424935, -0.3399995 , -0.31040975, -0.24616094,\n",
              "         -0.2473118 , -0.2646596 ,  0.13082421, -0.32288688, -0.29801446,\n",
              "         -0.0174451 , -0.35844144, -0.06472534, -0.20135689, -0.04583557,\n",
              "          0.09139863,  0.05465901,  0.12317076, -0.00586949,  0.32805854,\n",
              "         -0.33395234, -0.1999331 , -0.05486051,  0.21957774,  0.11285818,\n",
              "          0.23876718,  0.24996549,  0.27114362, -0.22623949, -0.06786527,\n",
              "         -0.11076999, -0.09361295,  0.30381235, -0.32719907],\n",
              "        [-0.30866492, -0.02653553, -0.05485287, -0.21452062,  0.14712305,\n",
              "          0.19923691, -0.12327129, -0.08471042,  0.22370602, -0.00070478,\n",
              "          0.22640765,  0.22755568,  0.04860827, -0.12896696, -0.10720158,\n",
              "         -0.0943406 ,  0.10645533,  0.11288794, -0.06967964,  0.2855334 ,\n",
              "          0.14752293, -0.2574117 , -0.16265152,  0.2014535 ,  0.20094879,\n",
              "         -0.10963117,  0.10676318, -0.11361439,  0.14180134, -0.03667536,\n",
              "         -0.2920454 ,  0.18214105, -0.28264025,  0.02410062,  0.18334813,\n",
              "          0.23217985,  0.20263466, -0.01290091, -0.26789913, -0.03174691,\n",
              "          0.28761142, -0.16005987, -0.22776085,  0.11529364,  0.10551175,\n",
              "          0.11414345,  0.00099723,  0.22399579,  0.26778474, -0.17528354,\n",
              "          0.17132784, -0.23044278,  0.25255507,  0.04547714, -0.19266346,\n",
              "          0.27350265, -0.09905456, -0.06122331, -0.0086357 , -0.17681733,\n",
              "          0.13364716,  0.16564485,  0.34364936,  0.11441272],\n",
              "        [ 0.33223486, -0.30298895, -0.18919036, -0.2568788 , -0.11452984,\n",
              "         -0.22419919, -0.15491095, -0.02190927, -0.0424625 , -0.18742375,\n",
              "         -0.00111771, -0.1572138 , -0.24751961, -0.10149962, -0.21433946,\n",
              "         -0.14096496,  0.26195714,  0.31134933,  0.19675864,  0.3329016 ,\n",
              "          0.25532144,  0.19968012, -0.15769945,  0.12157347, -0.01529127,\n",
              "         -0.2162798 ,  0.29138365, -0.03910336,  0.17653061, -0.33402455,\n",
              "          0.03935621, -0.22720985,  0.12052003,  0.12903737, -0.2751843 ,\n",
              "          0.02627739, -0.10879411,  0.30370632, -0.03437246, -0.3047683 ,\n",
              "          0.21351841, -0.05623587, -0.1338415 , -0.23974606,  0.15660767,\n",
              "         -0.0979314 ,  0.00874259,  0.14868459, -0.29118976, -0.18648897,\n",
              "          0.2629517 ,  0.16627093,  0.08909412,  0.01037329,  0.3115854 ,\n",
              "          0.32015863,  0.2516217 ,  0.08108387,  0.07465747, -0.2341928 ,\n",
              "          0.04626831, -0.2715849 , -0.05398964, -0.32587805],\n",
              "        [-0.25701606,  0.07017084,  0.17778122,  0.08792107,  0.29118043,\n",
              "         -0.04620937,  0.04512631,  0.04333864, -0.31641927,  0.0738568 ,\n",
              "          0.22414958, -0.05228782,  0.2964036 , -0.01767075, -0.10509153,\n",
              "         -0.27682868, -0.19019683,  0.08628059, -0.1603895 , -0.20805393,\n",
              "         -0.24584988, -0.08014523,  0.10295796, -0.13507855, -0.24257663,\n",
              "         -0.24999532, -0.26900092,  0.24782583, -0.10599088,  0.2735039 ,\n",
              "          0.13816884,  0.08285391,  0.3802133 ,  0.2942112 , -0.14455223,\n",
              "          0.03789666, -0.00364829,  0.18075237, -0.2878817 ,  0.06350297,\n",
              "          0.04073751, -0.17679682, -0.2583265 ,  0.1869591 , -0.12622261,\n",
              "         -0.23595962,  0.30163017,  0.16572168, -0.29804146,  0.14661217,\n",
              "         -0.12795861,  0.20244598,  0.25628832,  0.30933428,  0.04475564,\n",
              "          0.20799485, -0.13928705, -0.00875918, -0.2534172 , -0.156332  ,\n",
              "          0.20438686, -0.18445693,  0.24828193, -0.02170621]],\n",
              "       dtype=float32),\n",
              " array([ 0.03010748,  0.10945562,  0.01252229, -0.04756137,  0.0896704 ,\n",
              "         0.03637264, -0.03033784,  0.1030785 ,  0.02475692,  0.09623111,\n",
              "        -0.03856968,  0.09880691,  0.03090044, -0.05236843,  0.11513554,\n",
              "        -0.02199202, -0.01985724,  0.08164293,  0.04229986,  0.03277455,\n",
              "         0.04178854,  0.04401641,  0.07333285,  0.04209194, -0.02942753,\n",
              "         0.06327056,  0.04707693,  0.11822589, -0.02100409,  0.07544025,\n",
              "         0.10517438,  0.00318002,  0.09731963, -0.03425695, -0.01971196,\n",
              "        -0.04073265, -0.00718729,  0.08206449,  0.10281532,  0.10474829,\n",
              "        -0.02213219,  0.08845222,  0.04206767,  0.06704199,  0.00232667,\n",
              "         0.08121391,  0.08897949,  0.02615185,  0.05417818,  0.01964904,\n",
              "        -0.03690101, -0.05653467,  0.08329152,  0.03215249,  0.09194568,\n",
              "         0.04137785, -0.00476292, -0.04571708,  0.04914332,  0.09289628,\n",
              "        -0.03230934,  0.04346776,  0.02506497,  0.0791818 ], dtype=float32),\n",
              " array([[ 0.1726102 ,  0.12772834, -0.00270858, ...,  0.23481138,\n",
              "          0.1126415 , -0.05034083],\n",
              "        [ 0.18439746, -0.26417762, -0.01554171, ..., -0.21530923,\n",
              "         -0.02222027,  0.16343898],\n",
              "        [ 0.2452998 , -0.03446691,  0.17463729, ..., -0.19072409,\n",
              "          0.12233187,  0.14085312],\n",
              "        ...,\n",
              "        [ 0.01561423,  0.13109528, -0.04548797, ..., -0.03847889,\n",
              "         -0.04759617,  0.01380303],\n",
              "        [ 0.02040315,  0.01862952, -0.03590454, ...,  0.20172024,\n",
              "          0.19501948, -0.1503807 ],\n",
              "        [-0.23718682, -0.14676496,  0.0739036 , ...,  0.18381327,\n",
              "          0.09736498, -0.06020347]], dtype=float32),\n",
              " array([ 0.01397753,  0.00301571,  0.02336507,  0.0538171 , -0.02007188,\n",
              "         0.08710706, -0.01186588,  0.04430474,  0.01820657, -0.04207988,\n",
              "        -0.00395646,  0.07494394, -0.03600429,  0.06626499,  0.00672759,\n",
              "         0.05776018,  0.02131271, -0.02234614,  0.        , -0.00783033,\n",
              "         0.00307195, -0.03187162,  0.06719946,  0.0927813 ,  0.08425736,\n",
              "         0.0634286 , -0.02879962,  0.06451646,  0.04810223,  0.03639278,\n",
              "         0.02633502,  0.04803646], dtype=float32),\n",
              " array([[ 0.35260966, -0.23459288,  0.23527536, -0.01500469,  0.18406168,\n",
              "          0.28356117, -0.14399177,  0.17138   ,  0.23569243, -0.22383942,\n",
              "          0.29016718,  0.08654163,  0.21268287,  0.12353763,  0.08085977,\n",
              "         -0.15351112],\n",
              "        [-0.1018164 ,  0.2679554 ,  0.28695008, -0.30433068,  0.34421295,\n",
              "         -0.2275348 , -0.3566763 , -0.17684329, -0.2293221 , -0.36364865,\n",
              "          0.04258937,  0.08179458,  0.1695073 , -0.1727346 ,  0.17453471,\n",
              "          0.2093015 ],\n",
              "        [-0.07167428,  0.24010444,  0.24232979, -0.09603774, -0.22391522,\n",
              "         -0.01536585,  0.07352402,  0.20165128, -0.00586443,  0.23795481,\n",
              "         -0.10006077,  0.145917  ,  0.00132725, -0.11741976,  0.23914179,\n",
              "          0.21654446],\n",
              "        [ 0.15109684,  0.20109583, -0.01368355,  0.0462102 ,  0.00586743,\n",
              "          0.08867904,  0.15891401,  0.00922848, -0.18422012,  0.20359822,\n",
              "          0.01486885,  0.08735339,  0.34425518, -0.2149783 , -0.25089848,\n",
              "         -0.21724167],\n",
              "        [ 0.07222327,  0.1044011 ,  0.18512486, -0.11236469, -0.36197868,\n",
              "          0.23164943,  0.06127568,  0.03578381, -0.32144573, -0.12807825,\n",
              "          0.04876548,  0.03157372, -0.13408494, -0.32457215, -0.28872144,\n",
              "          0.0144255 ],\n",
              "        [-0.17581338, -0.1345914 ,  0.11696507,  0.3177167 , -0.3355878 ,\n",
              "          0.16448678, -0.00459048,  0.02656762,  0.20425463,  0.28630853,\n",
              "         -0.23565607,  0.38522783, -0.21360818,  0.26676857, -0.1911541 ,\n",
              "         -0.04417032],\n",
              "        [ 0.19007005, -0.07779017,  0.01402601, -0.16121928,  0.13577323,\n",
              "          0.19286622,  0.2254304 , -0.33840495, -0.08132857, -0.2740825 ,\n",
              "         -0.32992014, -0.03777725,  0.00313598,  0.14764698, -0.0657167 ,\n",
              "          0.26623884],\n",
              "        [ 0.28750846,  0.31176606, -0.17442426, -0.09975225, -0.09583718,\n",
              "         -0.2791608 ,  0.40780842, -0.06742769, -0.13492188,  0.01951323,\n",
              "          0.08739834,  0.39332843, -0.3045705 , -0.19140986,  0.3053029 ,\n",
              "         -0.33187866],\n",
              "        [ 0.30449986, -0.30309293, -0.12615453,  0.1353559 ,  0.13874398,\n",
              "          0.32008725, -0.35010487,  0.13953069,  0.25401148,  0.24849732,\n",
              "          0.171241  , -0.26512477, -0.20939453,  0.29305235,  0.11443521,\n",
              "         -0.04563794],\n",
              "        [ 0.25947553, -0.16668403, -0.29475924, -0.01482306, -0.15670939,\n",
              "         -0.00959205, -0.32002524, -0.23719329,  0.20913844,  0.17918628,\n",
              "          0.14801478, -0.1711031 , -0.04718352, -0.07247828,  0.16618516,\n",
              "         -0.13815153],\n",
              "        [ 0.45163077, -0.0881844 , -0.027367  , -0.18956736,  0.06280257,\n",
              "          0.18879253, -0.01055121, -0.0079184 ,  0.07169306, -0.19283995,\n",
              "         -0.07574879, -0.1490984 , -0.03324997, -0.13902733, -0.10314017,\n",
              "         -0.1849778 ],\n",
              "        [ 0.02885361,  0.21000017,  0.13842098,  0.41739696, -0.30593273,\n",
              "          0.10668572,  0.26223418,  0.00543033,  0.3879771 ,  0.40594128,\n",
              "          0.29392275,  0.01803911, -0.00470367,  0.37168285,  0.25780228,\n",
              "         -0.3345726 ],\n",
              "        [-0.03642448,  0.07566524, -0.17318122, -0.08474661, -0.03918019,\n",
              "         -0.19781253, -0.14678073, -0.2120899 , -0.32290307, -0.1680401 ,\n",
              "          0.10857724, -0.29229134,  0.04801498,  0.33142185, -0.33802655,\n",
              "          0.21656115],\n",
              "        [ 0.32260716, -0.09645695,  0.09765051, -0.01145921,  0.07018004,\n",
              "          0.12997662,  0.19854726, -0.30295876, -0.29610154,  0.36736384,\n",
              "         -0.2113655 , -0.12874487,  0.23978862,  0.02775219,  0.29659635,\n",
              "         -0.2796385 ],\n",
              "        [ 0.3167528 , -0.23071331, -0.03437986, -0.1852823 ,  0.2505314 ,\n",
              "          0.07668766, -0.1415394 , -0.2983047 ,  0.23238297, -0.20737603,\n",
              "          0.37817496, -0.29797122,  0.08406162, -0.15982462,  0.21421997,\n",
              "         -0.2994179 ],\n",
              "        [ 0.21578324,  0.30211627, -0.14939986,  0.18594697,  0.07680372,\n",
              "          0.05903554,  0.18090174,  0.2405427 ,  0.23703015,  0.09430102,\n",
              "         -0.02035834,  0.23676515, -0.11096747,  0.04172952,  0.36043262,\n",
              "          0.2901776 ],\n",
              "        [ 0.4232097 ,  0.19980088,  0.12885593,  0.3368443 ,  0.26264006,\n",
              "          0.31595024, -0.01363171, -0.08362401, -0.23818383, -0.21109214,\n",
              "         -0.03746027,  0.16069962, -0.10079277,  0.30497578, -0.04989149,\n",
              "          0.24021445],\n",
              "        [-0.0149013 ,  0.03447624, -0.28226745, -0.30860832, -0.2297453 ,\n",
              "          0.15696894,  0.22428581, -0.11249864,  0.21295837, -0.05057919,\n",
              "          0.11599626,  0.18967344,  0.3499337 ,  0.02789876, -0.3272944 ,\n",
              "         -0.06487103],\n",
              "        [ 0.29745695, -0.14289804, -0.26771086,  0.28815874, -0.20475073,\n",
              "         -0.30450255, -0.23464718,  0.0940184 ,  0.0658043 , -0.20141591,\n",
              "         -0.15488882,  0.10537285, -0.11211753,  0.03648147,  0.18991414,\n",
              "          0.27081642],\n",
              "        [ 0.11955959, -0.20333655, -0.26612794, -0.06766579,  0.06349674,\n",
              "          0.18661691, -0.00392438, -0.034843  , -0.186818  , -0.14132553,\n",
              "          0.22792858,  0.26389053,  0.07564913, -0.06744077, -0.18501487,\n",
              "          0.01514363],\n",
              "        [ 0.00413279, -0.0387356 , -0.09833736,  0.03655006, -0.03546755,\n",
              "         -0.05250448, -0.2169712 , -0.22581263, -0.2040786 , -0.06666338,\n",
              "          0.03238058, -0.30790246,  0.36874923, -0.2552414 ,  0.02406299,\n",
              "         -0.12003004],\n",
              "        [-0.06726613, -0.34764832,  0.05636042,  0.20862989, -0.20485835,\n",
              "          0.1514641 ,  0.321035  ,  0.10667484, -0.13855147, -0.28879878,\n",
              "         -0.20454225, -0.16416734,  0.26096833, -0.12535065,  0.05603616,\n",
              "         -0.3008047 ],\n",
              "        [-0.27236253, -0.26269197,  0.42374054,  0.09258341, -0.18078789,\n",
              "         -0.12895213,  0.3155742 ,  0.26358753,  0.36743107,  0.3448494 ,\n",
              "         -0.07452533,  0.3515017 ,  0.07473676,  0.20071346,  0.09523964,\n",
              "         -0.04706554],\n",
              "        [ 0.14050429, -0.30448487,  0.35728496,  0.25665995,  0.2573235 ,\n",
              "          0.13828787,  0.15546599,  0.18746296,  0.364161  ,  0.09826314,\n",
              "         -0.31892762, -0.07444481, -0.20614545,  0.2640616 ,  0.2762459 ,\n",
              "         -0.20152228],\n",
              "        [-0.10811607,  0.21077608,  0.07418993,  0.20958926, -0.32276493,\n",
              "          0.03381013, -0.01272388, -0.12847461,  0.19244368,  0.31629315,\n",
              "          0.0142116 , -0.13295655, -0.16665119,  0.19354872, -0.28281915,\n",
              "         -0.17229241],\n",
              "        [ 0.04388339,  0.06973476,  0.33853266,  0.12039454,  0.12222947,\n",
              "          0.3238338 ,  0.02839046, -0.29601938,  0.32275653,  0.00149028,\n",
              "          0.21393   , -0.0408578 , -0.13171391, -0.01978256, -0.18781453,\n",
              "         -0.18768172],\n",
              "        [-0.00959131,  0.10269656, -0.22652072, -0.11298687, -0.23977785,\n",
              "          0.36118945,  0.06817562, -0.23309362, -0.00659432, -0.3531221 ,\n",
              "          0.12042171, -0.26692462, -0.02691388, -0.09787873,  0.1912045 ,\n",
              "         -0.3210752 ],\n",
              "        [-0.1143079 , -0.3284911 ,  0.06286487,  0.22379279,  0.19195949,\n",
              "         -0.17637011,  0.15200916, -0.38802978, -0.06813537,  0.39016968,\n",
              "          0.11604992, -0.11645827, -0.06042464, -0.1685879 ,  0.01361051,\n",
              "          0.2750065 ],\n",
              "        [ 0.24066763, -0.09430338,  0.07451207,  0.03143595, -0.36071944,\n",
              "          0.14806703,  0.19911267,  0.11713538, -0.24222313,  0.2435435 ,\n",
              "         -0.23855546,  0.3243636 ,  0.0389008 ,  0.26563063,  0.04147042,\n",
              "          0.17580006],\n",
              "        [ 0.17571752,  0.05459365,  0.17707016, -0.1565979 ,  0.34997955,\n",
              "          0.37295923, -0.20442729, -0.2121733 , -0.301765  ,  0.16931365,\n",
              "          0.33769408,  0.29204845, -0.13213928, -0.31506827,  0.34301627,\n",
              "          0.23273246],\n",
              "        [ 0.24856614, -0.3176998 ,  0.15862124, -0.02622939,  0.2846791 ,\n",
              "         -0.25580513,  0.1080261 , -0.19705613, -0.30453703, -0.12543446,\n",
              "         -0.21057296,  0.39224824, -0.13729903,  0.18059191, -0.03425239,\n",
              "         -0.12076492],\n",
              "        [ 0.1370592 , -0.20711668, -0.38054523,  0.08292679,  0.25261328,\n",
              "          0.3650968 ,  0.1180944 , -0.10140419,  0.12816314, -0.23998334,\n",
              "          0.1142884 ,  0.13449141,  0.37229094, -0.19261593,  0.17752531,\n",
              "          0.09528323]], dtype=float32),\n",
              " array([ 0.07157468,  0.00137108,  0.0743274 ,  0.07020853,  0.05160202,\n",
              "         0.02368561,  0.05894908, -0.04227177,  0.0553102 ,  0.05645464,\n",
              "         0.03369568,  0.08474289,  0.06046447,  0.05276697,  0.03351973,\n",
              "        -0.0169516 ], dtype=float32),\n",
              " array([[ 0.18034655, -0.4544276 ,  0.17749582,  0.25389996,  0.269394  ,\n",
              "         -0.2948674 ,  0.2001505 ,  0.36786878],\n",
              "        [ 0.34160867,  0.38996053,  0.29859978, -0.44921088,  0.05182179,\n",
              "         -0.12268573, -0.28646973,  0.36697504],\n",
              "        [ 0.11486615,  0.03983665, -0.31270668,  0.26541436, -0.22373809,\n",
              "          0.05978372,  0.14309512,  0.02500308],\n",
              "        [-0.24903081, -0.2120372 , -0.155422  ,  0.56156087,  0.20185646,\n",
              "          0.26122147, -0.430969  ,  0.31226665],\n",
              "        [ 0.43166634, -0.07951522,  0.15614645,  0.01359416,  0.43243822,\n",
              "          0.1411981 ,  0.34200868,  0.23020005],\n",
              "        [ 0.08829307, -0.23572011, -0.26152173, -0.1109674 ,  0.08210839,\n",
              "         -0.19961171, -0.05902012,  0.5381951 ],\n",
              "        [-0.5659983 ,  0.294433  , -0.19417006,  0.451401  , -0.08364312,\n",
              "          0.08010565,  0.3601899 , -0.42621624],\n",
              "        [-0.14005545,  0.370002  , -0.24145338, -0.19254033, -0.03867057,\n",
              "         -0.28544894,  0.04063797,  0.09187641],\n",
              "        [ 0.2840029 , -0.11902087,  0.03638963,  0.420527  , -0.05083659,\n",
              "          0.37972125, -0.00762473, -0.22532587],\n",
              "        [ 0.1258379 ,  0.03719119,  0.3176532 ,  0.33698356, -0.28798285,\n",
              "          0.3689698 , -0.40710154, -0.4960894 ],\n",
              "        [ 0.4590463 ,  0.02443742, -0.43497604, -0.39033288,  0.23009472,\n",
              "         -0.2269423 ,  0.36211762,  0.5114521 ],\n",
              "        [ 0.41756883, -0.47140896,  0.3020259 ,  0.5457622 ,  0.23978004,\n",
              "          0.20399989,  0.21040176, -0.19808236],\n",
              "        [ 0.16098465,  0.12301409,  0.05827532, -0.4260599 ,  0.26237783,\n",
              "          0.36398768,  0.34818205, -0.37886876],\n",
              "        [-0.26188734,  0.3094752 , -0.4611719 ,  0.12470713,  0.05803754,\n",
              "         -0.04206017,  0.4385658 , -0.35679963],\n",
              "        [-0.02596346, -0.51271975,  0.18471895,  0.30046472,  0.48420048,\n",
              "         -0.13808212, -0.14977585,  0.10903233],\n",
              "        [ 0.31104255,  0.07593276,  0.2963958 ,  0.39102057, -0.2581266 ,\n",
              "         -0.15161128,  0.11931871, -0.2111325 ]], dtype=float32),\n",
              " array([ 0.04436755, -0.02135212, -0.02945663,  0.01682802,  0.00207725,\n",
              "         0.10169679,  0.0698284 ,  0.04661547], dtype=float32),\n",
              " array([[-0.47882944],\n",
              "        [-0.28710094],\n",
              "        [ 0.014044  ],\n",
              "        [ 0.7429021 ],\n",
              "        [-0.5153046 ],\n",
              "        [ 0.19270168],\n",
              "        [-0.313757  ],\n",
              "        [-0.32774353]], dtype=float32),\n",
              " array([0.00164035], dtype=float32)]"
            ]
          },
          "metadata": {},
          "execution_count": 46
        }
      ]
    },
    {
      "cell_type": "code",
      "metadata": {
        "id": "F4LujllvOE0w"
      },
      "source": [
        "model3 = Sequential()\n",
        "model3.add(Input(shape=(4,)))\n",
        "model3.add(Dense(64,activation='relu'))\n",
        "model3.add(Dropout(rate = 0.2))\n",
        "model3.add(Dense(32,  activation='relu'))\n",
        "model3.add(Dropout(rate = 0.2 ))\n",
        "model3.add(Dense(16,  activation='relu'))\n",
        "model3.add(Dropout(rate = 0.2 ))\n",
        "model3.add(Dense(8,  activation='relu'))\n",
        "model3.add(Dropout(rate = 0.2 ))\n",
        "model3.add(Dense(1,activation='sigmoid'))"
      ],
      "execution_count": null,
      "outputs": []
    },
    {
      "cell_type": "code",
      "metadata": {
        "colab": {
          "base_uri": "https://localhost:8080/"
        },
        "id": "7rlyDhdwPHFx",
        "outputId": "1148e4c4-ff75-40d8-b7a5-add2e83383c7"
      },
      "source": [
        "model3.summary()"
      ],
      "execution_count": null,
      "outputs": [
        {
          "output_type": "stream",
          "text": [
            "Model: \"sequential_3\"\n",
            "_________________________________________________________________\n",
            "Layer (type)                 Output Shape              Param #   \n",
            "=================================================================\n",
            "dense_10 (Dense)             (None, 64)                320       \n",
            "_________________________________________________________________\n",
            "dropout (Dropout)            (None, 64)                0         \n",
            "_________________________________________________________________\n",
            "dense_11 (Dense)             (None, 32)                2080      \n",
            "_________________________________________________________________\n",
            "dropout_1 (Dropout)          (None, 32)                0         \n",
            "_________________________________________________________________\n",
            "dense_12 (Dense)             (None, 16)                528       \n",
            "_________________________________________________________________\n",
            "dropout_2 (Dropout)          (None, 16)                0         \n",
            "_________________________________________________________________\n",
            "dense_13 (Dense)             (None, 8)                 136       \n",
            "_________________________________________________________________\n",
            "dropout_3 (Dropout)          (None, 8)                 0         \n",
            "_________________________________________________________________\n",
            "dense_14 (Dense)             (None, 1)                 9         \n",
            "=================================================================\n",
            "Total params: 3,073\n",
            "Trainable params: 3,073\n",
            "Non-trainable params: 0\n",
            "_________________________________________________________________\n"
          ],
          "name": "stdout"
        }
      ]
    },
    {
      "cell_type": "code",
      "metadata": {
        "id": "YqGpVu94OoJK"
      },
      "source": [
        "ann_viz(model3, title = \"ANN\")"
      ],
      "execution_count": null,
      "outputs": []
    },
    {
      "cell_type": "code",
      "metadata": {
        "id": "Rkz1pFTuRDVQ"
      },
      "source": [
        "model3.compile(optimizer=\"adam\",\n",
        "              loss= \"binary_crossentropy\",\n",
        "              metrics=[\"accuracy\"])\n"
      ],
      "execution_count": null,
      "outputs": []
    },
    {
      "cell_type": "code",
      "metadata": {
        "colab": {
          "base_uri": "https://localhost:8080/"
        },
        "id": "86CY3b-PRMzB",
        "outputId": "fc599563-c821-4451-cd9e-b7b3b30e36f7"
      },
      "source": [
        "model3.fit(x_train, y_train, epochs= 5 )"
      ],
      "execution_count": null,
      "outputs": [
        {
          "output_type": "stream",
          "text": [
            "Epoch 1/5\n",
            "33/33 [==============================] - 1s 4ms/step - loss: 0.6674 - accuracy: 0.6045\n",
            "Epoch 2/5\n",
            "33/33 [==============================] - 0s 4ms/step - loss: 0.5215 - accuracy: 0.7716\n",
            "Epoch 3/5\n",
            "33/33 [==============================] - 0s 4ms/step - loss: 0.4190 - accuracy: 0.8610\n",
            "Epoch 4/5\n",
            "33/33 [==============================] - 0s 4ms/step - loss: 0.3329 - accuracy: 0.9203\n",
            "Epoch 5/5\n",
            "33/33 [==============================] - 0s 4ms/step - loss: 0.2455 - accuracy: 0.9485\n"
          ],
          "name": "stdout"
        },
        {
          "output_type": "execute_result",
          "data": {
            "text/plain": [
              "<keras.callbacks.History at 0x7f782005a050>"
            ]
          },
          "metadata": {},
          "execution_count": 60
        }
      ]
    },
    {
      "cell_type": "code",
      "metadata": {
        "colab": {
          "base_uri": "https://localhost:8080/"
        },
        "id": "AAmYwOALSeBR",
        "outputId": "3bdeb98a-1c02-43c3-e8e6-002b12bf5247"
      },
      "source": [
        "model3.fit(x_train, y_train, epochs= 5 )"
      ],
      "execution_count": null,
      "outputs": [
        {
          "output_type": "stream",
          "text": [
            "Epoch 1/5\n",
            "33/33 [==============================] - 0s 4ms/step - loss: 0.1729 - accuracy: 0.9660\n",
            "Epoch 2/5\n",
            "33/33 [==============================] - 0s 4ms/step - loss: 0.1167 - accuracy: 0.9767\n",
            "Epoch 3/5\n",
            "33/33 [==============================] - 0s 4ms/step - loss: 0.0796 - accuracy: 0.9864\n",
            "Epoch 4/5\n",
            "33/33 [==============================] - 0s 4ms/step - loss: 0.0700 - accuracy: 0.9806\n",
            "Epoch 5/5\n",
            "33/33 [==============================] - 0s 4ms/step - loss: 0.0469 - accuracy: 0.9883\n"
          ],
          "name": "stdout"
        },
        {
          "output_type": "execute_result",
          "data": {
            "text/plain": [
              "<keras.callbacks.History at 0x7f77d985f490>"
            ]
          },
          "metadata": {},
          "execution_count": 61
        }
      ]
    },
    {
      "cell_type": "code",
      "metadata": {
        "colab": {
          "base_uri": "https://localhost:8080/"
        },
        "id": "kWXwko6oSiR5",
        "outputId": "cf0a48aa-1b1f-4e55-dd52-6528772d6946"
      },
      "source": [
        "model3.fit(x_train, y_train, epochs= 5 )"
      ],
      "execution_count": null,
      "outputs": [
        {
          "output_type": "stream",
          "text": [
            "Epoch 1/5\n",
            "33/33 [==============================] - 0s 4ms/step - loss: 0.0468 - accuracy: 0.9874\n",
            "Epoch 2/5\n",
            "33/33 [==============================] - 0s 4ms/step - loss: 0.0371 - accuracy: 0.9913\n",
            "Epoch 3/5\n",
            "33/33 [==============================] - 0s 4ms/step - loss: 0.0372 - accuracy: 0.9932\n",
            "Epoch 4/5\n",
            "33/33 [==============================] - 0s 4ms/step - loss: 0.0323 - accuracy: 0.9961\n",
            "Epoch 5/5\n",
            "33/33 [==============================] - 0s 4ms/step - loss: 0.0266 - accuracy: 0.9961\n"
          ],
          "name": "stdout"
        },
        {
          "output_type": "execute_result",
          "data": {
            "text/plain": [
              "<keras.callbacks.History at 0x7f77d7ffe9d0>"
            ]
          },
          "metadata": {},
          "execution_count": 62
        }
      ]
    },
    {
      "cell_type": "code",
      "metadata": {
        "colab": {
          "base_uri": "https://localhost:8080/"
        },
        "id": "4_95xZQ8Sjea",
        "outputId": "8638123f-f2f9-4641-acf2-ae0514f6f63f"
      },
      "source": [
        "model3.fit(x_train, y_train, epochs= 5 )"
      ],
      "execution_count": null,
      "outputs": [
        {
          "output_type": "stream",
          "text": [
            "Epoch 1/5\n",
            "33/33 [==============================] - 0s 4ms/step - loss: 0.0343 - accuracy: 0.9932\n",
            "Epoch 2/5\n",
            "33/33 [==============================] - 0s 4ms/step - loss: 0.0273 - accuracy: 0.9932\n",
            "Epoch 3/5\n",
            "33/33 [==============================] - 0s 4ms/step - loss: 0.0217 - accuracy: 0.9932\n",
            "Epoch 4/5\n",
            "33/33 [==============================] - 0s 4ms/step - loss: 0.0279 - accuracy: 0.9961\n",
            "Epoch 5/5\n",
            "33/33 [==============================] - 0s 4ms/step - loss: 0.0154 - accuracy: 1.0000\n"
          ],
          "name": "stdout"
        },
        {
          "output_type": "execute_result",
          "data": {
            "text/plain": [
              "<keras.callbacks.History at 0x7f77de70e810>"
            ]
          },
          "metadata": {},
          "execution_count": 63
        }
      ]
    },
    {
      "cell_type": "code",
      "metadata": {
        "id": "E36lQKcZSu36"
      },
      "source": [
        "y_predict = model3.predict(x_test)"
      ],
      "execution_count": null,
      "outputs": []
    },
    {
      "cell_type": "code",
      "metadata": {
        "colab": {
          "base_uri": "https://localhost:8080/"
        },
        "id": "8Q8LXGbVS0ii",
        "outputId": "03c6a8f9-1bd4-4277-f329-b56b4d541180"
      },
      "source": [
        "y_predict"
      ],
      "execution_count": null,
      "outputs": [
        {
          "output_type": "execute_result",
          "data": {
            "text/plain": [
              "array([[1.08456999e-09],\n",
              "       [4.02831165e-06],\n",
              "       [9.24640517e-07],\n",
              "       [8.92647874e-15],\n",
              "       [2.96742575e-10],\n",
              "       [6.91655089e-09],\n",
              "       [3.69880127e-10],\n",
              "       [7.22782612e-10],\n",
              "       [5.80386006e-09],\n",
              "       [3.50763030e-10],\n",
              "       [9.99311328e-01],\n",
              "       [9.99922276e-01],\n",
              "       [9.37794464e-09],\n",
              "       [9.99907255e-01],\n",
              "       [8.19075510e-08],\n",
              "       [9.99923348e-01],\n",
              "       [9.99016643e-01],\n",
              "       [9.98917222e-01],\n",
              "       [1.00000000e+00],\n",
              "       [9.97848392e-01],\n",
              "       [4.79418623e-11],\n",
              "       [1.72023773e-09],\n",
              "       [9.98845816e-01],\n",
              "       [5.31044687e-11],\n",
              "       [9.99994516e-01],\n",
              "       [6.01346584e-10],\n",
              "       [4.07960341e-12],\n",
              "       [9.99927759e-01],\n",
              "       [2.41846592e-14],\n",
              "       [7.57040969e-13],\n",
              "       [9.99989629e-01],\n",
              "       [9.00580588e-09],\n",
              "       [2.01884617e-07],\n",
              "       [9.99999404e-01],\n",
              "       [9.99986768e-01],\n",
              "       [1.63870462e-11],\n",
              "       [9.99170661e-01],\n",
              "       [9.98819888e-01],\n",
              "       [9.99898911e-01],\n",
              "       [2.16327822e-09],\n",
              "       [5.13401377e-10],\n",
              "       [9.99983311e-01],\n",
              "       [9.99455750e-01],\n",
              "       [7.19777571e-11],\n",
              "       [9.99952912e-01],\n",
              "       [9.99997616e-01],\n",
              "       [9.99739468e-01],\n",
              "       [4.86095821e-08],\n",
              "       [1.65595604e-09],\n",
              "       [9.99951005e-01],\n",
              "       [1.43935480e-07],\n",
              "       [1.76363618e-10],\n",
              "       [1.07501744e-10],\n",
              "       [9.36260028e-11],\n",
              "       [8.40838776e-09],\n",
              "       [9.99714315e-01],\n",
              "       [2.96666402e-12],\n",
              "       [7.11904711e-12],\n",
              "       [1.10423546e-08],\n",
              "       [4.80825015e-12],\n",
              "       [9.99991059e-01],\n",
              "       [1.76014892e-09],\n",
              "       [9.99991179e-01],\n",
              "       [3.10633274e-13],\n",
              "       [8.80713620e-14],\n",
              "       [2.96495190e-11],\n",
              "       [3.74279441e-10],\n",
              "       [7.38787642e-10],\n",
              "       [1.54945828e-05],\n",
              "       [9.99995112e-01],\n",
              "       [9.99966025e-01],\n",
              "       [1.11217147e-10],\n",
              "       [9.99991417e-01],\n",
              "       [9.85306194e-12],\n",
              "       [9.92666423e-01],\n",
              "       [3.18895397e-03],\n",
              "       [5.73898120e-08],\n",
              "       [9.99943495e-01],\n",
              "       [9.98960257e-01],\n",
              "       [9.94321942e-01],\n",
              "       [9.97748077e-01],\n",
              "       [1.20915574e-04],\n",
              "       [9.99991417e-01],\n",
              "       [1.06592742e-10],\n",
              "       [1.26346697e-06],\n",
              "       [7.63162997e-14],\n",
              "       [1.23685603e-10],\n",
              "       [9.99927163e-01],\n",
              "       [9.99950886e-01],\n",
              "       [3.95812799e-10],\n",
              "       [1.18199381e-10],\n",
              "       [5.07856757e-10],\n",
              "       [9.64812756e-01],\n",
              "       [9.99941945e-01],\n",
              "       [2.83740309e-10],\n",
              "       [9.99999404e-01],\n",
              "       [9.99988794e-01],\n",
              "       [2.42326639e-08],\n",
              "       [6.09851059e-11],\n",
              "       [2.74100512e-06],\n",
              "       [9.99999881e-01],\n",
              "       [5.10133624e-09],\n",
              "       [1.51821755e-09],\n",
              "       [1.00157829e-08],\n",
              "       [9.99999881e-01],\n",
              "       [2.37649345e-10],\n",
              "       [5.29168620e-09],\n",
              "       [9.99975681e-01],\n",
              "       [1.00000000e+00],\n",
              "       [9.99997735e-01],\n",
              "       [9.99658704e-01],\n",
              "       [9.99706089e-01],\n",
              "       [7.87321217e-13],\n",
              "       [9.99813974e-01],\n",
              "       [9.99275386e-01],\n",
              "       [9.99990225e-01],\n",
              "       [1.74995966e-12],\n",
              "       [9.99997973e-01],\n",
              "       [1.00000000e+00],\n",
              "       [1.64721126e-09],\n",
              "       [9.99992371e-01],\n",
              "       [1.63415326e-08],\n",
              "       [9.98859048e-01],\n",
              "       [4.36960234e-12],\n",
              "       [9.99963880e-01],\n",
              "       [4.03384798e-10],\n",
              "       [9.99996781e-01],\n",
              "       [9.97227252e-01],\n",
              "       [4.33272707e-09],\n",
              "       [9.99941587e-01],\n",
              "       [9.99999166e-01],\n",
              "       [9.17437309e-14],\n",
              "       [2.56857285e-10],\n",
              "       [3.09669232e-08],\n",
              "       [1.63235885e-12],\n",
              "       [7.05243295e-08],\n",
              "       [9.99858260e-01],\n",
              "       [1.21914035e-13],\n",
              "       [7.01606717e-10],\n",
              "       [2.56566400e-05],\n",
              "       [5.93457117e-10],\n",
              "       [8.73714114e-08],\n",
              "       [9.99999404e-01],\n",
              "       [6.13675111e-10],\n",
              "       [9.99934316e-01],\n",
              "       [9.99557316e-01],\n",
              "       [9.99931931e-01],\n",
              "       [9.99981403e-01],\n",
              "       [9.99994636e-01],\n",
              "       [1.37008835e-10],\n",
              "       [9.99892354e-01],\n",
              "       [9.95124280e-01],\n",
              "       [1.00000000e+00],\n",
              "       [1.48086838e-13],\n",
              "       [9.99377191e-01],\n",
              "       [5.10200215e-11],\n",
              "       [9.99909282e-01],\n",
              "       [3.24403213e-11],\n",
              "       [9.17103282e-10],\n",
              "       [4.60654626e-09],\n",
              "       [9.99983788e-01],\n",
              "       [9.99997020e-01],\n",
              "       [9.99936104e-01],\n",
              "       [9.98068988e-01],\n",
              "       [9.99112785e-01],\n",
              "       [4.78213094e-11],\n",
              "       [9.99992967e-01],\n",
              "       [4.38638882e-11],\n",
              "       [6.76421072e-12],\n",
              "       [8.79532447e-09],\n",
              "       [7.95808148e-08],\n",
              "       [2.70257289e-10],\n",
              "       [7.72912312e-09],\n",
              "       [9.99835253e-01],\n",
              "       [2.06252215e-09],\n",
              "       [4.24825997e-09],\n",
              "       [9.99497533e-01],\n",
              "       [9.99992490e-01],\n",
              "       [4.53333815e-09],\n",
              "       [2.20045891e-11],\n",
              "       [2.25894212e-07],\n",
              "       [8.03984903e-14],\n",
              "       [9.99980330e-01],\n",
              "       [5.59436560e-11],\n",
              "       [9.99989033e-01],\n",
              "       [7.98364083e-11],\n",
              "       [1.00000000e+00],\n",
              "       [9.99901891e-01],\n",
              "       [5.73028224e-13],\n",
              "       [2.74883116e-10],\n",
              "       [9.99205172e-01],\n",
              "       [3.30780021e-11],\n",
              "       [1.35970446e-09],\n",
              "       [1.00000000e+00],\n",
              "       [9.99941945e-01],\n",
              "       [9.96518373e-01],\n",
              "       [9.99330044e-01],\n",
              "       [2.74134138e-08],\n",
              "       [1.90489786e-07],\n",
              "       [9.99824464e-01],\n",
              "       [9.99999881e-01],\n",
              "       [9.99771178e-01],\n",
              "       [2.92702271e-08],\n",
              "       [4.04922610e-14],\n",
              "       [9.99686122e-01],\n",
              "       [1.00000000e+00],\n",
              "       [9.99999881e-01],\n",
              "       [9.99955416e-01],\n",
              "       [1.60681012e-07],\n",
              "       [5.88834581e-09],\n",
              "       [3.45445564e-03],\n",
              "       [1.25837505e-13],\n",
              "       [6.95133417e-09],\n",
              "       [1.72083639e-06],\n",
              "       [5.23505848e-12],\n",
              "       [8.64538736e-12],\n",
              "       [3.18895397e-03],\n",
              "       [1.27219462e-08],\n",
              "       [9.99999404e-01],\n",
              "       [9.99996901e-01],\n",
              "       [9.99985814e-01],\n",
              "       [9.99999642e-01],\n",
              "       [9.99644876e-01],\n",
              "       [9.38359790e-09],\n",
              "       [9.88182247e-01],\n",
              "       [5.76271253e-10],\n",
              "       [1.77697009e-14],\n",
              "       [9.99999523e-01],\n",
              "       [1.00000000e+00],\n",
              "       [9.99999762e-01],\n",
              "       [9.99842405e-01],\n",
              "       [8.25923996e-10],\n",
              "       [9.18153822e-01],\n",
              "       [1.42789209e-11],\n",
              "       [9.99976158e-01],\n",
              "       [9.99999166e-01],\n",
              "       [9.96087670e-01],\n",
              "       [9.99801099e-01],\n",
              "       [1.22219035e-09],\n",
              "       [1.39761624e-08],\n",
              "       [9.97301086e-08],\n",
              "       [9.99994755e-01],\n",
              "       [4.37533210e-08],\n",
              "       [9.99834776e-01],\n",
              "       [9.96671796e-01],\n",
              "       [9.99996424e-01],\n",
              "       [1.75521212e-11],\n",
              "       [1.53899865e-10],\n",
              "       [1.95375695e-11],\n",
              "       [4.10637080e-09],\n",
              "       [1.45486325e-12],\n",
              "       [5.58576696e-09],\n",
              "       [9.99989748e-01],\n",
              "       [5.33434168e-08],\n",
              "       [9.99121010e-01],\n",
              "       [3.23962226e-08],\n",
              "       [1.57278157e-09],\n",
              "       [6.56331101e-10],\n",
              "       [9.99999166e-01],\n",
              "       [9.99984980e-01],\n",
              "       [1.94985383e-09],\n",
              "       [3.51935476e-08],\n",
              "       [1.94779459e-09],\n",
              "       [9.99399781e-01],\n",
              "       [9.74402308e-01],\n",
              "       [1.37556688e-09],\n",
              "       [9.99368727e-01],\n",
              "       [4.29371561e-09],\n",
              "       [9.99980092e-01],\n",
              "       [9.99496579e-01],\n",
              "       [9.98860359e-01],\n",
              "       [9.98654366e-01],\n",
              "       [1.25482202e-07],\n",
              "       [4.02805017e-06],\n",
              "       [5.43142083e-13],\n",
              "       [4.25946238e-14],\n",
              "       [3.18100352e-10],\n",
              "       [9.99999881e-01],\n",
              "       [3.70529774e-10],\n",
              "       [8.74739641e-08],\n",
              "       [9.99995351e-01],\n",
              "       [6.93058837e-13],\n",
              "       [9.99874592e-01],\n",
              "       [1.76317877e-10],\n",
              "       [4.96358961e-11],\n",
              "       [9.99999404e-01],\n",
              "       [3.73043745e-13],\n",
              "       [1.29799593e-09],\n",
              "       [5.20837151e-10],\n",
              "       [1.12354685e-13],\n",
              "       [9.74783632e-09],\n",
              "       [9.99987125e-01],\n",
              "       [9.99987364e-01],\n",
              "       [3.09921400e-09],\n",
              "       [9.99124587e-01],\n",
              "       [6.48122805e-11],\n",
              "       [9.74739730e-01],\n",
              "       [9.99999285e-01],\n",
              "       [6.93423726e-13],\n",
              "       [3.45418160e-03],\n",
              "       [1.43616672e-13],\n",
              "       [2.10417066e-11],\n",
              "       [7.33991146e-10],\n",
              "       [6.53612303e-11],\n",
              "       [1.34553058e-09],\n",
              "       [1.00000000e+00],\n",
              "       [9.99431670e-01],\n",
              "       [9.99075651e-01],\n",
              "       [2.86171867e-11],\n",
              "       [6.89774063e-12],\n",
              "       [9.95455503e-01],\n",
              "       [9.99981523e-01],\n",
              "       [1.11687637e-09],\n",
              "       [2.65250644e-09],\n",
              "       [1.02136974e-08],\n",
              "       [1.35264586e-12],\n",
              "       [4.42149826e-07],\n",
              "       [3.06666137e-09],\n",
              "       [9.99575078e-01],\n",
              "       [6.09706513e-12],\n",
              "       [9.99987602e-01],\n",
              "       [7.84326911e-01],\n",
              "       [9.99628663e-01],\n",
              "       [5.13899579e-07],\n",
              "       [1.11767551e-09],\n",
              "       [7.88698085e-09],\n",
              "       [8.74041575e-14],\n",
              "       [9.99456227e-01],\n",
              "       [2.39990783e-09],\n",
              "       [9.06490679e-15],\n",
              "       [7.44349461e-13],\n",
              "       [5.89992544e-09],\n",
              "       [2.79134747e-06],\n",
              "       [1.45833397e-07],\n",
              "       [6.30397551e-07],\n",
              "       [9.99925733e-01],\n",
              "       [4.16128387e-06],\n",
              "       [1.00000000e+00],\n",
              "       [9.99999881e-01],\n",
              "       [9.71665978e-01],\n",
              "       [9.99947548e-01],\n",
              "       [7.93384025e-10],\n",
              "       [9.98267531e-01]], dtype=float32)"
            ]
          },
          "metadata": {},
          "execution_count": 65
        }
      ]
    },
    {
      "cell_type": "code",
      "metadata": {
        "colab": {
          "base_uri": "https://localhost:8080/"
        },
        "id": "_orN2NJITVLi",
        "outputId": "12a1b210-0821-4f97-80bd-8cf32bc04c82"
      },
      "source": [
        "y_predict.shape"
      ],
      "execution_count": null,
      "outputs": [
        {
          "output_type": "execute_result",
          "data": {
            "text/plain": [
              "(343, 1)"
            ]
          },
          "metadata": {},
          "execution_count": 67
        }
      ]
    },
    {
      "cell_type": "code",
      "metadata": {
        "colab": {
          "base_uri": "https://localhost:8080/"
        },
        "id": "8rf2rp1ZS4ij",
        "outputId": "3a0cacfb-f2b4-445b-ee4d-d94bd592b1bc"
      },
      "source": [
        "y_test"
      ],
      "execution_count": null,
      "outputs": [
        {
          "output_type": "execute_result",
          "data": {
            "text/plain": [
              "430     0\n",
              "588     0\n",
              "296     0\n",
              "184     0\n",
              "244     0\n",
              "       ..\n",
              "1121    1\n",
              "940     1\n",
              "1189    1\n",
              "438     0\n",
              "1022    1\n",
              "Name: class, Length: 343, dtype: int64"
            ]
          },
          "metadata": {},
          "execution_count": 66
        }
      ]
    },
    {
      "cell_type": "code",
      "metadata": {
        "colab": {
          "base_uri": "https://localhost:8080/"
        },
        "id": "H0O8E3ZsTZeB",
        "outputId": "f478643a-0b66-4a57-e25e-e7b1a619d026"
      },
      "source": [
        "y_predict.shape"
      ],
      "execution_count": null,
      "outputs": [
        {
          "output_type": "execute_result",
          "data": {
            "text/plain": [
              "(343, 1)"
            ]
          },
          "metadata": {},
          "execution_count": 68
        }
      ]
    },
    {
      "cell_type": "code",
      "metadata": {
        "id": "Pg01oARVTasB"
      },
      "source": [
        "y_class = (y_predict>0.5).astype(int)"
      ],
      "execution_count": null,
      "outputs": []
    },
    {
      "cell_type": "code",
      "metadata": {
        "colab": {
          "base_uri": "https://localhost:8080/"
        },
        "id": "FunDEAuQTmFq",
        "outputId": "970cc115-7843-41db-ff1a-0993baf84ac2"
      },
      "source": [
        "y_class"
      ],
      "execution_count": null,
      "outputs": [
        {
          "output_type": "execute_result",
          "data": {
            "text/plain": [
              "array([[0],\n",
              "       [0],\n",
              "       [0],\n",
              "       [0],\n",
              "       [0],\n",
              "       [0],\n",
              "       [0],\n",
              "       [0],\n",
              "       [0],\n",
              "       [0],\n",
              "       [1],\n",
              "       [1],\n",
              "       [0],\n",
              "       [1],\n",
              "       [0],\n",
              "       [1],\n",
              "       [1],\n",
              "       [1],\n",
              "       [1],\n",
              "       [1],\n",
              "       [0],\n",
              "       [0],\n",
              "       [1],\n",
              "       [0],\n",
              "       [1],\n",
              "       [0],\n",
              "       [0],\n",
              "       [1],\n",
              "       [0],\n",
              "       [0],\n",
              "       [1],\n",
              "       [0],\n",
              "       [0],\n",
              "       [1],\n",
              "       [1],\n",
              "       [0],\n",
              "       [1],\n",
              "       [1],\n",
              "       [1],\n",
              "       [0],\n",
              "       [0],\n",
              "       [1],\n",
              "       [1],\n",
              "       [0],\n",
              "       [1],\n",
              "       [1],\n",
              "       [1],\n",
              "       [0],\n",
              "       [0],\n",
              "       [1],\n",
              "       [0],\n",
              "       [0],\n",
              "       [0],\n",
              "       [0],\n",
              "       [0],\n",
              "       [1],\n",
              "       [0],\n",
              "       [0],\n",
              "       [0],\n",
              "       [0],\n",
              "       [1],\n",
              "       [0],\n",
              "       [1],\n",
              "       [0],\n",
              "       [0],\n",
              "       [0],\n",
              "       [0],\n",
              "       [0],\n",
              "       [0],\n",
              "       [1],\n",
              "       [1],\n",
              "       [0],\n",
              "       [1],\n",
              "       [0],\n",
              "       [1],\n",
              "       [0],\n",
              "       [0],\n",
              "       [1],\n",
              "       [1],\n",
              "       [1],\n",
              "       [1],\n",
              "       [0],\n",
              "       [1],\n",
              "       [0],\n",
              "       [0],\n",
              "       [0],\n",
              "       [0],\n",
              "       [1],\n",
              "       [1],\n",
              "       [0],\n",
              "       [0],\n",
              "       [0],\n",
              "       [1],\n",
              "       [1],\n",
              "       [0],\n",
              "       [1],\n",
              "       [1],\n",
              "       [0],\n",
              "       [0],\n",
              "       [0],\n",
              "       [1],\n",
              "       [0],\n",
              "       [0],\n",
              "       [0],\n",
              "       [1],\n",
              "       [0],\n",
              "       [0],\n",
              "       [1],\n",
              "       [1],\n",
              "       [1],\n",
              "       [1],\n",
              "       [1],\n",
              "       [0],\n",
              "       [1],\n",
              "       [1],\n",
              "       [1],\n",
              "       [0],\n",
              "       [1],\n",
              "       [1],\n",
              "       [0],\n",
              "       [1],\n",
              "       [0],\n",
              "       [1],\n",
              "       [0],\n",
              "       [1],\n",
              "       [0],\n",
              "       [1],\n",
              "       [1],\n",
              "       [0],\n",
              "       [1],\n",
              "       [1],\n",
              "       [0],\n",
              "       [0],\n",
              "       [0],\n",
              "       [0],\n",
              "       [0],\n",
              "       [1],\n",
              "       [0],\n",
              "       [0],\n",
              "       [0],\n",
              "       [0],\n",
              "       [0],\n",
              "       [1],\n",
              "       [0],\n",
              "       [1],\n",
              "       [1],\n",
              "       [1],\n",
              "       [1],\n",
              "       [1],\n",
              "       [0],\n",
              "       [1],\n",
              "       [1],\n",
              "       [1],\n",
              "       [0],\n",
              "       [1],\n",
              "       [0],\n",
              "       [1],\n",
              "       [0],\n",
              "       [0],\n",
              "       [0],\n",
              "       [1],\n",
              "       [1],\n",
              "       [1],\n",
              "       [1],\n",
              "       [1],\n",
              "       [0],\n",
              "       [1],\n",
              "       [0],\n",
              "       [0],\n",
              "       [0],\n",
              "       [0],\n",
              "       [0],\n",
              "       [0],\n",
              "       [1],\n",
              "       [0],\n",
              "       [0],\n",
              "       [1],\n",
              "       [1],\n",
              "       [0],\n",
              "       [0],\n",
              "       [0],\n",
              "       [0],\n",
              "       [1],\n",
              "       [0],\n",
              "       [1],\n",
              "       [0],\n",
              "       [1],\n",
              "       [1],\n",
              "       [0],\n",
              "       [0],\n",
              "       [1],\n",
              "       [0],\n",
              "       [0],\n",
              "       [1],\n",
              "       [1],\n",
              "       [1],\n",
              "       [1],\n",
              "       [0],\n",
              "       [0],\n",
              "       [1],\n",
              "       [1],\n",
              "       [1],\n",
              "       [0],\n",
              "       [0],\n",
              "       [1],\n",
              "       [1],\n",
              "       [1],\n",
              "       [1],\n",
              "       [0],\n",
              "       [0],\n",
              "       [0],\n",
              "       [0],\n",
              "       [0],\n",
              "       [0],\n",
              "       [0],\n",
              "       [0],\n",
              "       [0],\n",
              "       [0],\n",
              "       [1],\n",
              "       [1],\n",
              "       [1],\n",
              "       [1],\n",
              "       [1],\n",
              "       [0],\n",
              "       [1],\n",
              "       [0],\n",
              "       [0],\n",
              "       [1],\n",
              "       [1],\n",
              "       [1],\n",
              "       [1],\n",
              "       [0],\n",
              "       [1],\n",
              "       [0],\n",
              "       [1],\n",
              "       [1],\n",
              "       [1],\n",
              "       [1],\n",
              "       [0],\n",
              "       [0],\n",
              "       [0],\n",
              "       [1],\n",
              "       [0],\n",
              "       [1],\n",
              "       [1],\n",
              "       [1],\n",
              "       [0],\n",
              "       [0],\n",
              "       [0],\n",
              "       [0],\n",
              "       [0],\n",
              "       [0],\n",
              "       [1],\n",
              "       [0],\n",
              "       [1],\n",
              "       [0],\n",
              "       [0],\n",
              "       [0],\n",
              "       [1],\n",
              "       [1],\n",
              "       [0],\n",
              "       [0],\n",
              "       [0],\n",
              "       [1],\n",
              "       [1],\n",
              "       [0],\n",
              "       [1],\n",
              "       [0],\n",
              "       [1],\n",
              "       [1],\n",
              "       [1],\n",
              "       [1],\n",
              "       [0],\n",
              "       [0],\n",
              "       [0],\n",
              "       [0],\n",
              "       [0],\n",
              "       [1],\n",
              "       [0],\n",
              "       [0],\n",
              "       [1],\n",
              "       [0],\n",
              "       [1],\n",
              "       [0],\n",
              "       [0],\n",
              "       [1],\n",
              "       [0],\n",
              "       [0],\n",
              "       [0],\n",
              "       [0],\n",
              "       [0],\n",
              "       [1],\n",
              "       [1],\n",
              "       [0],\n",
              "       [1],\n",
              "       [0],\n",
              "       [1],\n",
              "       [1],\n",
              "       [0],\n",
              "       [0],\n",
              "       [0],\n",
              "       [0],\n",
              "       [0],\n",
              "       [0],\n",
              "       [0],\n",
              "       [1],\n",
              "       [1],\n",
              "       [1],\n",
              "       [0],\n",
              "       [0],\n",
              "       [1],\n",
              "       [1],\n",
              "       [0],\n",
              "       [0],\n",
              "       [0],\n",
              "       [0],\n",
              "       [0],\n",
              "       [0],\n",
              "       [1],\n",
              "       [0],\n",
              "       [1],\n",
              "       [1],\n",
              "       [1],\n",
              "       [0],\n",
              "       [0],\n",
              "       [0],\n",
              "       [0],\n",
              "       [1],\n",
              "       [0],\n",
              "       [0],\n",
              "       [0],\n",
              "       [0],\n",
              "       [0],\n",
              "       [0],\n",
              "       [0],\n",
              "       [1],\n",
              "       [0],\n",
              "       [1],\n",
              "       [1],\n",
              "       [1],\n",
              "       [1],\n",
              "       [0],\n",
              "       [1]])"
            ]
          },
          "metadata": {},
          "execution_count": 70
        }
      ]
    },
    {
      "cell_type": "code",
      "metadata": {
        "id": "4943YypoTqyy"
      },
      "source": [
        "y_class = y_class.flatten()"
      ],
      "execution_count": null,
      "outputs": []
    },
    {
      "cell_type": "code",
      "metadata": {
        "colab": {
          "base_uri": "https://localhost:8080/"
        },
        "id": "ld8BYcKOT5Oy",
        "outputId": "24c426ad-2d03-4505-9b46-58dd149ea824"
      },
      "source": [
        "y_class"
      ],
      "execution_count": null,
      "outputs": [
        {
          "output_type": "execute_result",
          "data": {
            "text/plain": [
              "array([0, 0, 0, 0, 0, 0, 0, 0, 0, 0, 1, 1, 0, 1, 0, 1, 1, 1, 1, 1, 0, 0,\n",
              "       1, 0, 1, 0, 0, 1, 0, 0, 1, 0, 0, 1, 1, 0, 1, 1, 1, 0, 0, 1, 1, 0,\n",
              "       1, 1, 1, 0, 0, 1, 0, 0, 0, 0, 0, 1, 0, 0, 0, 0, 1, 0, 1, 0, 0, 0,\n",
              "       0, 0, 0, 1, 1, 0, 1, 0, 1, 0, 0, 1, 1, 1, 1, 0, 1, 0, 0, 0, 0, 1,\n",
              "       1, 0, 0, 0, 1, 1, 0, 1, 1, 0, 0, 0, 1, 0, 0, 0, 1, 0, 0, 1, 1, 1,\n",
              "       1, 1, 0, 1, 1, 1, 0, 1, 1, 0, 1, 0, 1, 0, 1, 0, 1, 1, 0, 1, 1, 0,\n",
              "       0, 0, 0, 0, 1, 0, 0, 0, 0, 0, 1, 0, 1, 1, 1, 1, 1, 0, 1, 1, 1, 0,\n",
              "       1, 0, 1, 0, 0, 0, 1, 1, 1, 1, 1, 0, 1, 0, 0, 0, 0, 0, 0, 1, 0, 0,\n",
              "       1, 1, 0, 0, 0, 0, 1, 0, 1, 0, 1, 1, 0, 0, 1, 0, 0, 1, 1, 1, 1, 0,\n",
              "       0, 1, 1, 1, 0, 0, 1, 1, 1, 1, 0, 0, 0, 0, 0, 0, 0, 0, 0, 0, 1, 1,\n",
              "       1, 1, 1, 0, 1, 0, 0, 1, 1, 1, 1, 0, 1, 0, 1, 1, 1, 1, 0, 0, 0, 1,\n",
              "       0, 1, 1, 1, 0, 0, 0, 0, 0, 0, 1, 0, 1, 0, 0, 0, 1, 1, 0, 0, 0, 1,\n",
              "       1, 0, 1, 0, 1, 1, 1, 1, 0, 0, 0, 0, 0, 1, 0, 0, 1, 0, 1, 0, 0, 1,\n",
              "       0, 0, 0, 0, 0, 1, 1, 0, 1, 0, 1, 1, 0, 0, 0, 0, 0, 0, 0, 1, 1, 1,\n",
              "       0, 0, 1, 1, 0, 0, 0, 0, 0, 0, 1, 0, 1, 1, 1, 0, 0, 0, 0, 1, 0, 0,\n",
              "       0, 0, 0, 0, 0, 1, 0, 1, 1, 1, 1, 0, 1])"
            ]
          },
          "metadata": {},
          "execution_count": 72
        }
      ]
    },
    {
      "cell_type": "code",
      "metadata": {
        "id": "jQY-CI7_VH23"
      },
      "source": [
        ""
      ],
      "execution_count": null,
      "outputs": []
    },
    {
      "cell_type": "code",
      "metadata": {
        "colab": {
          "base_uri": "https://localhost:8080/"
        },
        "id": "-aQs_OEOUGuc",
        "outputId": "53815d37-aca7-4fb2-bc8c-60c68741a7fb"
      },
      "source": [
        "from sklearn.metrics import confusion_matrix\n",
        "confusion_matrix (y_test, y_class)"
      ],
      "execution_count": null,
      "outputs": [
        {
          "output_type": "execute_result",
          "data": {
            "text/plain": [
              "array([[191,   0],\n",
              "       [  0, 152]])"
            ]
          },
          "metadata": {},
          "execution_count": 78
        }
      ]
    },
    {
      "cell_type": "code",
      "metadata": {
        "id": "QI3Pi6b9UsYS"
      },
      "source": [
        "y_pred = model1.predict(x_test)\n",
        "y_pred = y_pred.flatten()\n",
        "y_class = (y_pred>0.5).astype(int)"
      ],
      "execution_count": null,
      "outputs": []
    },
    {
      "cell_type": "code",
      "metadata": {
        "colab": {
          "base_uri": "https://localhost:8080/"
        },
        "id": "1euP0v8-U9rW",
        "outputId": "4fd24f69-67aa-4a69-ab3e-491be2a6b133"
      },
      "source": [
        "confusion_matrix (y_test, y_class)"
      ],
      "execution_count": null,
      "outputs": [
        {
          "output_type": "execute_result",
          "data": {
            "text/plain": [
              "array([[191,   0],\n",
              "       [  0, 152]])"
            ]
          },
          "metadata": {},
          "execution_count": 87
        }
      ]
    },
    {
      "cell_type": "code",
      "metadata": {
        "colab": {
          "base_uri": "https://localhost:8080/"
        },
        "id": "wgnbJRx9VEaf",
        "outputId": "991f369e-4e65-483b-a502-62f96479906a"
      },
      "source": [
        "model01 = Sequential()\n",
        "model01.add(Dense(256, input_shape = (4,), activation='relu'))\n",
        "\n",
        "model01.add(Dense(1,activation='sigmoid'))\n",
        "\n",
        "model01.compile(optimizer=\"adam\",\n",
        "              loss= \"binary_crossentropy\",\n",
        "              metrics=[\"accuracy\"])\n",
        "model01.fit(x_train, y_train, epochs= 2)"
      ],
      "execution_count": null,
      "outputs": [
        {
          "output_type": "stream",
          "text": [
            "Epoch 1/2\n",
            "33/33 [==============================] - 1s 3ms/step - loss: 0.4236 - accuracy: 0.8144\n",
            "Epoch 2/2\n",
            "33/33 [==============================] - 0s 4ms/step - loss: 0.1772 - accuracy: 0.9757\n"
          ],
          "name": "stdout"
        },
        {
          "output_type": "execute_result",
          "data": {
            "text/plain": [
              "<keras.callbacks.History at 0x7f77de2f0810>"
            ]
          },
          "metadata": {},
          "execution_count": 89
        }
      ]
    },
    {
      "cell_type": "code",
      "metadata": {
        "colab": {
          "base_uri": "https://localhost:8080/"
        },
        "id": "n8jLZ1mEVsxy",
        "outputId": "0f45533d-5c61-42d3-8a09-757aade26961"
      },
      "source": [
        "y_pred1 = model01.predict(x_test)\n",
        "y_pred1 = y_pred1.flatten()\n",
        "y_class1 = (y_pred1>0.5).astype(int)\n",
        "confusion_matrix (y_test, y_class1)"
      ],
      "execution_count": null,
      "outputs": [
        {
          "output_type": "execute_result",
          "data": {
            "text/plain": [
              "array([[191,   0],\n",
              "       [  5, 147]])"
            ]
          },
          "metadata": {},
          "execution_count": 90
        }
      ]
    },
    {
      "cell_type": "code",
      "metadata": {
        "id": "BZxkxfMbWCLa"
      },
      "source": [
        ""
      ],
      "execution_count": null,
      "outputs": []
    }
  ]
}