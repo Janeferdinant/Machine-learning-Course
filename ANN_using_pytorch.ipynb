{
  "nbformat": 4,
  "nbformat_minor": 0,
  "metadata": {
    "colab": {
      "name": "ANN using pytorch.ipynb",
      "provenance": [],
      "collapsed_sections": []
    },
    "kernelspec": {
      "name": "python3",
      "display_name": "Python 3"
    },
    "language_info": {
      "name": "python"
    },
    "accelerator": "GPU"
  },
  "cells": [
    {
      "cell_type": "code",
      "metadata": {
        "id": "WsFP-XIjmCUq"
      },
      "source": [
        "import pandas as pd\n",
        "import numpy as np\n",
        "import torch\n",
        "import torch.nn as nn\n",
        "import torch.nn.functional as F"
      ],
      "execution_count": null,
      "outputs": []
    },
    {
      "cell_type": "code",
      "metadata": {
        "id": "DPgpQxD_xINz"
      },
      "source": [
        "df = pd.read_csv(\"/content/BankNote_Authentication.csv\")"
      ],
      "execution_count": null,
      "outputs": []
    },
    {
      "cell_type": "code",
      "metadata": {
        "colab": {
          "base_uri": "https://localhost:8080/",
          "height": 202
        },
        "id": "CCPJKlb73hfW",
        "outputId": "89dccda2-620b-4aa2-8de0-cb5cfe81a7ef"
      },
      "source": [
        "df.head()"
      ],
      "execution_count": null,
      "outputs": [
        {
          "output_type": "execute_result",
          "data": {
            "text/html": [
              "<div>\n",
              "<style scoped>\n",
              "    .dataframe tbody tr th:only-of-type {\n",
              "        vertical-align: middle;\n",
              "    }\n",
              "\n",
              "    .dataframe tbody tr th {\n",
              "        vertical-align: top;\n",
              "    }\n",
              "\n",
              "    .dataframe thead th {\n",
              "        text-align: right;\n",
              "    }\n",
              "</style>\n",
              "<table border=\"1\" class=\"dataframe\">\n",
              "  <thead>\n",
              "    <tr style=\"text-align: right;\">\n",
              "      <th></th>\n",
              "      <th>variance</th>\n",
              "      <th>skewness</th>\n",
              "      <th>curtosis</th>\n",
              "      <th>entropy</th>\n",
              "      <th>class</th>\n",
              "    </tr>\n",
              "  </thead>\n",
              "  <tbody>\n",
              "    <tr>\n",
              "      <th>0</th>\n",
              "      <td>3.62160</td>\n",
              "      <td>8.6661</td>\n",
              "      <td>-2.8073</td>\n",
              "      <td>-0.44699</td>\n",
              "      <td>0</td>\n",
              "    </tr>\n",
              "    <tr>\n",
              "      <th>1</th>\n",
              "      <td>4.54590</td>\n",
              "      <td>8.1674</td>\n",
              "      <td>-2.4586</td>\n",
              "      <td>-1.46210</td>\n",
              "      <td>0</td>\n",
              "    </tr>\n",
              "    <tr>\n",
              "      <th>2</th>\n",
              "      <td>3.86600</td>\n",
              "      <td>-2.6383</td>\n",
              "      <td>1.9242</td>\n",
              "      <td>0.10645</td>\n",
              "      <td>0</td>\n",
              "    </tr>\n",
              "    <tr>\n",
              "      <th>3</th>\n",
              "      <td>3.45660</td>\n",
              "      <td>9.5228</td>\n",
              "      <td>-4.0112</td>\n",
              "      <td>-3.59440</td>\n",
              "      <td>0</td>\n",
              "    </tr>\n",
              "    <tr>\n",
              "      <th>4</th>\n",
              "      <td>0.32924</td>\n",
              "      <td>-4.4552</td>\n",
              "      <td>4.5718</td>\n",
              "      <td>-0.98880</td>\n",
              "      <td>0</td>\n",
              "    </tr>\n",
              "  </tbody>\n",
              "</table>\n",
              "</div>"
            ],
            "text/plain": [
              "   variance  skewness  curtosis  entropy  class\n",
              "0   3.62160    8.6661   -2.8073 -0.44699      0\n",
              "1   4.54590    8.1674   -2.4586 -1.46210      0\n",
              "2   3.86600   -2.6383    1.9242  0.10645      0\n",
              "3   3.45660    9.5228   -4.0112 -3.59440      0\n",
              "4   0.32924   -4.4552    4.5718 -0.98880      0"
            ]
          },
          "metadata": {},
          "execution_count": 3
        }
      ]
    },
    {
      "cell_type": "code",
      "metadata": {
        "id": "ROXycRfVxLgC"
      },
      "source": [
        "x = df.drop('class', axis = 1).values\n",
        "y = df['class'].values"
      ],
      "execution_count": null,
      "outputs": []
    },
    {
      "cell_type": "code",
      "metadata": {
        "id": "iX26duFpxN4S"
      },
      "source": [
        "from sklearn.model_selection import train_test_split\n",
        "\n",
        "x_train,x_test,y_train,y_test = train_test_split(x,y,test_size = 0.25, random_state =42)"
      ],
      "execution_count": null,
      "outputs": []
    },
    {
      "cell_type": "code",
      "metadata": {
        "id": "P8dx29a9cXfo"
      },
      "source": [
        "x_train = torch.from_numpy(x_train.astype(np.float32))\n",
        "y_train = torch.from_numpy(y_train.astype(np.float32).reshape(-1, 1))\n",
        "\n",
        "x_test = torch.from_numpy(x_test.astype(np.float32))\n",
        "y_test = torch.from_numpy(y_test.astype(np.float32).reshape(-1, 1))"
      ],
      "execution_count": null,
      "outputs": []
    },
    {
      "cell_type": "code",
      "metadata": {
        "colab": {
          "base_uri": "https://localhost:8080/"
        },
        "id": "WSkMcO2j5efX",
        "outputId": "97ca1ba0-0c02-4a8d-acba-f25ece073568"
      },
      "source": [
        "x_test.shape"
      ],
      "execution_count": null,
      "outputs": [
        {
          "output_type": "execute_result",
          "data": {
            "text/plain": [
              "torch.Size([343, 4])"
            ]
          },
          "metadata": {},
          "execution_count": 7
        }
      ]
    },
    {
      "cell_type": "code",
      "metadata": {
        "colab": {
          "base_uri": "https://localhost:8080/"
        },
        "id": "_1ahJ9Eq5iSW",
        "outputId": "346778ba-7d22-4d6f-f4d2-fc4c032de86b"
      },
      "source": [
        "y_test.shape"
      ],
      "execution_count": null,
      "outputs": [
        {
          "output_type": "execute_result",
          "data": {
            "text/plain": [
              "torch.Size([343, 1])"
            ]
          },
          "metadata": {},
          "execution_count": 8
        }
      ]
    },
    {
      "cell_type": "code",
      "metadata": {
        "colab": {
          "base_uri": "https://localhost:8080/"
        },
        "id": "CTPLZPY75kze",
        "outputId": "50652c90-2c8d-40b2-dd25-249f7c8ee800"
      },
      "source": [
        "y_train.shape"
      ],
      "execution_count": null,
      "outputs": [
        {
          "output_type": "execute_result",
          "data": {
            "text/plain": [
              "torch.Size([1029, 1])"
            ]
          },
          "metadata": {},
          "execution_count": 9
        }
      ]
    },
    {
      "cell_type": "code",
      "metadata": {
        "colab": {
          "base_uri": "https://localhost:8080/"
        },
        "id": "n7P3YG0S5p8H",
        "outputId": "fb03720e-a4c6-4b42-86fc-b58856ca1014"
      },
      "source": [
        "x_train.shape"
      ],
      "execution_count": null,
      "outputs": [
        {
          "output_type": "execute_result",
          "data": {
            "text/plain": [
              "torch.Size([1029, 4])"
            ]
          },
          "metadata": {},
          "execution_count": 10
        }
      ]
    },
    {
      "cell_type": "code",
      "metadata": {
        "colab": {
          "base_uri": "https://localhost:8080/"
        },
        "id": "_rxooycw0c5c",
        "outputId": "1f754b44-9762-49e4-82f5-9fe1262f0e25"
      },
      "source": [
        "torch.manual_seed(20)"
      ],
      "execution_count": null,
      "outputs": [
        {
          "output_type": "execute_result",
          "data": {
            "text/plain": [
              "<torch._C.Generator at 0x7f7ff2bd3910>"
            ]
          },
          "metadata": {},
          "execution_count": 11
        }
      ]
    },
    {
      "cell_type": "code",
      "metadata": {
        "colab": {
          "base_uri": "https://localhost:8080/"
        },
        "id": "aYxuUUwDNpNw",
        "outputId": "1b895f6b-ad2c-4bb1-9b54-f58fd69000e6"
      },
      "source": [
        "\n",
        "input_size = 4\n",
        "hidden_sizes = [8, 4]\n",
        "output_size = 1\n",
        "\n",
        "# Build a feed-forward network\n",
        "model = nn.Sequential(nn.Linear(input_size, hidden_sizes[0]),\n",
        "                      nn.ReLU(),\n",
        "                      nn.Linear(hidden_sizes[0], hidden_sizes[1]),\n",
        "                      nn.ReLU(),\n",
        "                      nn.Linear(hidden_sizes[1], output_size),\n",
        "                      nn.Sigmoid())\n",
        "print(model)\n",
        "\n"
      ],
      "execution_count": null,
      "outputs": [
        {
          "output_type": "stream",
          "text": [
            "Sequential(\n",
            "  (0): Linear(in_features=4, out_features=8, bias=True)\n",
            "  (1): ReLU()\n",
            "  (2): Linear(in_features=8, out_features=4, bias=True)\n",
            "  (3): ReLU()\n",
            "  (4): Linear(in_features=4, out_features=1, bias=True)\n",
            "  (5): Sigmoid()\n",
            ")\n"
          ],
          "name": "stdout"
        }
      ]
    },
    {
      "cell_type": "code",
      "metadata": {
        "colab": {
          "base_uri": "https://localhost:8080/"
        },
        "id": "_73btcl2OhZ4",
        "outputId": "d2637aca-a5de-462b-f8e5-a4c31cad32e3"
      },
      "source": [
        "print(model[0])\n",
        "model[0].weight\n"
      ],
      "execution_count": null,
      "outputs": [
        {
          "output_type": "stream",
          "text": [
            "Linear(in_features=4, out_features=8, bias=True)\n"
          ],
          "name": "stdout"
        },
        {
          "output_type": "execute_result",
          "data": {
            "text/plain": [
              "Parameter containing:\n",
              "tensor([[-0.4848,  0.2072,  0.0548,  0.0564],\n",
              "        [ 0.0547, -0.4201, -0.4260, -0.4585],\n",
              "        [ 0.4209, -0.4463, -0.3296, -0.1230],\n",
              "        [ 0.1058, -0.3777, -0.3215, -0.0892],\n",
              "        [ 0.1423, -0.4637,  0.4581,  0.4809],\n",
              "        [-0.2795,  0.1127, -0.4701, -0.1559],\n",
              "        [-0.2498,  0.3165,  0.1867, -0.2657],\n",
              "        [-0.3613,  0.1255,  0.2765, -0.3908]], requires_grad=True)"
            ]
          },
          "metadata": {},
          "execution_count": 14
        }
      ]
    },
    {
      "cell_type": "code",
      "metadata": {
        "colab": {
          "base_uri": "https://localhost:8080/"
        },
        "id": "3vhsXxXnOSTb",
        "outputId": "d882732d-223c-421a-9f28-46933083f352"
      },
      "source": [
        "print(model[0])\n",
        "model[0].bias"
      ],
      "execution_count": null,
      "outputs": [
        {
          "output_type": "stream",
          "text": [
            "Linear(in_features=4, out_features=8, bias=True)\n"
          ],
          "name": "stdout"
        },
        {
          "output_type": "execute_result",
          "data": {
            "text/plain": [
              "Parameter containing:\n",
              "tensor([-0.0514,  0.0212,  0.4176,  0.4629, -0.4185, -0.0265, -0.4942, -0.1780],\n",
              "       requires_grad=True)"
            ]
          },
          "metadata": {},
          "execution_count": 15
        }
      ]
    },
    {
      "cell_type": "code",
      "metadata": {
        "colab": {
          "base_uri": "https://localhost:8080/"
        },
        "id": "rN0F-9mjh5kG",
        "outputId": "aeed8350-f71a-4305-abaa-eb64764ff81c"
      },
      "source": [
        "model.state_dict()"
      ],
      "execution_count": null,
      "outputs": [
        {
          "output_type": "execute_result",
          "data": {
            "text/plain": [
              "OrderedDict([('0.weight', tensor([[-0.4848,  0.2072,  0.0548,  0.0564],\n",
              "                      [ 0.0547, -0.4201, -0.4260, -0.4585],\n",
              "                      [ 0.4209, -0.4463, -0.3296, -0.1230],\n",
              "                      [ 0.1058, -0.3777, -0.3215, -0.0892],\n",
              "                      [ 0.1423, -0.4637,  0.4581,  0.4809],\n",
              "                      [-0.2795,  0.1127, -0.4701, -0.1559],\n",
              "                      [-0.2498,  0.3165,  0.1867, -0.2657],\n",
              "                      [-0.3613,  0.1255,  0.2765, -0.3908]])),\n",
              "             ('0.bias',\n",
              "              tensor([-0.0514,  0.0212,  0.4176,  0.4629, -0.4185, -0.0265, -0.4942, -0.1780])),\n",
              "             ('2.weight',\n",
              "              tensor([[ 0.3486, -0.0046,  0.2534, -0.1572,  0.0754,  0.2335,  0.3236, -0.2694],\n",
              "                      [ 0.2446,  0.0769, -0.0397, -0.1908, -0.1470,  0.1587,  0.1873,  0.1065],\n",
              "                      [-0.2466,  0.0324, -0.0454,  0.0764, -0.1388,  0.2192, -0.2984, -0.2427],\n",
              "                      [-0.1622,  0.2950, -0.1042, -0.1722,  0.2847,  0.3491, -0.0964,  0.3524]])),\n",
              "             ('2.bias', tensor([-0.1425,  0.2016, -0.1169,  0.1290])),\n",
              "             ('4.weight', tensor([[ 0.1615,  0.0884, -0.0042, -0.1717]])),\n",
              "             ('4.bias', tensor([-0.3067]))])"
            ]
          },
          "metadata": {},
          "execution_count": 16
        }
      ]
    },
    {
      "cell_type": "code",
      "metadata": {
        "id": "DDx7Gr22UCr7"
      },
      "source": [
        "# Loss and optimizer\n",
        "criterion = nn.BCELoss()\n",
        "optimizer = torch.optim.SGD(model.parameters(), lr=0.01)"
      ],
      "execution_count": null,
      "outputs": []
    },
    {
      "cell_type": "code",
      "metadata": {
        "id": "yprGMzn5XTJe"
      },
      "source": [
        "def full_gd(model, criterion, optimizer, x_train, y_train, epochs=3500):\n",
        "  # Stuff to store\n",
        "  train_losses = np.zeros(epochs)\n",
        "\n",
        "  for i in range(epochs):\n",
        "    # zero the parameter gradients\n",
        "    optimizer.zero_grad()\n",
        "\n",
        "    # Forward pass\n",
        "    outputs = model(x_train)\n",
        "    loss = criterion(outputs, y_train)\n",
        "      \n",
        "    # Backward and optimize\n",
        "    loss.backward()\n",
        "    optimizer.step()\n",
        "\n",
        "    # Save losses\n",
        "    train_losses[i] = loss.item()\n",
        "      \n",
        "    if (i + 1) % 100 == 0:\n",
        "      print(f'Epoch {i+1}/{epochs}, Train Loss: {loss.item():.4f}')\n",
        "  \n",
        "  return train_losses\n"
      ],
      "execution_count": null,
      "outputs": []
    },
    {
      "cell_type": "markdown",
      "metadata": {
        "id": "zM1bWYaYU0AD"
      },
      "source": [
        ""
      ]
    },
    {
      "cell_type": "code",
      "metadata": {
        "colab": {
          "base_uri": "https://localhost:8080/"
        },
        "id": "KBHyM6CKb3gP",
        "outputId": "85eb5c84-da4e-4921-bb20-d57fa0839ddf"
      },
      "source": [
        "train_losses1 = full_gd(model, criterion, optimizer, x_train, y_train, )"
      ],
      "execution_count": null,
      "outputs": [
        {
          "output_type": "stream",
          "text": [
            "Epoch 100/3500, Train Loss: 0.6784\n",
            "Epoch 200/3500, Train Loss: 0.6460\n",
            "Epoch 300/3500, Train Loss: 0.6061\n",
            "Epoch 400/3500, Train Loss: 0.5602\n",
            "Epoch 500/3500, Train Loss: 0.5081\n",
            "Epoch 600/3500, Train Loss: 0.4503\n",
            "Epoch 700/3500, Train Loss: 0.3933\n",
            "Epoch 800/3500, Train Loss: 0.3435\n",
            "Epoch 900/3500, Train Loss: 0.3009\n",
            "Epoch 1000/3500, Train Loss: 0.2640\n",
            "Epoch 1100/3500, Train Loss: 0.2326\n",
            "Epoch 1200/3500, Train Loss: 0.2057\n",
            "Epoch 1300/3500, Train Loss: 0.1817\n",
            "Epoch 1400/3500, Train Loss: 0.1598\n",
            "Epoch 1500/3500, Train Loss: 0.1393\n",
            "Epoch 1600/3500, Train Loss: 0.1202\n",
            "Epoch 1700/3500, Train Loss: 0.1030\n",
            "Epoch 1800/3500, Train Loss: 0.0879\n",
            "Epoch 1900/3500, Train Loss: 0.0749\n",
            "Epoch 2000/3500, Train Loss: 0.0641\n",
            "Epoch 2100/3500, Train Loss: 0.0553\n",
            "Epoch 2200/3500, Train Loss: 0.0482\n",
            "Epoch 2300/3500, Train Loss: 0.0423\n",
            "Epoch 2400/3500, Train Loss: 0.0375\n",
            "Epoch 2500/3500, Train Loss: 0.0335\n",
            "Epoch 2600/3500, Train Loss: 0.0301\n",
            "Epoch 2700/3500, Train Loss: 0.0271\n",
            "Epoch 2800/3500, Train Loss: 0.0245\n",
            "Epoch 2900/3500, Train Loss: 0.0223\n",
            "Epoch 3000/3500, Train Loss: 0.0204\n",
            "Epoch 3100/3500, Train Loss: 0.0188\n",
            "Epoch 3200/3500, Train Loss: 0.0174\n",
            "Epoch 3300/3500, Train Loss: 0.0161\n",
            "Epoch 3400/3500, Train Loss: 0.0150\n",
            "Epoch 3500/3500, Train Loss: 0.0140\n"
          ],
          "name": "stdout"
        }
      ]
    },
    {
      "cell_type": "code",
      "metadata": {
        "id": "CwZh4pluTve4"
      },
      "source": [
        ""
      ],
      "execution_count": null,
      "outputs": []
    },
    {
      "cell_type": "code",
      "metadata": {
        "colab": {
          "base_uri": "https://localhost:8080/",
          "height": 264
        },
        "id": "D6pb_6YwzJEy",
        "outputId": "6cbf82f6-dc4a-435d-8e1a-6476251879da"
      },
      "source": [
        "import matplotlib.pyplot as plt\n",
        "\n",
        "plt.plot(train_losses1, label='train loss')\n",
        "plt.legend()\n",
        "plt.show()"
      ],
      "execution_count": null,
      "outputs": [
        {
          "output_type": "display_data",
          "data": {
            "image/png": "[encoded data removed]",
            "text/plain": [
              "<Figure size 432x288 with 1 Axes>"
            ]
          },
          "metadata": {
            "needs_background": "light"
          }
        }
      ]
    },
    {
      "cell_type": "code",
      "metadata": {
        "id": "Av3br8Au0Q5T"
      },
      "source": [
        "# Save the model\n",
        "torch.save(model.state_dict(), 'mymodel.pt')"
      ],
      "execution_count": null,
      "outputs": []
    },
    {
      "cell_type": "code",
      "metadata": {
        "colab": {
          "base_uri": "https://localhost:8080/"
        },
        "id": "_zKJYdc8oG6z",
        "outputId": "b85ad4e4-b06d-42ae-9145-d703d903d79b"
      },
      "source": [
        "y_prediction=[]\n",
        "with torch.no_grad():\n",
        "    for i,x in enumerate(x_test):\n",
        "        y_pred=model(x)\n",
        "        y_pred=(y_pred>0.5).item()\n",
        "        y_pred=int(y_pred)\n",
        "        y_prediction.append(y_pred)\n",
        "        print(y_pred)\n",
        "        \n",
        "len(y_prediction)\n",
        "# another method \n",
        "# y_prediction=[]\n",
        "# with torch.no_grad():\n",
        "#     for i,x in enumerate(x_test):\n",
        "#         y_pred=model(x)\n",
        "#         y_pred = y_pred>0.5\n",
        "#         y_pred = y_pred.int()\n",
        "#         y_prediction.append(y_pred)\n",
        "#         print(y_pred)        "
      ],
      "execution_count": null,
      "outputs": [
        {
          "output_type": "stream",
          "text": [
            "0\n",
            "0\n",
            "0\n",
            "0\n",
            "0\n",
            "0\n",
            "0\n",
            "0\n",
            "0\n",
            "0\n",
            "1\n",
            "1\n",
            "0\n",
            "1\n",
            "0\n",
            "1\n",
            "1\n",
            "1\n",
            "1\n",
            "1\n",
            "0\n",
            "0\n",
            "1\n",
            "0\n",
            "1\n",
            "0\n",
            "0\n",
            "1\n",
            "0\n",
            "0\n",
            "1\n",
            "0\n",
            "0\n",
            "1\n",
            "1\n",
            "0\n",
            "1\n",
            "1\n",
            "1\n",
            "0\n",
            "0\n",
            "1\n",
            "1\n",
            "0\n",
            "1\n",
            "1\n",
            "1\n",
            "0\n",
            "0\n",
            "1\n",
            "0\n",
            "0\n",
            "0\n",
            "0\n",
            "0\n",
            "1\n",
            "0\n",
            "0\n",
            "0\n",
            "0\n",
            "1\n",
            "0\n",
            "1\n",
            "0\n",
            "0\n",
            "0\n",
            "0\n",
            "0\n",
            "0\n",
            "1\n",
            "1\n",
            "0\n",
            "1\n",
            "0\n",
            "1\n",
            "0\n",
            "0\n",
            "1\n",
            "1\n",
            "1\n",
            "1\n",
            "0\n",
            "1\n",
            "0\n",
            "0\n",
            "0\n",
            "0\n",
            "1\n",
            "1\n",
            "0\n",
            "0\n",
            "0\n",
            "1\n",
            "1\n",
            "0\n",
            "1\n",
            "1\n",
            "0\n",
            "0\n",
            "0\n",
            "1\n",
            "0\n",
            "0\n",
            "0\n",
            "1\n",
            "0\n",
            "0\n",
            "1\n",
            "1\n",
            "1\n",
            "1\n",
            "1\n",
            "0\n",
            "1\n",
            "1\n",
            "1\n",
            "0\n",
            "1\n",
            "1\n",
            "0\n",
            "1\n",
            "0\n",
            "1\n",
            "0\n",
            "1\n",
            "0\n",
            "1\n",
            "1\n",
            "0\n",
            "1\n",
            "1\n",
            "0\n",
            "0\n",
            "0\n",
            "0\n",
            "0\n",
            "1\n",
            "0\n",
            "0\n",
            "0\n",
            "0\n",
            "0\n",
            "1\n",
            "0\n",
            "1\n",
            "1\n",
            "1\n",
            "1\n",
            "1\n",
            "0\n",
            "1\n",
            "1\n",
            "1\n",
            "0\n",
            "1\n",
            "0\n",
            "1\n",
            "0\n",
            "0\n",
            "0\n",
            "1\n",
            "1\n",
            "1\n",
            "1\n",
            "1\n",
            "0\n",
            "1\n",
            "0\n",
            "0\n",
            "0\n",
            "0\n",
            "0\n",
            "0\n",
            "1\n",
            "0\n",
            "0\n",
            "1\n",
            "1\n",
            "0\n",
            "0\n",
            "0\n",
            "0\n",
            "1\n",
            "0\n",
            "1\n",
            "0\n",
            "1\n",
            "1\n",
            "0\n",
            "0\n",
            "1\n",
            "0\n",
            "0\n",
            "1\n",
            "1\n",
            "1\n",
            "1\n",
            "0\n",
            "0\n",
            "1\n",
            "1\n",
            "1\n",
            "0\n",
            "0\n",
            "1\n",
            "1\n",
            "1\n",
            "1\n",
            "0\n",
            "0\n",
            "0\n",
            "0\n",
            "0\n",
            "0\n",
            "0\n",
            "0\n",
            "0\n",
            "0\n",
            "1\n",
            "1\n",
            "1\n",
            "1\n",
            "1\n",
            "0\n",
            "1\n",
            "0\n",
            "0\n",
            "1\n",
            "1\n",
            "1\n",
            "1\n",
            "0\n",
            "0\n",
            "0\n",
            "1\n",
            "1\n",
            "1\n",
            "1\n",
            "0\n",
            "0\n",
            "0\n",
            "1\n",
            "0\n",
            "1\n",
            "1\n",
            "1\n",
            "0\n",
            "0\n",
            "0\n",
            "0\n",
            "0\n",
            "0\n",
            "1\n",
            "0\n",
            "1\n",
            "0\n",
            "0\n",
            "0\n",
            "1\n",
            "1\n",
            "0\n",
            "0\n",
            "0\n",
            "1\n",
            "1\n",
            "0\n",
            "1\n",
            "0\n",
            "1\n",
            "1\n",
            "1\n",
            "1\n",
            "0\n",
            "0\n",
            "0\n",
            "0\n",
            "0\n",
            "1\n",
            "0\n",
            "0\n",
            "1\n",
            "0\n",
            "1\n",
            "0\n",
            "0\n",
            "1\n",
            "0\n",
            "0\n",
            "0\n",
            "0\n",
            "0\n",
            "1\n",
            "1\n",
            "0\n",
            "1\n",
            "0\n",
            "1\n",
            "1\n",
            "0\n",
            "0\n",
            "0\n",
            "0\n",
            "0\n",
            "0\n",
            "0\n",
            "1\n",
            "1\n",
            "1\n",
            "0\n",
            "0\n",
            "1\n",
            "1\n",
            "0\n",
            "0\n",
            "0\n",
            "0\n",
            "0\n",
            "0\n",
            "1\n",
            "0\n",
            "1\n",
            "0\n",
            "1\n",
            "0\n",
            "0\n",
            "0\n",
            "0\n",
            "1\n",
            "0\n",
            "0\n",
            "0\n",
            "0\n",
            "0\n",
            "0\n",
            "0\n",
            "1\n",
            "0\n",
            "1\n",
            "1\n",
            "1\n",
            "1\n",
            "0\n",
            "1\n"
          ],
          "name": "stdout"
        },
        {
          "output_type": "execute_result",
          "data": {
            "text/plain": [
              "343"
            ]
          },
          "metadata": {},
          "execution_count": 51
        }
      ]
    },
    {
      "cell_type": "code",
      "metadata": {
        "colab": {
          "base_uri": "https://localhost:8080/"
        },
        "id": "szyGZ-f9tALb",
        "outputId": "88c96030-fa1d-48b2-939b-723be21cd32c"
      },
      "source": [
        "\n",
        "from sklearn.metrics import confusion_matrix\n",
        "cm=confusion_matrix(y_test,y_prediction)\n",
        "cm"
      ],
      "execution_count": null,
      "outputs": [
        {
          "output_type": "execute_result",
          "data": {
            "text/plain": [
              "array([[191,   0],\n",
              "       [  2, 150]])"
            ]
          },
          "metadata": {},
          "execution_count": 47
        }
      ]
    }
  ]
}