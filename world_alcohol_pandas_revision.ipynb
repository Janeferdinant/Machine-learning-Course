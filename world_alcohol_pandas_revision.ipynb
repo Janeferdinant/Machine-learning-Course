{
  "nbformat": 4,
  "nbformat_minor": 0,
  "metadata": {
    "colab": {
      "name": "world_alcohol_pandas_revision.ipynb",
      "provenance": []
    },
    "kernelspec": {
      "name": "python3",
      "display_name": "Python 3"
    },
    "language_info": {
      "name": "python"
    }
  },
  "cells": [
    {
      "cell_type": "code",
      "metadata": {
        "colab": {
          "base_uri": "https://localhost:8080/"
        },
        "id": "CIP6DjRAxLBp",
        "outputId": "91dd4945-6a96-4e3b-db59-2aa3192e5810"
      },
      "source": [
        "import pandas as pd\n",
        "# World alcohol consumption data\n",
        "df = pd.read_csv('world_alcohol.csv')\n",
        "print(\"World alcohol consumption sample data:\")\n",
        "print(df.head())\n",
        "print('\\nShape of the dataframe: ',w_a_con.shape)\n",
        "print('\\nNumber of rows: ',df.shape[0])\n",
        "print('\\nNumber of column: ',df.shape[1])\n",
        "print(\"\\nExtract Column Names:\")\n",
        "print(df.columns)"
      ],
      "execution_count": 7,
      "outputs": [
        {
          "output_type": "stream",
          "name": "stdout",
          "text": [
            "World alcohol consumption sample data:\n",
            "   Year       WHO region                Country Beverage Types  Display Value\n",
            "0  1986  Western Pacific               Viet Nam           Wine           0.00\n",
            "1  1986         Americas                Uruguay          Other           0.50\n",
            "2  1985           Africa           Cte d'Ivoire           Wine           1.62\n",
            "3  1986         Americas               Colombia           Beer           4.27\n",
            "4  1987         Americas  Saint Kitts and Nevis           Beer           1.98\n",
            "\n",
            "Shape of the dataframe:  (100, 5)\n",
            "\n",
            "Number of rows:  100\n",
            "\n",
            "Number of column:  5\n",
            "\n",
            "Extract Column Names:\n",
            "Index(['Year', 'WHO region', 'Country', 'Beverage Types', 'Display Value'], dtype='object')\n"
          ]
        }
      ]
    },
    {
      "cell_type": "code",
      "metadata": {
        "colab": {
          "base_uri": "https://localhost:8080/"
        },
        "id": "8UV3snPzx3-w",
        "outputId": "e43cdd0f-d30a-4509-c13d-85526722c99c"
      },
      "source": [
        "\n",
        "print(df.head())\n",
        "print(\"\\nSelect first 2 rows:\")\n",
        "print(df.iloc[:2])\n",
        "print(\"\\nSelect first 2 columns:\")\n",
        "print(df.iloc[:,:2].head())\n",
        "print(\"\\nSelect 2 specific columns:\")\n",
        "print(df[['Display Value', 'Year']])"
      ],
      "execution_count": 10,
      "outputs": [
        {
          "output_type": "stream",
          "name": "stdout",
          "text": [
            "   Year       WHO region                Country Beverage Types  Display Value\n",
            "0  1986  Western Pacific               Viet Nam           Wine           0.00\n",
            "1  1986         Americas                Uruguay          Other           0.50\n",
            "2  1985           Africa           Cte d'Ivoire           Wine           1.62\n",
            "3  1986         Americas               Colombia           Beer           4.27\n",
            "4  1987         Americas  Saint Kitts and Nevis           Beer           1.98\n",
            "\n",
            "Select first 2 rows:\n",
            "   Year       WHO region   Country Beverage Types  Display Value\n",
            "0  1986  Western Pacific  Viet Nam           Wine            0.0\n",
            "1  1986         Americas   Uruguay          Other            0.5\n",
            "\n",
            "Select first 2 columns:\n",
            "   Year       WHO region\n",
            "0  1986  Western Pacific\n",
            "1  1986         Americas\n",
            "2  1985           Africa\n",
            "3  1986         Americas\n",
            "4  1987         Americas\n",
            "\n",
            "Select 2 specific columns:\n",
            "    Display Value  Year\n",
            "0            0.00  1986\n",
            "1            0.50  1986\n",
            "2            1.62  1985\n",
            "3            4.27  1986\n",
            "4            1.98  1987\n",
            "..            ...   ...\n",
            "95           0.00  1984\n",
            "96           7.38  1985\n",
            "97           0.00  1984\n",
            "98           0.00  1984\n",
            "99           0.00  1985\n",
            "\n",
            "[100 rows x 2 columns]\n"
          ]
        }
      ]
    },
    {
      "cell_type": "code",
      "metadata": {
        "colab": {
          "base_uri": "https://localhost:8080/"
        },
        "id": "eZJGstxQy-Gd",
        "outputId": "b02533a6-f546-4bd9-e1f8-4f4cb4af11cc"
      },
      "source": [
        "import pandas as pd\n",
        "# World alcohol consumption data\n",
        "df = pd.read_csv('world_alcohol.csv')\n",
        "print(\"World alcohol consumption sample data:\")\n",
        "print(df.head())\n",
        "print(\"\\nSelect random number of rows:\")\n",
        "print(df.sample(5))\n",
        "print(\"\\nSelect fraction of randome rows:\")\n",
        "print(df.sample(frac=0.2))"
      ],
      "execution_count": 5,
      "outputs": [
        {
          "output_type": "stream",
          "name": "stdout",
          "text": [
            "World alcohol consumption sample data:\n",
            "   Year       WHO region                Country Beverage Types  Display Value\n",
            "0  1986  Western Pacific               Viet Nam           Wine           0.00\n",
            "1  1986         Americas                Uruguay          Other           0.50\n",
            "2  1985           Africa           Cte d'Ivoire           Wine           1.62\n",
            "3  1986         Americas               Colombia           Beer           4.27\n",
            "4  1987         Americas  Saint Kitts and Nevis           Beer           1.98\n",
            "\n",
            "Select random number of rows:\n",
            "    Year             WHO region  ... Beverage Types Display Value\n",
            "34  1986                 Europe  ...           Wine          0.80\n",
            "4   1987               Americas  ...           Beer          1.98\n",
            "66  1987  Eastern Mediterranean  ...           Wine          0.01\n",
            "69  1986                 Africa  ...        Spirits          0.42\n",
            "12  1985        Western Pacific  ...           Beer          0.00\n",
            "\n",
            "[5 rows x 5 columns]\n",
            "\n",
            "Select fraction of randome rows:\n",
            "    Year             WHO region  ... Beverage Types Display Value\n",
            "68  1989                 Africa  ...           Beer          0.12\n",
            "99  1985        South-East Asia  ...           Wine          0.00\n",
            "8   1986               Americas  ...        Spirits          1.55\n",
            "84  1986        South-East Asia  ...          Other          0.00\n",
            "11  1989               Americas  ...           Beer          0.62\n",
            "43  1984        Western Pacific  ...           Wine          0.03\n",
            "22  1984                 Europe  ...        Spirits          2.67\n",
            "13  1984  Eastern Mediterranean  ...          Other          0.00\n",
            "6   1987                 Africa  ...           Wine          0.13\n",
            "27  1984  Eastern Mediterranean  ...           Beer          2.22\n",
            "16  1984               Americas  ...           Wine          0.06\n",
            "10  1987                 Africa  ...           Wine          0.20\n",
            "24  1985                 Africa  ...          Other           NaN\n",
            "80  1985                 Africa  ...          Other          0.84\n",
            "41  1986                 Europe  ...           Beer          6.82\n",
            "21  1989               Americas  ...        Spirits          4.51\n",
            "36  1987  Eastern Mediterranean  ...           Beer          0.07\n",
            "72  1987                 Africa  ...          Other          0.00\n",
            "30  1986                 Africa  ...          Other          4.48\n",
            "67  1989                 Africa  ...           Beer          0.00\n",
            "\n",
            "[20 rows x 5 columns]\n"
          ]
        }
      ]
    },
    {
      "cell_type": "code",
      "metadata": {
        "colab": {
          "base_uri": "https://localhost:8080/"
        },
        "id": "hN30kRMMz0Uy",
        "outputId": "2b485e87-1334-494c-d765-ef5c5b182533"
      },
      "source": [
        "print(\"\\nMissing values:\")\n",
        "print(df.isnull())\n",
        "print(\"\\nDropping the missing values:\")\n",
        "print(df.dropna())"
      ],
      "execution_count": 9,
      "outputs": [
        {
          "output_type": "stream",
          "name": "stdout",
          "text": [
            "\n",
            "Missing values:\n",
            "     Year  WHO region  Country  Beverage Types  Display Value\n",
            "0   False       False    False           False          False\n",
            "1   False       False    False           False          False\n",
            "2   False       False    False           False          False\n",
            "3   False       False    False           False          False\n",
            "4   False       False    False           False          False\n",
            "..    ...         ...      ...             ...            ...\n",
            "95  False       False    False           False          False\n",
            "96  False       False    False           False          False\n",
            "97  False       False    False           False          False\n",
            "98  False       False    False           False          False\n",
            "99  False       False    False           False          False\n",
            "\n",
            "[100 rows x 5 columns]\n",
            "\n",
            "Dropping the missing values:\n",
            "    Year       WHO region  ... Beverage Types Display Value\n",
            "0   1986  Western Pacific  ...           Wine          0.00\n",
            "1   1986         Americas  ...          Other          0.50\n",
            "2   1985           Africa  ...           Wine          1.62\n",
            "3   1986         Americas  ...           Beer          4.27\n",
            "4   1987         Americas  ...           Beer          1.98\n",
            "..   ...              ...  ...            ...           ...\n",
            "95  1984           Africa  ...          Other          0.00\n",
            "96  1985           Europe  ...           Wine          7.38\n",
            "97  1984  South-East Asia  ...           Wine          0.00\n",
            "98  1984           Africa  ...           Wine          0.00\n",
            "99  1985  South-East Asia  ...           Wine          0.00\n",
            "\n",
            "[95 rows x 5 columns]\n"
          ]
        }
      ]
    },
    {
      "cell_type": "code",
      "metadata": {
        "colab": {
          "base_uri": "https://localhost:8080/"
        },
        "id": "cnZ6Oa3a0yAZ",
        "outputId": "f51a14d6-1ff8-48d3-9bf3-09d912d811e0"
      },
      "source": [
        "print(df.drop_duplicates('WHO region'))"
      ],
      "execution_count": 12,
      "outputs": [
        {
          "output_type": "stream",
          "name": "stdout",
          "text": [
            "    Year             WHO region       Country Beverage Types  Display Value\n",
            "0   1986        Western Pacific      Viet Nam           Wine           0.00\n",
            "1   1986               Americas       Uruguay          Other           0.50\n",
            "2   1985                 Africa  Cte d'Ivoire           Wine           1.62\n",
            "13  1984  Eastern Mediterranean   Afghanistan          Other           0.00\n",
            "18  1984                 Europe        Norway        Spirits           1.62\n",
            "20  1986        South-East Asia       Myanmar           Wine           0.00\n"
          ]
        }
      ]
    },
    {
      "cell_type": "code",
      "metadata": {
        "colab": {
          "base_uri": "https://localhost:8080/"
        },
        "id": "k8BDJz3m1qmg",
        "outputId": "ee71c2c9-cacf-4fb2-8171-60e7b2cba999"
      },
      "source": [
        "print(df.head())\n",
        "print(\"\\nThe world alcohol consumption details in the year 1985:\")\n",
        "print(df[df['Year']==1985].head(10))\n",
        "print(\"\\nThe world alcohol consumption details in the year 1989:\")\n",
        "print(df[df['Year']==1989].head(10))"
      ],
      "execution_count": 13,
      "outputs": [
        {
          "output_type": "stream",
          "name": "stdout",
          "text": [
            "   Year       WHO region                Country Beverage Types  Display Value\n",
            "0  1986  Western Pacific               Viet Nam           Wine           0.00\n",
            "1  1986         Americas                Uruguay          Other           0.50\n",
            "2  1985           Africa           Cte d'Ivoire           Wine           1.62\n",
            "3  1986         Americas               Colombia           Beer           4.27\n",
            "4  1987         Americas  Saint Kitts and Nevis           Beer           1.98\n",
            "\n",
            "The world alcohol consumption details in the year 1985:\n",
            "    Year       WHO region  ... Beverage Types Display Value\n",
            "2   1985           Africa  ...           Wine          1.62\n",
            "7   1985           Africa  ...        Spirits          0.39\n",
            "12  1985  Western Pacific  ...           Beer          0.00\n",
            "14  1985  Western Pacific  ...        Spirits          0.05\n",
            "24  1985           Africa  ...          Other           NaN\n",
            "26  1985           Europe  ...           Wine          1.36\n",
            "33  1985           Africa  ...          Other          0.00\n",
            "35  1985         Americas  ...        Spirits          2.24\n",
            "44  1985           Europe  ...          Other           NaN\n",
            "50  1985           Europe  ...          Other          0.30\n",
            "\n",
            "[10 rows x 5 columns]\n",
            "\n",
            "The world alcohol consumption details in the year 1989:\n",
            "    Year             WHO region  ... Beverage Types Display Value\n",
            "11  1989               Americas  ...           Beer          0.62\n",
            "17  1989                 Africa  ...           Beer          2.23\n",
            "21  1989               Americas  ...        Spirits          4.51\n",
            "32  1989                 Africa  ...           Beer          1.60\n",
            "45  1989                 Africa  ...           Beer          0.19\n",
            "55  1989               Americas  ...           Wine          0.04\n",
            "57  1989                 Europe  ...           Wine          5.10\n",
            "59  1989  Eastern Mediterranean  ...          Other          0.00\n",
            "64  1989               Americas  ...           Beer          1.26\n",
            "65  1989  Eastern Mediterranean  ...           Beer          0.00\n",
            "\n",
            "[10 rows x 5 columns]\n"
          ]
        }
      ]
    },
    {
      "cell_type": "code",
      "metadata": {
        "colab": {
          "base_uri": "https://localhost:8080/"
        },
        "id": "ipaju1pH3NCL",
        "outputId": "18a452d2-f393-4901-904e-f318a4595bcc"
      },
      "source": [
        "print(\"\\nThe world alcohol consumption details where year is 1987 or 1989:\")\n",
        "print((df[(df['Year']==1987) | (df['Year']==1989)]).head(10))"
      ],
      "execution_count": 15,
      "outputs": [
        {
          "output_type": "stream",
          "name": "stdout",
          "text": [
            "\n",
            "The world alcohol consumption details where year is 1987 or 1989:\n",
            "    Year       WHO region                Country Beverage Types  Display Value\n",
            "4   1987         Americas  Saint Kitts and Nevis           Beer           1.98\n",
            "5   1987         Americas              Guatemala          Other           0.00\n",
            "6   1987           Africa              Mauritius           Wine           0.13\n",
            "10  1987           Africa               Botswana           Wine           0.20\n",
            "11  1989         Americas              Guatemala           Beer           0.62\n",
            "15  1987           Africa          Guinea-Bissau           Wine           0.07\n",
            "17  1989           Africa             Seychelles           Beer           2.23\n",
            "21  1989         Americas             Costa Rica        Spirits           4.51\n",
            "28  1987  Western Pacific               Viet Nam           Beer           0.11\n",
            "32  1989           Africa              Mauritius           Beer           1.60\n"
          ]
        }
      ]
    },
    {
      "cell_type": "code",
      "metadata": {
        "colab": {
          "base_uri": "https://localhost:8080/"
        },
        "id": "X0kp1Uyf4LPk",
        "outputId": "9d4c793a-cacf-46cd-8fbd-c61a3889b985"
      },
      "source": [
        "print(\"\\nThe world alcohol consumption details by the Americas in the 1985:\")\n",
        "print(df[(df['Year']==1989) & (df['WHO region']=='Americas')])"
      ],
      "execution_count": 18,
      "outputs": [
        {
          "output_type": "stream",
          "name": "stdout",
          "text": [
            "\n",
            "The world alcohol consumption details by the Americas in the 1985:\n",
            "    Year WHO region  ... Beverage Types Display Value\n",
            "11  1989   Americas  ...           Beer          0.62\n",
            "21  1989   Americas  ...        Spirits          4.51\n",
            "55  1989   Americas  ...           Wine          0.04\n",
            "64  1989   Americas  ...           Beer          1.26\n",
            "78  1989   Americas  ...          Other          0.00\n",
            "\n",
            "[5 rows x 5 columns]\n"
          ]
        }
      ]
    },
    {
      "cell_type": "code",
      "metadata": {
        "colab": {
          "base_uri": "https://localhost:8080/"
        },
        "id": "nXj5FLFI4vKV",
        "outputId": "a1ce221c-2f9a-42cd-d79c-5eb33978ba4c"
      },
      "source": [
        "print(\"\\nThe world alcohol consumption details in the year 1986 where WHO region is Western Pacific and country is VietNam :\")\n",
        "print(df[(df['Year']==1986) & (df['WHO region']=='Western Pacific') & (df['Country']=='Viet Nam')])\n"
      ],
      "execution_count": 17,
      "outputs": [
        {
          "output_type": "stream",
          "name": "stdout",
          "text": [
            "\n",
            "The world alcohol consumption details in the year 1986 where WHO region is Western Pacific and country is VietNam :\n",
            "   Year       WHO region   Country Beverage Types  Display Value\n",
            "0  1986  Western Pacific  Viet Nam           Wine            0.0\n"
          ]
        }
      ]
    },
    {
      "cell_type": "code",
      "metadata": {
        "colab": {
          "base_uri": "https://localhost:8080/"
        },
        "id": "Y3walwiW5olJ",
        "outputId": "c8d3ef39-9cc1-4877-f1cb-d5ad91fbcca1"
      },
      "source": [
        "print(\"\\nThe world alcohol consumption details in the year '1986' or '1989' where  WHO region is 'Americas' :\")\n",
        "print(df[((df['Year']==1986) | (df['Year']==1989))  & (df['WHO region']=='Americas')])\n"
      ],
      "execution_count": 24,
      "outputs": [
        {
          "output_type": "stream",
          "name": "stdout",
          "text": [
            "\n",
            "The world alcohol consumption details in the year '1986' or '1989' where  WHO region is 'Americas' :\n",
            "    Year WHO region  ... Beverage Types Display Value\n",
            "1   1986   Americas  ...          Other          0.50\n",
            "3   1986   Americas  ...           Beer          4.27\n",
            "8   1986   Americas  ...        Spirits          1.55\n",
            "11  1989   Americas  ...           Beer          0.62\n",
            "21  1989   Americas  ...        Spirits          4.51\n",
            "47  1986   Americas  ...          Other          0.04\n",
            "55  1989   Americas  ...           Wine          0.04\n",
            "64  1989   Americas  ...           Beer          1.26\n",
            "74  1986   Americas  ...        Spirits          2.06\n",
            "78  1989   Americas  ...          Other          0.00\n",
            "86  1986   Americas  ...           Wine          1.83\n",
            "\n",
            "[11 rows x 5 columns]\n"
          ]
        }
      ]
    },
    {
      "cell_type": "code",
      "metadata": {
        "colab": {
          "base_uri": "https://localhost:8080/"
        },
        "id": "LCIQLysQ6xmD",
        "outputId": "231e0ba5-e196-4304-9b12-a1fda4f75a7b"
      },
      "source": [
        "print(\"\\nThe world alcohol consumption details in the year ‘1986’ or ‘1989’ where  WHO region is ‘Americas’  or 'Europe':\")\n",
        "print(df[((df['Year']==1985) | (df['Year']==1989)) & ((df['WHO region']=='Americas') | (df['WHO region']=='Europe'))])"
      ],
      "execution_count": 26,
      "outputs": [
        {
          "output_type": "stream",
          "name": "stdout",
          "text": [
            "\n",
            "The world alcohol consumption details in the year ‘1986’ or ‘1989’ where  WHO region is ‘Americas’  or 'Europe':\n",
            "    Year WHO region  ... Beverage Types Display Value\n",
            "11  1989   Americas  ...           Beer          0.62\n",
            "21  1989   Americas  ...        Spirits          4.51\n",
            "26  1985     Europe  ...           Wine          1.36\n",
            "35  1985   Americas  ...        Spirits          2.24\n",
            "44  1985     Europe  ...          Other           NaN\n",
            "50  1985     Europe  ...          Other          0.30\n",
            "55  1989   Americas  ...           Wine          0.04\n",
            "57  1989     Europe  ...           Wine          5.10\n",
            "64  1989   Americas  ...           Beer          1.26\n",
            "78  1989   Americas  ...          Other          0.00\n",
            "79  1989     Europe  ...          Other          2.09\n",
            "81  1985     Europe  ...           Wine          2.54\n",
            "91  1989     Europe  ...           Beer          4.43\n",
            "94  1985     Europe  ...        Spirits          3.06\n",
            "96  1985     Europe  ...           Wine          7.38\n",
            "\n",
            "[15 rows x 5 columns]\n"
          ]
        }
      ]
    },
    {
      "cell_type": "code",
      "metadata": {
        "colab": {
          "base_uri": "https://localhost:8080/"
        },
        "id": "rEkHNcT97jYL",
        "outputId": "aa618d7c-3fe4-449b-f667-91d21d23888c"
      },
      "source": [
        "print(\"\\nThe world alcohol consumption details ('WHO region','Country','Beverage Types') \\nin the year ‘1986’ or ‘1989’ where  WHO region is ‘Americas’  or 'Europe':\")\n",
        "print(df[((df['Year']==1985) | (df['Year']==1989)) & ((df['WHO region']=='Americas') | (df['WHO region']=='Europe'))][['WHO region','Country','Beverage Types']].head(10))\n"
      ],
      "execution_count": 23,
      "outputs": [
        {
          "output_type": "stream",
          "name": "stdout",
          "text": [
            "\n",
            "The world alcohol consumption details ('WHO region','Country','Beverage Types') \n",
            "in the year ‘1986’ or ‘1989’ where  WHO region is ‘Americas’  or 'Europe':\n",
            "   WHO region                                            Country Beverage Types\n",
            "11   Americas                                          Guatemala           Beer\n",
            "21   Americas                                         Costa Rica        Spirits\n",
            "26     Europe  United Kingdom of Great Britain and Northern I...           Wine\n",
            "35   Americas                              Saint Kitts and Nevis        Spirits\n",
            "44     Europe                                          Lithuania          Other\n",
            "50     Europe                                        Switzerland          Other\n",
            "55   Americas                                           Suriname           Wine\n",
            "57     Europe                                            Croatia           Wine\n",
            "64   Americas                   Bolivia (Plurinational State of)           Beer\n",
            "78   Americas                                            Jamaica          Other\n"
          ]
        }
      ]
    },
    {
      "cell_type": "code",
      "metadata": {
        "colab": {
          "base_uri": "https://localhost:8080/"
        },
        "id": "r4zFmsjU8szf",
        "outputId": "64d1da4b-4f1a-47dd-ea39-5a4aba2bba5e"
      },
      "source": [
        "print(\"\\nThe world alcohol consumption details: average consumption of \\nbeverages per person >=5 and Beverage Types is Beer:\")\n",
        "print(df[(df['Display Value'] >= 5) & (df['Beverage Types'] == 'Beer')].head(10))"
      ],
      "execution_count": 25,
      "outputs": [
        {
          "output_type": "stream",
          "name": "stdout",
          "text": [
            "\n",
            "The world alcohol consumption details: average consumption of \n",
            "beverages per person >=5 and Beverage Types is Beer:\n",
            "    Year WHO region         Country Beverage Types  Display Value\n",
            "41  1986     Europe  Czech Republic           Beer           6.82\n"
          ]
        }
      ]
    },
    {
      "cell_type": "code",
      "metadata": {
        "colab": {
          "base_uri": "https://localhost:8080/"
        },
        "id": "NHJpWXX8_Udw",
        "outputId": "c1a7c6c4-261f-4da1-8361-a6c3338f2093"
      },
      "source": [
        "print(\"\\nFiltering records by label or index:\")\n",
        "print(df.loc[0:4, [\"WHO region\", \"Beverage Types\"]])"
      ],
      "execution_count": 28,
      "outputs": [
        {
          "output_type": "stream",
          "name": "stdout",
          "text": [
            "\n",
            "Filtering records by label or index:\n",
            "        WHO region Beverage Types\n",
            "0  Western Pacific           Wine\n",
            "1         Americas          Other\n",
            "2           Africa           Wine\n",
            "3         Americas           Beer\n",
            "4         Americas           Beer\n"
          ]
        }
      ]
    },
    {
      "cell_type": "code",
      "metadata": {
        "colab": {
          "base_uri": "https://localhost:8080/"
        },
        "id": "FTQ7kWdv_way",
        "outputId": "15a88259-9b32-4f0f-a83f-12fb0fec9ca3"
      },
      "source": [
        "print(\"\\nThe world alcohol consumption details: average consumption of \\nbeverages per person >=4 and Beverage Types is Beer:\")\n",
        "print(df[(df['Display Value'] >= 4) & ((df['Beverage Types'] == 'Beer') | (df['Beverage Types'] == 'Wine')| (df['Beverage Types'] == 'Spirits'))].head(10))\n"
      ],
      "execution_count": 30,
      "outputs": [
        {
          "output_type": "stream",
          "name": "stdout",
          "text": [
            "\n",
            "The world alcohol consumption details: average consumption of \n",
            "beverages per person >=4 and Beverage Types is Beer:\n",
            "    Year WHO region         Country Beverage Types  Display Value\n",
            "3   1986   Americas        Colombia           Beer           4.27\n",
            "21  1989   Americas      Costa Rica        Spirits           4.51\n",
            "41  1986     Europe  Czech Republic           Beer           6.82\n",
            "57  1989     Europe         Croatia           Wine           5.10\n",
            "91  1989     Europe        Bulgaria           Beer           4.43\n",
            "96  1985     Europe      Luxembourg           Wine           7.38\n"
          ]
        }
      ]
    },
    {
      "cell_type": "code",
      "metadata": {
        "colab": {
          "base_uri": "https://localhost:8080/"
        },
        "id": "GbnG335zBEd8",
        "outputId": "24b2917e-16dc-4096-ff93-73238e759952"
      },
      "source": [
        "ndf = df.dropna()\n",
        "print(\"\\nMatch if  a given column has a particular sub string:\")\n",
        "print(ndf[ndf[\"WHO region\"].str.contains(\"Ea\")])"
      ],
      "execution_count": 32,
      "outputs": [
        {
          "output_type": "stream",
          "name": "stdout",
          "text": [
            "\n",
            "Match if  a given column has a particular sub string:\n",
            "    Year             WHO region  ... Beverage Types Display Value\n",
            "13  1984  Eastern Mediterranean  ...          Other          0.00\n",
            "20  1986        South-East Asia  ...           Wine          0.00\n",
            "25  1984  Eastern Mediterranean  ...          Other          0.00\n",
            "27  1984  Eastern Mediterranean  ...           Beer          2.22\n",
            "36  1987  Eastern Mediterranean  ...           Beer          0.07\n",
            "38  1987  Eastern Mediterranean  ...          Other          0.00\n",
            "52  1986  Eastern Mediterranean  ...           Wine          0.00\n",
            "53  1984  Eastern Mediterranean  ...           Beer          0.00\n",
            "58  1984  Eastern Mediterranean  ...        Spirits          0.00\n",
            "59  1989  Eastern Mediterranean  ...          Other          0.00\n",
            "60  1987  Eastern Mediterranean  ...          Other          0.00\n",
            "63  1985  Eastern Mediterranean  ...          Other          0.00\n",
            "65  1989  Eastern Mediterranean  ...           Beer          0.00\n",
            "66  1987  Eastern Mediterranean  ...           Wine          0.01\n",
            "73  1986  Eastern Mediterranean  ...          Other          0.01\n",
            "75  1989  Eastern Mediterranean  ...          Other          0.00\n",
            "84  1986        South-East Asia  ...          Other          0.00\n",
            "87  1989  Eastern Mediterranean  ...           Wine          0.01\n",
            "88  1987  Eastern Mediterranean  ...           Beer          0.42\n",
            "89  1986  Eastern Mediterranean  ...           Wine          0.70\n",
            "97  1984        South-East Asia  ...           Wine          0.00\n",
            "99  1985        South-East Asia  ...           Wine          0.00\n",
            "\n",
            "[22 rows x 5 columns]\n"
          ]
        }
      ]
    },
    {
      "cell_type": "code",
      "metadata": {
        "colab": {
          "base_uri": "https://localhost:8080/"
        },
        "id": "hVeVFCzcBEWr",
        "outputId": "06cd3bca-e531-4cda-c259-60b113085810"
      },
      "source": [
        "flt_wine = ndf[\"WHO region\"].isin([\"Africa\", \"Eastern Mediterranean\", \"Europe\"])\n",
        "print(ndf[flt_wine])"
      ],
      "execution_count": 34,
      "outputs": [
        {
          "output_type": "stream",
          "name": "stdout",
          "text": [
            "    Year WHO region            Country Beverage Types  Display Value\n",
            "2   1985     Africa       Cte d'Ivoire           Wine           1.62\n",
            "6   1987     Africa          Mauritius           Wine           0.13\n",
            "7   1985     Africa             Angola        Spirits           0.39\n",
            "9   1984     Africa            Nigeria          Other           6.10\n",
            "10  1987     Africa           Botswana           Wine           0.20\n",
            "..   ...        ...                ...            ...            ...\n",
            "92  1986     Africa            Eritrea        Spirits           0.00\n",
            "94  1985     Europe            Ukraine        Spirits           3.06\n",
            "95  1984     Africa              Niger          Other           0.00\n",
            "96  1985     Europe         Luxembourg           Wine           7.38\n",
            "98  1984     Africa  Equatorial Guinea           Wine           0.00\n",
            "\n",
            "[64 rows x 5 columns]\n"
          ]
        }
      ]
    },
    {
      "cell_type": "code",
      "metadata": {
        "colab": {
          "base_uri": "https://localhost:8080/"
        },
        "id": "S30PIDt0DptY",
        "outputId": "c0b475aa-d112-482a-cb51-a93eb54903ce"
      },
      "source": [
        "who_region = [\"Africa\", \"Eastern Mediterranean\", \"Europe\"]\n",
        "flt_wine = ~ndf[\"WHO region\"].isin(who_region)\n",
        "print(ndf[flt_wine])"
      ],
      "execution_count": 36,
      "outputs": [
        {
          "output_type": "stream",
          "name": "stdout",
          "text": [
            "    Year       WHO region  ... Beverage Types Display Value\n",
            "0   1986  Western Pacific  ...           Wine          0.00\n",
            "1   1986         Americas  ...          Other          0.50\n",
            "3   1986         Americas  ...           Beer          4.27\n",
            "4   1987         Americas  ...           Beer          1.98\n",
            "5   1987         Americas  ...          Other          0.00\n",
            "8   1986         Americas  ...        Spirits          1.55\n",
            "11  1989         Americas  ...           Beer          0.62\n",
            "12  1985  Western Pacific  ...           Beer          0.00\n",
            "14  1985  Western Pacific  ...        Spirits          0.05\n",
            "16  1984         Americas  ...           Wine          0.06\n",
            "20  1986  South-East Asia  ...           Wine          0.00\n",
            "21  1989         Americas  ...        Spirits          4.51\n",
            "28  1987  Western Pacific  ...           Beer          0.11\n",
            "31  1986  Western Pacific  ...           Wine          0.00\n",
            "35  1985         Americas  ...        Spirits          2.24\n",
            "43  1984  Western Pacific  ...           Wine          0.03\n",
            "46  1987         Americas  ...        Spirits          2.26\n",
            "47  1986         Americas  ...          Other          0.04\n",
            "48  1987         Americas  ...           Beer          0.70\n",
            "54  1984         Americas  ...        Spirits          1.81\n",
            "55  1989         Americas  ...           Wine          0.04\n",
            "56  1987  Western Pacific  ...           Wine          0.00\n",
            "61  1984  Western Pacific  ...        Spirits          0.08\n",
            "62  1987         Americas  ...          Other          0.00\n",
            "64  1989         Americas  ...           Beer          1.26\n",
            "74  1986         Americas  ...        Spirits          2.06\n",
            "78  1989         Americas  ...          Other          0.00\n",
            "84  1986  South-East Asia  ...          Other          0.00\n",
            "86  1986         Americas  ...           Wine          1.83\n",
            "97  1984  South-East Asia  ...           Wine          0.00\n",
            "99  1985  South-East Asia  ...           Wine          0.00\n",
            "\n",
            "[31 rows x 5 columns]\n"
          ]
        }
      ]
    },
    {
      "cell_type": "code",
      "metadata": {
        "colab": {
          "base_uri": "https://localhost:8080/"
        },
        "id": "jHL6FVZyE8AU",
        "outputId": "d1634e65-6c7e-4bf6-86df-e21cd8a672a6"
      },
      "source": [
        "print(\"\\nFilter all records where the average consumption of beverages per person from .5 to 2.50.:\")\n",
        "print(df[(df['Display Value'] < 2.5) & (df['Display Value']>.5)])"
      ],
      "execution_count": 40,
      "outputs": [
        {
          "output_type": "stream",
          "name": "stdout",
          "text": [
            "\n",
            "Filter all records where the average consumption of beverages per person from .5 to 2.50.:\n",
            "    Year             WHO region  ... Beverage Types Display Value\n",
            "2   1985                 Africa  ...           Wine          1.62\n",
            "4   1987               Americas  ...           Beer          1.98\n",
            "8   1986               Americas  ...        Spirits          1.55\n",
            "11  1989               Americas  ...           Beer          0.62\n",
            "17  1989                 Africa  ...           Beer          2.23\n",
            "18  1984                 Europe  ...        Spirits          1.62\n",
            "19  1984                 Africa  ...           Beer          1.08\n",
            "26  1985                 Europe  ...           Wine          1.36\n",
            "27  1984  Eastern Mediterranean  ...           Beer          2.22\n",
            "32  1989                 Africa  ...           Beer          1.60\n",
            "34  1986                 Europe  ...           Wine          0.80\n",
            "35  1985               Americas  ...        Spirits          2.24\n",
            "40  1987                 Europe  ...        Spirits          1.90\n",
            "46  1987               Americas  ...        Spirits          2.26\n",
            "48  1987               Americas  ...           Beer          0.70\n",
            "49  1986                 Europe  ...           Wine          1.49\n",
            "54  1984               Americas  ...        Spirits          1.81\n",
            "64  1989               Americas  ...           Beer          1.26\n",
            "70  1986                 Africa  ...        Spirits          1.02\n",
            "71  1985                 Africa  ...          Other          0.57\n",
            "74  1986               Americas  ...        Spirits          2.06\n",
            "79  1989                 Europe  ...          Other          2.09\n",
            "80  1985                 Africa  ...          Other          0.84\n",
            "82  1987                 Europe  ...        Spirits          2.25\n",
            "86  1986               Americas  ...           Wine          1.83\n",
            "89  1986  Eastern Mediterranean  ...           Wine          0.70\n",
            "\n",
            "[26 rows x 5 columns]\n"
          ]
        }
      ]
    },
    {
      "cell_type": "code",
      "metadata": {
        "colab": {
          "base_uri": "https://localhost:8080/"
        },
        "id": "g4jGFRJcGJ10",
        "outputId": "e3fd4671-d907-410a-c3b1-1b0cc3387ea9"
      },
      "source": [
        "print(\"\\nAverage consumption of wine per person greater than 2:\")\n",
        "print(df[(df['Beverage Types'] == 'Wine') & (df['Display Value'] > .2)].count())"
      ],
      "execution_count": 39,
      "outputs": [
        {
          "output_type": "stream",
          "name": "stdout",
          "text": [
            "\n",
            "Average consumption of wine per person greater than 2:\n",
            "Year              9\n",
            "WHO region        9\n",
            "Country           9\n",
            "Beverage Types    9\n",
            "Display Value     9\n",
            "dtype: int64\n"
          ]
        }
      ]
    },
    {
      "cell_type": "code",
      "metadata": {
        "colab": {
          "base_uri": "https://localhost:8080/"
        },
        "id": "wsKCWxQlG-yz",
        "outputId": "7c601a08-d719-4e44-9b30-f936168348dc"
      },
      "source": [
        "print(\"\\nFilter rows based on row numbers ended with 0, like 0, 10, 20, 30:\")\n",
        "print(df.filter(regex='0$', axis=0))"
      ],
      "execution_count": 41,
      "outputs": [
        {
          "output_type": "stream",
          "name": "stdout",
          "text": [
            "\n",
            "Filter rows based on row numbers ended with 0, like 0, 10, 20, 30:\n",
            "    Year             WHO region  ... Beverage Types Display Value\n",
            "0   1986        Western Pacific  ...           Wine          0.00\n",
            "10  1987                 Africa  ...           Wine          0.20\n",
            "20  1986        South-East Asia  ...           Wine          0.00\n",
            "30  1986                 Africa  ...          Other          4.48\n",
            "40  1987                 Europe  ...        Spirits          1.90\n",
            "50  1985                 Europe  ...          Other          0.30\n",
            "60  1987  Eastern Mediterranean  ...          Other          0.00\n",
            "70  1986                 Africa  ...        Spirits          1.02\n",
            "80  1985                 Africa  ...          Other          0.84\n",
            "90  1989                 Africa  ...           Wine          0.01\n",
            "\n",
            "[10 rows x 5 columns]\n"
          ]
        }
      ]
    },
    {
      "cell_type": "code",
      "metadata": {
        "colab": {
          "base_uri": "https://localhost:8080/"
        },
        "id": "12aqjL46HsiX",
        "outputId": "70b2380c-05cb-4464-c47d-0a15f57669fa"
      },
      "source": [
        "print(df.loc[:,\"Country\":\"Display Value\"].head())"
      ],
      "execution_count": 42,
      "outputs": [
        {
          "output_type": "stream",
          "name": "stdout",
          "text": [
            "                 Country Beverage Types  Display Value\n",
            "0               Viet Nam           Wine           0.00\n",
            "1                Uruguay          Other           0.50\n",
            "2           Cte d'Ivoire           Wine           1.62\n",
            "3               Colombia           Beer           4.27\n",
            "4  Saint Kitts and Nevis           Beer           1.98\n"
          ]
        }
      ]
    },
    {
      "cell_type": "code",
      "metadata": {
        "colab": {
          "base_uri": "https://localhost:8080/"
        },
        "id": "lSiEva2aH3V_",
        "outputId": "03269868-5543-4a44-fe04-1fe72de31b10"
      },
      "source": [
        "print(df.iloc[:,2:5].head())"
      ],
      "execution_count": 43,
      "outputs": [
        {
          "output_type": "stream",
          "name": "stdout",
          "text": [
            "                 Country Beverage Types  Display Value\n",
            "0               Viet Nam           Wine           0.00\n",
            "1                Uruguay          Other           0.50\n",
            "2           Cte d'Ivoire           Wine           1.62\n",
            "3               Colombia           Beer           4.27\n",
            "4  Saint Kitts and Nevis           Beer           1.98\n"
          ]
        }
      ]
    },
    {
      "cell_type": "code",
      "metadata": {
        "colab": {
          "base_uri": "https://localhost:8080/"
        },
        "id": "1XOGU8G3IRgj",
        "outputId": "b0debafc-0883-4936-c1e3-08f2eeff244e"
      },
      "source": [
        "print(\"\\nSelect rows with Index label 0 to 9 with specific columns:\")\n",
        "print(df.loc[0:9,[\"Year\",\"Country\",\"Display Value\"]])"
      ],
      "execution_count": 44,
      "outputs": [
        {
          "output_type": "stream",
          "name": "stdout",
          "text": [
            "\n",
            "Select rows with Index label 0 to 9 with specific columns:\n",
            "   Year                Country  Display Value\n",
            "0  1986               Viet Nam           0.00\n",
            "1  1986                Uruguay           0.50\n",
            "2  1985           Cte d'Ivoire           1.62\n",
            "3  1986               Colombia           4.27\n",
            "4  1987  Saint Kitts and Nevis           1.98\n",
            "5  1987              Guatemala           0.00\n",
            "6  1987              Mauritius           0.13\n",
            "7  1985                 Angola           0.39\n",
            "8  1986    Antigua and Barbuda           1.55\n",
            "9  1984                Nigeria           6.10\n"
          ]
        }
      ]
    },
    {
      "cell_type": "code",
      "metadata": {
        "colab": {
          "base_uri": "https://localhost:8080/"
        },
        "id": "nkY5fjt6I96g",
        "outputId": "3efb5a49-a559-4807-a33d-ba4724369540"
      },
      "source": [
        "print(\"\\nRenaming only some of the column names:\")\n",
        "df.rename(columns = {\"WHO region\":\"WHO_region\",\"Display Value\":\"Display_Value\" },inplace = True)\n",
        "print(df.head()) "
      ],
      "execution_count": 45,
      "outputs": [
        {
          "output_type": "stream",
          "name": "stdout",
          "text": [
            "\n",
            "Renaming only some of the column names:\n",
            "   Year       WHO_region                Country Beverage Types  Display_Value\n",
            "0  1986  Western Pacific               Viet Nam           Wine           0.00\n",
            "1  1986         Americas                Uruguay          Other           0.50\n",
            "2  1985           Africa           Cte d'Ivoire           Wine           1.62\n",
            "3  1986         Americas               Colombia           Beer           4.27\n",
            "4  1987         Americas  Saint Kitts and Nevis           Beer           1.98\n"
          ]
        }
      ]
    },
    {
      "cell_type": "code",
      "metadata": {
        "colab": {
          "base_uri": "https://localhost:8080/"
        },
        "id": "DMY283iSJdKz",
        "outputId": "53bf5a45-6f30-4cd1-9400-c9c63f82da49"
      },
      "source": [
        "print(df.loc[:,df.all()])"
      ],
      "execution_count": 46,
      "outputs": [
        {
          "output_type": "stream",
          "name": "stdout",
          "text": [
            "    Year       WHO_region                                Country Beverage Types\n",
            "0   1986  Western Pacific                               Viet Nam           Wine\n",
            "1   1986         Americas                                Uruguay          Other\n",
            "2   1985           Africa                           Cte d'Ivoire           Wine\n",
            "3   1986         Americas                               Colombia           Beer\n",
            "4   1987         Americas                  Saint Kitts and Nevis           Beer\n",
            "..   ...              ...                                    ...            ...\n",
            "95  1984           Africa                                  Niger          Other\n",
            "96  1985           Europe                             Luxembourg           Wine\n",
            "97  1984  South-East Asia                              Indonesia           Wine\n",
            "98  1984           Africa                      Equatorial Guinea           Wine\n",
            "99  1985  South-East Asia  Democratic People's Republic of Korea           Wine\n",
            "\n",
            "[100 rows x 4 columns]\n"
          ]
        }
      ]
    },
    {
      "cell_type": "code",
      "metadata": {
        "colab": {
          "base_uri": "https://localhost:8080/"
        },
        "id": "48svLif-JsgW",
        "outputId": "01e62eb7-0b34-43da-d3c7-7346837a1554"
      },
      "source": [
        "print(\"\\nFind which years have any non-zero values:\")\n",
        "print(df.loc[:,df.any()])"
      ],
      "execution_count": 47,
      "outputs": [
        {
          "output_type": "stream",
          "name": "stdout",
          "text": [
            "\n",
            "Find which years have any non-zero values:\n",
            "    Year       WHO_region  ... Beverage Types Display_Value\n",
            "0   1986  Western Pacific  ...           Wine          0.00\n",
            "1   1986         Americas  ...          Other          0.50\n",
            "2   1985           Africa  ...           Wine          1.62\n",
            "3   1986         Americas  ...           Beer          4.27\n",
            "4   1987         Americas  ...           Beer          1.98\n",
            "..   ...              ...  ...            ...           ...\n",
            "95  1984           Africa  ...          Other          0.00\n",
            "96  1985           Europe  ...           Wine          7.38\n",
            "97  1984  South-East Asia  ...           Wine          0.00\n",
            "98  1984           Africa  ...           Wine          0.00\n",
            "99  1985  South-East Asia  ...           Wine          0.00\n",
            "\n",
            "[100 rows x 5 columns]\n"
          ]
        }
      ]
    },
    {
      "cell_type": "code",
      "metadata": {
        "id": "bt6lUwLkK30E"
      },
      "source": [
        ""
      ],
      "execution_count": null,
      "outputs": []
    },
    {
      "cell_type": "code",
      "metadata": {
        "colab": {
          "base_uri": "https://localhost:8080/"
        },
        "id": "Ua5uXZvOKfay",
        "outputId": "27c8a715-985e-49ed-c8e4-03e33100aa78"
      },
      "source": [
        "print(df.loc[:,df.notnull().all()])\n",
        "print(\"\\nRows and columns has a NaN:\")\n",
        "print(df.loc[:,df.isnull().any()])\n",
        "print(\"\\nDrop rows with any NaNs:\")\n",
        "print(df.dropna(how='any'))"
      ],
      "execution_count": 49,
      "outputs": [
        {
          "output_type": "stream",
          "name": "stdout",
          "text": [
            "    Year       WHO_region                                Country Beverage Types\n",
            "0   1986  Western Pacific                               Viet Nam           Wine\n",
            "1   1986         Americas                                Uruguay          Other\n",
            "2   1985           Africa                           Cte d'Ivoire           Wine\n",
            "3   1986         Americas                               Colombia           Beer\n",
            "4   1987         Americas                  Saint Kitts and Nevis           Beer\n",
            "..   ...              ...                                    ...            ...\n",
            "95  1984           Africa                                  Niger          Other\n",
            "96  1985           Europe                             Luxembourg           Wine\n",
            "97  1984  South-East Asia                              Indonesia           Wine\n",
            "98  1984           Africa                      Equatorial Guinea           Wine\n",
            "99  1985  South-East Asia  Democratic People's Republic of Korea           Wine\n",
            "\n",
            "[100 rows x 4 columns]\n",
            "\n",
            "Rows and columns has a NaN:\n",
            "    Display_Value\n",
            "0            0.00\n",
            "1            0.50\n",
            "2            1.62\n",
            "3            4.27\n",
            "4            1.98\n",
            "..            ...\n",
            "95           0.00\n",
            "96           7.38\n",
            "97           0.00\n",
            "98           0.00\n",
            "99           0.00\n",
            "\n",
            "[100 rows x 1 columns]\n",
            "\n",
            "Drop rows with any NaNs:\n",
            "    Year       WHO_region  ... Beverage Types Display_Value\n",
            "0   1986  Western Pacific  ...           Wine          0.00\n",
            "1   1986         Americas  ...          Other          0.50\n",
            "2   1985           Africa  ...           Wine          1.62\n",
            "3   1986         Americas  ...           Beer          4.27\n",
            "4   1987         Americas  ...           Beer          1.98\n",
            "..   ...              ...  ...            ...           ...\n",
            "95  1984           Africa  ...          Other          0.00\n",
            "96  1985           Europe  ...           Wine          7.38\n",
            "97  1984  South-East Asia  ...           Wine          0.00\n",
            "98  1984           Africa  ...           Wine          0.00\n",
            "99  1985  South-East Asia  ...           Wine          0.00\n",
            "\n",
            "[95 rows x 5 columns]\n"
          ]
        }
      ]
    },
    {
      "cell_type": "code",
      "metadata": {
        "colab": {
          "base_uri": "https://localhost:8080/"
        },
        "id": "U11ciygALXrR",
        "outputId": "48391b35-ab6e-4e07-9802-0c824e53e2bb"
      },
      "source": [
        "print(\"\\nFrom the 'Year' column, access every other column:\")\n",
        "print(df.loc[:,'Year'::2].head(10))\n",
        "print(\"\\nAlternate solution:\")\n",
        "print(df.iloc[:,0::2].head(10))"
      ],
      "execution_count": 50,
      "outputs": [
        {
          "output_type": "stream",
          "name": "stdout",
          "text": [
            "\n",
            "From the 'Year' column, access every other column:\n",
            "   Year                Country  Display_Value\n",
            "0  1986               Viet Nam           0.00\n",
            "1  1986                Uruguay           0.50\n",
            "2  1985           Cte d'Ivoire           1.62\n",
            "3  1986               Colombia           4.27\n",
            "4  1987  Saint Kitts and Nevis           1.98\n",
            "5  1987              Guatemala           0.00\n",
            "6  1987              Mauritius           0.13\n",
            "7  1985                 Angola           0.39\n",
            "8  1986    Antigua and Barbuda           1.55\n",
            "9  1984                Nigeria           6.10\n",
            "\n",
            "Alternate solution:\n",
            "   Year                Country  Display_Value\n",
            "0  1986               Viet Nam           0.00\n",
            "1  1986                Uruguay           0.50\n",
            "2  1985           Cte d'Ivoire           1.62\n",
            "3  1986               Colombia           4.27\n",
            "4  1987  Saint Kitts and Nevis           1.98\n",
            "5  1987              Guatemala           0.00\n",
            "6  1987              Mauritius           0.13\n",
            "7  1985                 Angola           0.39\n",
            "8  1986    Antigua and Barbuda           1.55\n",
            "9  1984                Nigeria           6.10\n"
          ]
        }
      ]
    },
    {
      "cell_type": "code",
      "metadata": {
        "colab": {
          "base_uri": "https://localhost:8080/"
        },
        "id": "DEE5tUWaL1-y",
        "outputId": "0b263ebd-d93f-49c4-93ba-85b2e15eb45d"
      },
      "source": [
        "print(\"\\nStarting from the 2nd row, access every 5th row:\")\n",
        "print(df.iloc[1::5].head(10))"
      ],
      "execution_count": 51,
      "outputs": [
        {
          "output_type": "stream",
          "name": "stdout",
          "text": [
            "\n",
            "Starting from the 2nd row, access every 5th row:\n",
            "    Year             WHO_region  ... Beverage Types Display_Value\n",
            "1   1986               Americas  ...          Other          0.50\n",
            "6   1987                 Africa  ...           Wine          0.13\n",
            "11  1989               Americas  ...           Beer          0.62\n",
            "16  1984               Americas  ...           Wine          0.06\n",
            "21  1989               Americas  ...        Spirits          4.51\n",
            "26  1985                 Europe  ...           Wine          1.36\n",
            "31  1986        Western Pacific  ...           Wine          0.00\n",
            "36  1987  Eastern Mediterranean  ...           Beer          0.07\n",
            "41  1986                 Europe  ...           Beer          6.82\n",
            "46  1987               Americas  ...        Spirits          2.26\n",
            "\n",
            "[10 rows x 5 columns]\n"
          ]
        }
      ]
    }
  ]
}